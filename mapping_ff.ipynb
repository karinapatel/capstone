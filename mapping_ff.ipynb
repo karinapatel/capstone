{
 "cells": [
  {
   "cell_type": "code",
   "execution_count": 59,
   "metadata": {},
   "outputs": [],
   "source": [
    "import yaml\n",
    "from pymongo import MongoClient\n",
    "import time\n",
    "from datetime import datetime,timedelta\n",
    "import pandas as pd\n",
    "import numpy as np\n",
    "import requests\n",
    "from nltk.sentiment.vader import SentimentIntensityAnalyzer\n",
    "import requests\n",
    "import re\n",
    "import unicodedata\n",
    "from unidecode import unidecode"
   ]
  },
  {
   "cell_type": "code",
   "execution_count": 60,
   "metadata": {},
   "outputs": [],
   "source": [
    "%matplotlib inline\n",
    "import numpy as np\n",
    "import matplotlib.pyplot as plt\n",
    "#from mpl_toolkits.basemap import Basemap"
   ]
  },
  {
   "cell_type": "code",
   "execution_count": 61,
   "metadata": {},
   "outputs": [],
   "source": [
    "#plt.figure(figsize=(8, 8))\n",
    "#m = Basemap(projection='ortho', resolution=None, lat_0=50, lon_0=-100)\n",
    "#m.bluemarble(scale=0.5);"
   ]
  },
  {
   "cell_type": "code",
   "execution_count": 62,
   "metadata": {},
   "outputs": [],
   "source": [
    "client = MongoClient()\n",
    "db = client['capstone']\n",
    "coll=db['ff_stores']"
   ]
  },
  {
   "cell_type": "code",
   "execution_count": 63,
   "metadata": {},
   "outputs": [],
   "source": [
    "df = pd.DataFrame(list(coll.find({}).limit(100000)))"
   ]
  },
  {
   "cell_type": "code",
   "execution_count": 91,
   "metadata": {},
   "outputs": [
    {
     "data": {
      "text/plain": [
       "100000"
      ]
     },
     "execution_count": 91,
     "metadata": {},
     "output_type": "execute_result"
    }
   ],
   "source": [
    "len(df)"
   ]
  },
  {
   "cell_type": "code",
   "execution_count": 109,
   "metadata": {},
   "outputs": [],
   "source": [
    "coords = df['full_data'].apply(lambda x: -1 if x['geo'] == None else x['geo']['coordinates'])"
   ]
  },
  {
   "cell_type": "code",
   "execution_count": 110,
   "metadata": {},
   "outputs": [],
   "source": [
    "coords = np.array(coords)"
   ]
  },
  {
   "cell_type": "code",
   "execution_count": 111,
   "metadata": {},
   "outputs": [],
   "source": [
    "df['coords']=coords"
   ]
  },
  {
   "cell_type": "code",
   "execution_count": 112,
   "metadata": {},
   "outputs": [],
   "source": [
    "df['lat']=df['coords'].apply(lambda x: None if x == -1 else x[0])\n",
    "df['long']=df['coords'].apply(lambda x: None if x == -1 else x[1])"
   ]
  },
  {
   "cell_type": "code",
   "execution_count": 113,
   "metadata": {},
   "outputs": [
    {
     "data": {
      "text/html": [
       "<div>\n",
       "<style scoped>\n",
       "    .dataframe tbody tr th:only-of-type {\n",
       "        vertical-align: middle;\n",
       "    }\n",
       "\n",
       "    .dataframe tbody tr th {\n",
       "        vertical-align: top;\n",
       "    }\n",
       "\n",
       "    .dataframe thead th {\n",
       "        text-align: right;\n",
       "    }\n",
       "</style>\n",
       "<table border=\"1\" class=\"dataframe\">\n",
       "  <thead>\n",
       "    <tr style=\"text-align: right;\">\n",
       "      <th></th>\n",
       "      <th>coords</th>\n",
       "      <th>lat</th>\n",
       "      <th>long</th>\n",
       "    </tr>\n",
       "  </thead>\n",
       "  <tbody>\n",
       "    <tr>\n",
       "      <th>0</th>\n",
       "      <td>-1</td>\n",
       "      <td>NaN</td>\n",
       "      <td>NaN</td>\n",
       "    </tr>\n",
       "    <tr>\n",
       "      <th>1</th>\n",
       "      <td>-1</td>\n",
       "      <td>NaN</td>\n",
       "      <td>NaN</td>\n",
       "    </tr>\n",
       "    <tr>\n",
       "      <th>2</th>\n",
       "      <td>-1</td>\n",
       "      <td>NaN</td>\n",
       "      <td>NaN</td>\n",
       "    </tr>\n",
       "    <tr>\n",
       "      <th>3</th>\n",
       "      <td>-1</td>\n",
       "      <td>NaN</td>\n",
       "      <td>NaN</td>\n",
       "    </tr>\n",
       "    <tr>\n",
       "      <th>4</th>\n",
       "      <td>-1</td>\n",
       "      <td>NaN</td>\n",
       "      <td>NaN</td>\n",
       "    </tr>\n",
       "  </tbody>\n",
       "</table>\n",
       "</div>"
      ],
      "text/plain": [
       "  coords  lat  long\n",
       "0     -1  NaN   NaN\n",
       "1     -1  NaN   NaN\n",
       "2     -1  NaN   NaN\n",
       "3     -1  NaN   NaN\n",
       "4     -1  NaN   NaN"
      ]
     },
     "execution_count": 113,
     "metadata": {},
     "output_type": "execute_result"
    }
   ],
   "source": [
    "df[['coords','lat','long']].head()"
   ]
  },
  {
   "cell_type": "code",
   "execution_count": 114,
   "metadata": {},
   "outputs": [],
   "source": [
    "c_dat = df[df['coords'] != -1]"
   ]
  },
  {
   "cell_type": "code",
   "execution_count": 115,
   "metadata": {},
   "outputs": [
    {
     "data": {
      "text/html": [
       "<div>\n",
       "<style scoped>\n",
       "    .dataframe tbody tr th:only-of-type {\n",
       "        vertical-align: middle;\n",
       "    }\n",
       "\n",
       "    .dataframe tbody tr th {\n",
       "        vertical-align: top;\n",
       "    }\n",
       "\n",
       "    .dataframe thead th {\n",
       "        text-align: right;\n",
       "    }\n",
       "</style>\n",
       "<table border=\"1\" class=\"dataframe\">\n",
       "  <thead>\n",
       "    <tr style=\"text-align: right;\">\n",
       "      <th></th>\n",
       "      <th>_id</th>\n",
       "      <th>full_data</th>\n",
       "      <th>keyword</th>\n",
       "      <th>sentiment</th>\n",
       "      <th>text</th>\n",
       "      <th>coords</th>\n",
       "      <th>long</th>\n",
       "      <th>lat</th>\n",
       "    </tr>\n",
       "  </thead>\n",
       "  <tbody>\n",
       "    <tr>\n",
       "      <th>32</th>\n",
       "      <td>5c9b30f7aaedff5572f7cfd2</td>\n",
       "      <td>{'created_at': 'Wed Mar 27 07:56:53 +0000 2019...</td>\n",
       "      <td>mcdonald's</td>\n",
       "      <td>{'neg': 0.0, 'neu': 1.0, 'pos': 0.0, 'compound...</td>\n",
       "      <td>جووووي🤣🤪 (@ Mcdonald's in Al Hufūf, Eastern) h...</td>\n",
       "      <td>[25.39172985, 49.56133054]</td>\n",
       "      <td>49.561331</td>\n",
       "      <td>25.391730</td>\n",
       "    </tr>\n",
       "    <tr>\n",
       "      <th>72</th>\n",
       "      <td>5c9b30f7aaedff5572f7cffa</td>\n",
       "      <td>{'created_at': 'Wed Mar 27 07:38:34 +0000 2019...</td>\n",
       "      <td>mcdonald's</td>\n",
       "      <td>{'neg': 0.0, 'neu': 1.0, 'pos': 0.0, 'compound...</td>\n",
       "      <td>I'm at McDonald's &amp;amp; McCafé - @mcthai in Ba...</td>\n",
       "      <td>[13.72313059, 100.52966555]</td>\n",
       "      <td>100.529666</td>\n",
       "      <td>13.723131</td>\n",
       "    </tr>\n",
       "    <tr>\n",
       "      <th>87</th>\n",
       "      <td>5c9b30f7aaedff5572f7d009</td>\n",
       "      <td>{'created_at': 'Wed Mar 27 07:31:52 +0000 2019...</td>\n",
       "      <td>mcdonald's</td>\n",
       "      <td>{'neg': 0.0, 'neu': 1.0, 'pos': 0.0, 'compound...</td>\n",
       "      <td>'\\nمايضيق صاحب البسمة الحلوه دامه صاحبي.. @ Mc...</td>\n",
       "      <td>[24.58581389, 46.77801667]</td>\n",
       "      <td>46.778017</td>\n",
       "      <td>24.585814</td>\n",
       "    </tr>\n",
       "    <tr>\n",
       "      <th>111</th>\n",
       "      <td>5c9b30f8aaedff5572f7d021</td>\n",
       "      <td>{'created_at': 'Wed Mar 27 07:20:06 +0000 2019...</td>\n",
       "      <td>mcdonald's</td>\n",
       "      <td>{'neg': 0.0, 'neu': 1.0, 'pos': 0.0, 'compound...</td>\n",
       "      <td>I'm at McDonald's in Davao City https://t.co/G...</td>\n",
       "      <td>[7.09828312, 125.61483004]</td>\n",
       "      <td>125.614830</td>\n",
       "      <td>7.098283</td>\n",
       "    </tr>\n",
       "    <tr>\n",
       "      <th>127</th>\n",
       "      <td>5c9b30f8aaedff5572f7d031</td>\n",
       "      <td>{'created_at': 'Wed Mar 27 07:13:14 +0000 2019...</td>\n",
       "      <td>mcdonald's</td>\n",
       "      <td>{'neg': 0.0, 'neu': 1.0, 'pos': 0.0, 'compound...</td>\n",
       "      <td>I'm at McDonald's in Kuwait, KUWAIT https://t....</td>\n",
       "      <td>[29.30173478, 47.90301974]</td>\n",
       "      <td>47.903020</td>\n",
       "      <td>29.301735</td>\n",
       "    </tr>\n",
       "  </tbody>\n",
       "</table>\n",
       "</div>"
      ],
      "text/plain": [
       "                          _id  \\\n",
       "32   5c9b30f7aaedff5572f7cfd2   \n",
       "72   5c9b30f7aaedff5572f7cffa   \n",
       "87   5c9b30f7aaedff5572f7d009   \n",
       "111  5c9b30f8aaedff5572f7d021   \n",
       "127  5c9b30f8aaedff5572f7d031   \n",
       "\n",
       "                                             full_data     keyword  \\\n",
       "32   {'created_at': 'Wed Mar 27 07:56:53 +0000 2019...  mcdonald's   \n",
       "72   {'created_at': 'Wed Mar 27 07:38:34 +0000 2019...  mcdonald's   \n",
       "87   {'created_at': 'Wed Mar 27 07:31:52 +0000 2019...  mcdonald's   \n",
       "111  {'created_at': 'Wed Mar 27 07:20:06 +0000 2019...  mcdonald's   \n",
       "127  {'created_at': 'Wed Mar 27 07:13:14 +0000 2019...  mcdonald's   \n",
       "\n",
       "                                             sentiment  \\\n",
       "32   {'neg': 0.0, 'neu': 1.0, 'pos': 0.0, 'compound...   \n",
       "72   {'neg': 0.0, 'neu': 1.0, 'pos': 0.0, 'compound...   \n",
       "87   {'neg': 0.0, 'neu': 1.0, 'pos': 0.0, 'compound...   \n",
       "111  {'neg': 0.0, 'neu': 1.0, 'pos': 0.0, 'compound...   \n",
       "127  {'neg': 0.0, 'neu': 1.0, 'pos': 0.0, 'compound...   \n",
       "\n",
       "                                                  text  \\\n",
       "32   جووووي🤣🤪 (@ Mcdonald's in Al Hufūf, Eastern) h...   \n",
       "72   I'm at McDonald's &amp; McCafé - @mcthai in Ba...   \n",
       "87   '\\nمايضيق صاحب البسمة الحلوه دامه صاحبي.. @ Mc...   \n",
       "111  I'm at McDonald's in Davao City https://t.co/G...   \n",
       "127  I'm at McDonald's in Kuwait, KUWAIT https://t....   \n",
       "\n",
       "                          coords        long        lat  \n",
       "32    [25.39172985, 49.56133054]   49.561331  25.391730  \n",
       "72   [13.72313059, 100.52966555]  100.529666  13.723131  \n",
       "87    [24.58581389, 46.77801667]   46.778017  24.585814  \n",
       "111   [7.09828312, 125.61483004]  125.614830   7.098283  \n",
       "127   [29.30173478, 47.90301974]   47.903020  29.301735  "
      ]
     },
     "execution_count": 115,
     "metadata": {},
     "output_type": "execute_result"
    }
   ],
   "source": [
    "c_dat.head()"
   ]
  },
  {
   "cell_type": "code",
   "execution_count": 116,
   "metadata": {},
   "outputs": [
    {
     "data": {
      "text/html": [
       "<div>\n",
       "<style scoped>\n",
       "    .dataframe tbody tr th:only-of-type {\n",
       "        vertical-align: middle;\n",
       "    }\n",
       "\n",
       "    .dataframe tbody tr th {\n",
       "        vertical-align: top;\n",
       "    }\n",
       "\n",
       "    .dataframe thead th {\n",
       "        text-align: right;\n",
       "    }\n",
       "</style>\n",
       "<table border=\"1\" class=\"dataframe\">\n",
       "  <thead>\n",
       "    <tr style=\"text-align: right;\">\n",
       "      <th></th>\n",
       "      <th>long</th>\n",
       "      <th>lat</th>\n",
       "    </tr>\n",
       "  </thead>\n",
       "  <tbody>\n",
       "    <tr>\n",
       "      <th>32</th>\n",
       "      <td>49.561331</td>\n",
       "      <td>25.391730</td>\n",
       "    </tr>\n",
       "    <tr>\n",
       "      <th>72</th>\n",
       "      <td>100.529666</td>\n",
       "      <td>13.723131</td>\n",
       "    </tr>\n",
       "    <tr>\n",
       "      <th>87</th>\n",
       "      <td>46.778017</td>\n",
       "      <td>24.585814</td>\n",
       "    </tr>\n",
       "    <tr>\n",
       "      <th>111</th>\n",
       "      <td>125.614830</td>\n",
       "      <td>7.098283</td>\n",
       "    </tr>\n",
       "    <tr>\n",
       "      <th>127</th>\n",
       "      <td>47.903020</td>\n",
       "      <td>29.301735</td>\n",
       "    </tr>\n",
       "  </tbody>\n",
       "</table>\n",
       "</div>"
      ],
      "text/plain": [
       "           long        lat\n",
       "32    49.561331  25.391730\n",
       "72   100.529666  13.723131\n",
       "87    46.778017  24.585814\n",
       "111  125.614830   7.098283\n",
       "127   47.903020  29.301735"
      ]
     },
     "execution_count": 116,
     "metadata": {},
     "output_type": "execute_result"
    }
   ],
   "source": [
    "c_dat[['long','lat']].head()"
   ]
  },
  {
   "cell_type": "code",
   "execution_count": 117,
   "metadata": {},
   "outputs": [
    {
     "data": {
      "text/plain": [
       "3577"
      ]
     },
     "execution_count": 117,
     "metadata": {},
     "output_type": "execute_result"
    }
   ],
   "source": [
    "len(c_dat)"
   ]
  },
  {
   "cell_type": "code",
   "execution_count": 119,
   "metadata": {},
   "outputs": [
    {
     "data": {
      "text/plain": [
       "<matplotlib.collections.PathCollection at 0x11618a7b8>"
      ]
     },
     "execution_count": 119,
     "metadata": {},
     "output_type": "execute_result"
    },
    {
     "data": {
      "image/png": "[encoded data removed]",
      "text/plain": [
       "<Figure size 864x504 with 1 Axes>"
      ]
     },
     "metadata": {
      "needs_background": "light"
     },
     "output_type": "display_data"
    }
   ],
   "source": [
    "fig,ax = plt.subplots(1,1,figsize=(12,7))\n",
    "ax.scatter(c_dat['long'],c_dat['lat'])"
   ]
  },
  {
   "cell_type": "code",
   "execution_count": 133,
   "metadata": {},
   "outputs": [],
   "source": [
    "x = c_dat['full_data']\n",
    "us_dat = c_dat[np.array([i['place']['country_code'] for i in x])=='US']"
   ]
  },
  {
   "cell_type": "code",
   "execution_count": 138,
   "metadata": {},
   "outputs": [],
   "source": [
    "us_dat = us_dat[(us_dat['long']>-130)&(us_dat['lat']>22)]"
   ]
  },
  {
   "cell_type": "code",
   "execution_count": 158,
   "metadata": {},
   "outputs": [],
   "source": [
    "us_col = np.where(us_dat['keyword']==\"mcdonald's\", 'b', 'g')"
   ]
  },
  {
   "cell_type": "code",
   "execution_count": 159,
   "metadata": {},
   "outputs": [
    {
     "data": {
      "text/plain": [
       "(0, 8)"
      ]
     },
     "execution_count": 159,
     "metadata": {},
     "output_type": "execute_result"
    }
   ],
   "source": [
    "us_dat[us_col=='y'].shape"
   ]
  },
  {
   "cell_type": "code",
   "execution_count": 160,
   "metadata": {},
   "outputs": [
    {
     "data": {
      "text/plain": [
       "<matplotlib.collections.PathCollection at 0x11605b438>"
      ]
     },
     "execution_count": 160,
     "metadata": {},
     "output_type": "execute_result"
    },
    {
     "data": {
      "image/png": "[encoded data removed]",
      "text/plain": [
       "<Figure size 864x504 with 1 Axes>"
      ]
     },
     "metadata": {
      "needs_background": "light"
     },
     "output_type": "display_data"
    }
   ],
   "source": [
    "fig,ax = plt.subplots(1,1,figsize=(12,7))\n",
    "ax.scatter(us_dat['long'],us_dat['lat'],c = us_col)"
   ]
  },
  {
   "cell_type": "code",
   "execution_count": 142,
   "metadata": {},
   "outputs": [
    {
     "data": {
      "text/html": [
       "<div>\n",
       "<style scoped>\n",
       "    .dataframe tbody tr th:only-of-type {\n",
       "        vertical-align: middle;\n",
       "    }\n",
       "\n",
       "    .dataframe tbody tr th {\n",
       "        vertical-align: top;\n",
       "    }\n",
       "\n",
       "    .dataframe thead th {\n",
       "        text-align: right;\n",
       "    }\n",
       "</style>\n",
       "<table border=\"1\" class=\"dataframe\">\n",
       "  <thead>\n",
       "    <tr style=\"text-align: right;\">\n",
       "      <th></th>\n",
       "      <th>lat</th>\n",
       "      <th>long</th>\n",
       "    </tr>\n",
       "  </thead>\n",
       "  <tbody>\n",
       "    <tr>\n",
       "      <th>675</th>\n",
       "      <td>33.877187</td>\n",
       "      <td>-118.217950</td>\n",
       "    </tr>\n",
       "    <tr>\n",
       "      <th>983</th>\n",
       "      <td>41.883599</td>\n",
       "      <td>-87.625809</td>\n",
       "    </tr>\n",
       "    <tr>\n",
       "      <th>1073</th>\n",
       "      <td>31.700183</td>\n",
       "      <td>-106.339426</td>\n",
       "    </tr>\n",
       "    <tr>\n",
       "      <th>2286</th>\n",
       "      <td>42.007151</td>\n",
       "      <td>-87.690466</td>\n",
       "    </tr>\n",
       "    <tr>\n",
       "      <th>2436</th>\n",
       "      <td>36.036300</td>\n",
       "      <td>-95.783600</td>\n",
       "    </tr>\n",
       "  </tbody>\n",
       "</table>\n",
       "</div>"
      ],
      "text/plain": [
       "            lat        long\n",
       "675   33.877187 -118.217950\n",
       "983   41.883599  -87.625809\n",
       "1073  31.700183 -106.339426\n",
       "2286  42.007151  -87.690466\n",
       "2436  36.036300  -95.783600"
      ]
     },
     "execution_count": 142,
     "metadata": {},
     "output_type": "execute_result"
    }
   ],
   "source": [
    "us_dat[['lat','long']].head()"
   ]
  },
  {
   "cell_type": "code",
   "execution_count": 143,
   "metadata": {},
   "outputs": [],
   "source": [
    "#clean emojis and remove url\n",
    "def clean_text(inputString):\n",
    "    final = \"\"\n",
    "    for letter in inputString:\n",
    "        try:\n",
    "         letter.encode(\"ascii\")\n",
    "         final += letter\n",
    "        except UnicodeEncodeError:\n",
    "         final += ''\n",
    "    return re.sub(r\"http\\S+\", \"\", final)"
   ]
  },
  {
   "cell_type": "code",
   "execution_count": 144,
   "metadata": {},
   "outputs": [],
   "source": [
    "mini_df = us_dat[['lat','long']]"
   ]
  },
  {
   "cell_type": "code",
   "execution_count": 145,
   "metadata": {},
   "outputs": [
    {
     "name": "stderr",
     "output_type": "stream",
     "text": [
      "/anaconda3/lib/python3.6/site-packages/ipykernel_launcher.py:1: SettingWithCopyWarning: \n",
      "A value is trying to be set on a copy of a slice from a DataFrame.\n",
      "Try using .loc[row_indexer,col_indexer] = value instead\n",
      "\n",
      "See the caveats in the documentation: http://pandas.pydata.org/pandas-docs/stable/indexing.html#indexing-view-versus-copy\n",
      "  \"\"\"Entry point for launching an IPython kernel.\n"
     ]
    }
   ],
   "source": [
    "mini_df['clean_col'] = us_dat['text'].apply(clean_text)"
   ]
  },
  {
   "cell_type": "code",
   "execution_count": 164,
   "metadata": {},
   "outputs": [],
   "source": [
    "#census = []\n",
    "for coords in mini_df[['lat','long']][900:].values:\n",
    "    census.append(get_census(coords))"
   ]
  },
  {
   "cell_type": "code",
   "execution_count": 165,
   "metadata": {},
   "outputs": [
    {
     "data": {
      "text/plain": [
       "1326"
      ]
     },
     "execution_count": 165,
     "metadata": {},
     "output_type": "execute_result"
    }
   ],
   "source": [
    "len(census)"
   ]
  },
  {
   "cell_type": "code",
   "execution_count": 166,
   "metadata": {},
   "outputs": [
    {
     "name": "stderr",
     "output_type": "stream",
     "text": [
      "/anaconda3/lib/python3.6/site-packages/ipykernel_launcher.py:1: SettingWithCopyWarning: \n",
      "A value is trying to be set on a copy of a slice from a DataFrame.\n",
      "Try using .loc[row_indexer,col_indexer] = value instead\n",
      "\n",
      "See the caveats in the documentation: http://pandas.pydata.org/pandas-docs/stable/indexing.html#indexing-view-versus-copy\n",
      "  \"\"\"Entry point for launching an IPython kernel.\n"
     ]
    }
   ],
   "source": [
    "mini_df['census']=census"
   ]
  },
  {
   "cell_type": "code",
   "execution_count": 168,
   "metadata": {},
   "outputs": [
    {
     "data": {
      "text/plain": [
       "(1326, 4)"
      ]
     },
     "execution_count": 168,
     "metadata": {},
     "output_type": "execute_result"
    }
   ],
   "source": [
    "mini_df.shape"
   ]
  },
  {
   "cell_type": "code",
   "execution_count": 169,
   "metadata": {},
   "outputs": [],
   "source": [
    "mini_df.to_csv('map_df.csv')"
   ]
  },
  {
   "cell_type": "code",
   "execution_count": null,
   "metadata": {},
   "outputs": [],
   "source": [
    "census = pd.read_csv()"
   ]
  },
  {
   "cell_type": "code",
   "execution_count": 82,
   "metadata": {},
   "outputs": [
    {
     "data": {
      "text/plain": [
       "2633"
      ]
     },
     "execution_count": 82,
     "metadata": {},
     "output_type": "execute_result"
    }
   ],
   "source": [
    "eng_dat = c_dat[np.array([i['lang'] for i in x])=='en']\n",
    "len(eng_dat)"
   ]
  },
  {
   "cell_type": "code",
   "execution_count": 83,
   "metadata": {},
   "outputs": [
    {
     "data": {
      "text/plain": [
       "array([[  25.39172985,   49.56133054],\n",
       "       [  13.72313059,  100.52966555],\n",
       "       [   7.09828312,  125.61483004],\n",
       "       [  29.30173478,   47.90301974],\n",
       "       [  29.24638668,   47.93582448],\n",
       "       [   1.51162819,  110.30455948],\n",
       "       [   3.0263725 ,  101.58160812],\n",
       "       [  29.30173478,   47.90301974],\n",
       "       [  14.650921  ,  -90.500191  ],\n",
       "       [  13.62483062,  123.18585802],\n",
       "       [  33.877187  , -118.21795   ],\n",
       "       [ -19.85450013,  -43.96093369],\n",
       "       [   1.35305036,  103.94496541],\n",
       "       [   3.11939302,  101.59284034],\n",
       "       [  41.8835986 ,  -87.6258091 ],\n",
       "       [  22.249334  ,  114.148634  ],\n",
       "       [   1.54365134,  103.76262077],\n",
       "       [  31.70018254, -106.33942634],\n",
       "       [  14.62378522,  121.00773681],\n",
       "       [  29.31394979,   48.00429673]])"
      ]
     },
     "execution_count": 83,
     "metadata": {},
     "output_type": "execute_result"
    }
   ],
   "source": [
    "eng_dat[['long','lat']].values[0:20]"
   ]
  },
  {
   "cell_type": "code",
   "execution_count": 84,
   "metadata": {},
   "outputs": [],
   "source": [
    "def get_census(coords):\n",
    "    url='https://geo.fcc.gov/api/census/area?lat={}&lon={}&format=json'.format(coords[0],coords[1])\n",
    "    res = requests.get(url)\n",
    "    if res.json()['results']==[]:\n",
    "        return None\n",
    "    else:\n",
    "        return res.json()['results'][0]['block_fips'][:-4]\n",
    "\n",
    "\n",
    "census = []\n",
    "for coords in us_dat[['long','lat']].values[:20]:\n",
    "    census.append(get_census(coords))"
   ]
  },
  {
   "cell_type": "code",
   "execution_count": 85,
   "metadata": {},
   "outputs": [
    {
     "data": {
      "text/plain": [
       "['06037543202',\n",
       " '17031320100',\n",
       " '48141003901',\n",
       " '17031020302',\n",
       " '40143007503',\n",
       " '48201251000',\n",
       " '37051003201',\n",
       " '37025040703',\n",
       " '13051010809',\n",
       " '40009966800',\n",
       " '34029713500',\n",
       " '12011041200',\n",
       " '48453001100',\n",
       " '37051003201',\n",
       " '18033020300',\n",
       " '51117930800',\n",
       " '06073009603',\n",
       " '06073009603',\n",
       " '06071009500',\n",
       " '06037701902']"
      ]
     },
     "execution_count": 85,
     "metadata": {},
     "output_type": "execute_result"
    }
   ],
   "source": [
    "census"
   ]
  },
  {
   "cell_type": "code",
   "execution_count": 23,
   "metadata": {},
   "outputs": [
    {
     "data": {
      "text/plain": [
       "1677"
      ]
     },
     "execution_count": 23,
     "metadata": {},
     "output_type": "execute_result"
    }
   ],
   "source": [
    "sub_eng = eng_dat[(eng_dat['lat']>-130) & (eng_dat['lat']<-25) & (eng_dat['long']>0)]\n",
    "len(sub_eng)"
   ]
  },
  {
   "cell_type": "code",
   "execution_count": 24,
   "metadata": {
    "scrolled": true
   },
   "outputs": [
    {
     "data": {
      "text/plain": [
       "<matplotlib.collections.PathCollection at 0x13265d208>"
      ]
     },
     "execution_count": 24,
     "metadata": {},
     "output_type": "execute_result"
    },
    {
     "data": {
      "image/png": "[encoded data removed]",
      "text/plain": [
       "<Figure size 864x504 with 1 Axes>"
      ]
     },
     "metadata": {
      "needs_background": "light"
     },
     "output_type": "display_data"
    }
   ],
   "source": [
    "fig,ax = plt.subplots(1,1,figsize=(12,7))\n",
    "ax.scatter(sub_eng['lat'],sub_eng['long'])"
   ]
  },
  {
   "cell_type": "code",
   "execution_count": 73,
   "metadata": {},
   "outputs": [
    {
     "data": {
      "text/plain": [
       "675     Waiting on our dinner.  At least it's not McDo...\n",
       "983     I'm at McDonald's in Chicago, IL https://t.co/...\n",
       "1073    #Chichan #Tone 2 #mood\\n#Valle #Poser #Fake #d...\n",
       "2286    Here for a late lunch! (@ McDonald's in Chicag...\n",
       "2436    McDonald's, it ain't .. 👌 👍 #cigar #botl @eigh...\n",
       "3711    I'm at McDonald's in Kingwood, TX https://t.co...\n",
       "4057    Happy birthday silas_benny 🎂 🎈 #breakfastsquad...\n",
       "5839    I'm at McDonald's in Kannapolis, NC https://t....\n",
       "5919    Uncle @ochocinco meal plan. (@ McDonald's in S...\n",
       "5948    Time to roll...#truckerjackie #5hrjunkie #5hou...\n",
       "6297    I'm at McDonald's - @mcdnytristate in Brick, N...\n",
       "6337    Bra i got to stop drinking 😂😂💀👀‼️ sound like a...\n",
       "6782    Good morning, fatigue, I remember you fondly. ...\n",
       "7221    JB, struggling this morning? Don’t miss breakf...\n",
       "7448    I'm at McDonald's - @mcd_northernind in Butler...\n",
       "7467    Tea time (@ McDonald's in Clarksville, VA) htt...\n",
       "8857    @prosperitygirl1 Black girl magic. @ Starbucks...\n",
       "8879    This dude sitting next to me sleeps like me! (...\n",
       "9275    #keurig #keurigcoffeecorner #coffeetable   #st...\n",
       "9643    I'm at Starbucks in Santa Monica, CA https://t...\n",
       "Name: text, dtype: object"
      ]
     },
     "execution_count": 73,
     "metadata": {},
     "output_type": "execute_result"
    }
   ],
   "source": [
    "us_dat['text'].iloc[:20]"
   ]
  },
  {
   "cell_type": "code",
   "execution_count": 77,
   "metadata": {},
   "outputs": [],
   "source": [
    "result = us_dat['text'].apply(lambda x: re.sub(r\"http\\S+\", \"\", x))"
   ]
  },
  {
   "cell_type": "code",
   "execution_count": 78,
   "metadata": {},
   "outputs": [
    {
     "data": {
      "text/plain": [
       "675       Waiting on our dinner.  At least it's not McDo...\n",
       "983                       I'm at McDonald's in Chicago, IL \n",
       "1073      #Chichan #Tone 2 #mood\\n#Valle #Poser #Fake #d...\n",
       "2286      Here for a late lunch! (@ McDonald's in Chicag...\n",
       "2436      McDonald's, it ain't .. 👌 👍 #cigar #botl @eigh...\n",
       "3711                     I'm at McDonald's in Kingwood, TX \n",
       "4057      Happy birthday silas_benny 🎂 🎈 #breakfastsquad...\n",
       "5839                  I'm at McDonald's in Kannapolis, NC  \n",
       "5919      Uncle @ochocinco meal plan. (@ McDonald's in S...\n",
       "5948      Time to roll...#truckerjackie #5hrjunkie #5hou...\n",
       "6297       I'm at McDonald's - @mcdnytristate in Brick, NJ \n",
       "6337      Bra i got to stop drinking 😂😂💀👀‼️ sound like a...\n",
       "6782      Good morning, fatigue, I remember you fondly. ...\n",
       "7221      JB, struggling this morning? Don’t miss breakf...\n",
       "7448      I'm at McDonald's - @mcd_northernind in Butler...\n",
       "7467           Tea time (@ McDonald's in Clarksville, VA)  \n",
       "8857        @prosperitygirl1 Black girl magic. @ Starbucks \n",
       "8879      This dude sitting next to me sleeps like me! (...\n",
       "9275      #keurig #keurigcoffeecorner #coffeetable   #st...\n",
       "9643                  I'm at Starbucks in Santa Monica, CA \n",
       "10638     Coffee and a frappucino for my star! (@ Starbu...\n",
       "10672             Cafeshito en Times Square. ☕ @ Starbucks \n",
       "10689                  I'm at Starbucks in Celebration, FL \n",
       "10702     original Starbucks having me Sleepless in Seat...\n",
       "10866                     I'm at Starbucks in San Jose, CA \n",
       "10894     Nervous to apply for a job like \"barista - Sto...\n",
       "10998     Much. Needed. #starbucks #quadshot #premierpro...\n",
       "11156     Daily LOL!!! #theangrycauldron #dailylol @ Sta...\n",
       "11208     If you're looking for work in #Clovis, CA, che...\n",
       "11244     Don't be shy. Score a job like \"shift supervis...\n",
       "                                ...                        \n",
       "109873    Don't be shy. Score a job like \"Restaurant Man...\n",
       "109877    This job is now open at Panda Express in #Fres...\n",
       "109878    This #Hospitality job might be a great fit for...\n",
       "109881    Don't submit then quit. Apply for jobs like \"R...\n",
       "109899    If you're looking for work in #Carthage, TX, c...\n",
       "109901    If you're looking for work in #LaCañadaFlintri...\n",
       "109910    Panda Express is looking for teammates like yo...\n",
       "109915    Can you recommend anyone for this #Hospitality...\n",
       "109917    Panda Express is looking for teammates like yo...\n",
       "109918    Interested in a job in #Veradale, WA? This cou...\n",
       "109919    This #Hospitality job might be a great fit for...\n",
       "109934    My guilty pleasure confession: I can’t travel ...\n",
       "109938            Lunch (@ Panda Express in Manitowoc, WI) \n",
       "109948    Join the Panda Express team! See our latest jo...\n",
       "109953    Panda Express is hiring in #Highland, IN! Clic...\n",
       "109956    Interested in a job in #Logan, UTAH? This coul...\n",
       "109963    This job might be a great fit for you: Panda E...\n",
       "109965    Join the Panda Express team! See our latest #H...\n",
       "109971    Don't be shy. Score a job like \"Restaurant Man...\n",
       "109973    We're hiring! Click to apply: Cook - Boise Sta...\n",
       "109974    Can you recommend anyone for this #Hospitality...\n",
       "109979    Looking to score a job at Panda Express? You'r...\n",
       "109982    Don't be shy. Score a job like \"Restaurant Ser...\n",
       "109985    Panda Express is hiring in #LasVegas, NV! Clic...\n",
       "109987    See our latest #Fresno, CA #Hospitality job op...\n",
       "109991    This #Hospitality job might be a great fit for...\n",
       "109992    Panda Express is hiring in #Asheville, NC! Cli...\n",
       "109994    Want to work at Panda Express? We're hiring in...\n",
       "109995     Just posted a photo @ Panda Express Richmond ky \n",
       "109998    Panda Express is hiring in #Bellevue, WA! Read...\n",
       "Name: text, Length: 1479, dtype: object"
      ]
     },
     "execution_count": 78,
     "metadata": {},
     "output_type": "execute_result"
    }
   ],
   "source": [
    "result"
   ]
  },
  {
   "cell_type": "code",
   "execution_count": 94,
   "metadata": {},
   "outputs": [
    {
     "data": {
      "text/plain": [
       "{'neg': 0.0, 'neu': 1.0, 'pos': 0.0, 'compound': 0.0}"
      ]
     },
     "execution_count": 94,
     "metadata": {},
     "output_type": "execute_result"
    }
   ],
   "source": [
    "sid = SentimentIntensityAnalyzer()\n",
    "sid.polarity_scores('hi you are awesome👌 👍')"
   ]
  },
  {
   "cell_type": "code",
   "execution_count": 46,
   "metadata": {},
   "outputs": [],
   "source": [
    "def deEmojify(inputString):\n",
    "    returnString = \"\"\n",
    "    for character in inputString:\n",
    "        try:\n",
    "         character.encode(\"ascii\")\n",
    "         returnString += character\n",
    "        except UnicodeEncodeError:\n",
    "         returnString += ''\n",
    "    return returnString"
   ]
  },
  {
   "cell_type": "code",
   "execution_count": 57,
   "metadata": {},
   "outputs": [
    {
     "data": {
      "text/plain": [
       "'what upstop drinking  soa i got to stop drinking  sound like a big.'"
      ]
     },
     "execution_count": 57,
     "metadata": {},
     "output_type": "execute_result"
    }
   ],
   "source": [
    "deEmojify('what upstop drinking 😂😂💀👀‼️ soa i got to stop drinking ‼️ sound like a big.')"
   ]
  },
  {
   "cell_type": "code",
   "execution_count": 58,
   "metadata": {},
   "outputs": [
    {
     "data": {
      "text/plain": [
       "'what uphellstop drinking ‼️ soo'"
      ]
     },
     "execution_count": 58,
     "metadata": {},
     "output_type": "execute_result"
    }
   ],
   "source": [
    "RE_EMOJI = re.compile('[\\U00010000-\\U0010ffff]', flags=re.UNICODE)\n",
    "\n",
    "def strip_emoji(text):\n",
    "    return RE_EMOJI.sub(r'', text)\n",
    "\n",
    "strip_emoji('what up🙄🤔hellstop drinking 😂😂💀👀‼️ soo')"
   ]
  },
  {
   "cell_type": "code",
   "execution_count": 55,
   "metadata": {},
   "outputs": [],
   "source": [
    "res = us_dat['text'].apply(lambda x: deEmojify(x))"
   ]
  },
  {
   "cell_type": "code",
   "execution_count": 56,
   "metadata": {},
   "outputs": [
    {
     "data": {
      "text/plain": [
       "675     Waiting on our dinner.  At least it's not McDo...\n",
       "983     I'm at McDonald's in Chicago, IL https://t.co/...\n",
       "1073    #Chichan #Tone 2 #mood\\n#Valle #Poser #Fake #d...\n",
       "2286    Here for a late lunch! (@ McDonald's in Chicag...\n",
       "2436    McDonald's, it ain't ..   #cigar #botl @eighty...\n",
       "3711    I'm at McDonald's in Kingwood, TX https://t.co...\n",
       "4057    Happy birthday silas_benny   #breakfastsquad @...\n",
       "Name: text, dtype: object"
      ]
     },
     "execution_count": 56,
     "metadata": {},
     "output_type": "execute_result"
    }
   ],
   "source": [
    "res"
   ]
  },
  {
   "cell_type": "code",
   "execution_count": 54,
   "metadata": {},
   "outputs": [
    {
     "data": {
      "text/plain": [
       "array([{'neg': 0.181, 'neu': 0.819, 'pos': 0.0, 'compound': -0.4356},\n",
       "       {'neg': 0.0, 'neu': 1.0, 'pos': 0.0, 'compound': 0.0},\n",
       "       {'neg': 0.0, 'neu': 1.0, 'pos': 0.0, 'compound': 0.0},\n",
       "       {'neg': 0.0, 'neu': 1.0, 'pos': 0.0, 'compound': 0.0},\n",
       "       {'neg': 0.22, 'neu': 0.78, 'pos': 0.0, 'compound': -0.4767},\n",
       "       {'neg': 0.0, 'neu': 0.65, 'pos': 0.35, 'compound': 0.4995},\n",
       "       {'neg': 0.0, 'neu': 0.575, 'pos': 0.425, 'compound': 0.5719}],\n",
       "      dtype=object)"
      ]
     },
     "execution_count": 54,
     "metadata": {},
     "output_type": "execute_result"
    }
   ],
   "source": [
    "us_dat['sentiment'].values"
   ]
  },
  {
   "cell_type": "code",
   "execution_count": 123,
   "metadata": {},
   "outputs": [],
   "source": [
    "import preprocessor as p\n",
    "\n",
    "def preprocessing_text(text):\n",
    "    '''\n",
    "    INPUT: str\n",
    "    OUTPUT: str w/ emojies, urls, hashtags and mentions removed\n",
    "    '''\n",
    "    p.set_options(p.OPT.EMOJI, p.OPT.URL)\n",
    "    clean_text = p.clean(text)\n",
    "    \n",
    "    return clean_text "
   ]
  },
  {
   "cell_type": "code",
   "execution_count": 147,
   "metadata": {},
   "outputs": [],
   "source": [
    "#clean emojis and remove url\n",
    "def clean_text(inputString):\n",
    "    final = \"\"\n",
    "    for letter in inputString:\n",
    "        try:\n",
    "         letter.encode(\"ascii\")\n",
    "         final += letter\n",
    "        except UnicodeEncodeError:\n",
    "         final += ''\n",
    "    return re.sub(r\"http\\S+\", \"\", final)"
   ]
  },
  {
   "cell_type": "code",
   "execution_count": 148,
   "metadata": {},
   "outputs": [
    {
     "data": {
      "text/plain": [
       "675     Waiting on our dinner.  At least it's not McDo...\n",
       "983     I'm at McDonald's in Chicago, IL https://t.co/...\n",
       "1073    #Chichan #Tone 2 #mood\\n#Valle #Poser #Fake #d...\n",
       "2286    Here for a late lunch! (@ McDonald's in Chicag...\n",
       "2436    McDonald's, it ain't .. 👌 👍 #cigar #botl @eigh...\n",
       "3711    I'm at McDonald's in Kingwood, TX https://t.co...\n",
       "4057    Happy birthday silas_benny 🎂 🎈 #breakfastsquad...\n",
       "5839    I'm at McDonald's in Kannapolis, NC https://t....\n",
       "5919    Uncle @ochocinco meal plan. (@ McDonald's in S...\n",
       "5948    Time to roll...#truckerjackie #5hrjunkie #5hou...\n",
       "6297    I'm at McDonald's - @mcdnytristate in Brick, N...\n",
       "6337    Bra i got to stop drinking 😂😂💀👀‼️ sound like a...\n",
       "6782    Good morning, fatigue, I remember you fondly. ...\n",
       "7221    JB, struggling this morning? Don’t miss breakf...\n",
       "7448    I'm at McDonald's - @mcd_northernind in Butler...\n",
       "7467    Tea time (@ McDonald's in Clarksville, VA) htt...\n",
       "8857    @prosperitygirl1 Black girl magic. @ Starbucks...\n",
       "8879    This dude sitting next to me sleeps like me! (...\n",
       "9275    #keurig #keurigcoffeecorner #coffeetable   #st...\n",
       "9643    I'm at Starbucks in Santa Monica, CA https://t...\n",
       "Name: text, dtype: object"
      ]
     },
     "execution_count": 148,
     "metadata": {},
     "output_type": "execute_result"
    }
   ],
   "source": [
    "us_dat['text'][:20]"
   ]
  },
  {
   "cell_type": "code",
   "execution_count": 149,
   "metadata": {},
   "outputs": [],
   "source": [
    "res = us_dat['text'][:20].apply(lambda x: clean_text(x))"
   ]
  },
  {
   "cell_type": "code",
   "execution_count": 150,
   "metadata": {},
   "outputs": [
    {
     "data": {
      "text/plain": [
       "array([\"Waiting on our dinner.  At least it's not McDonald's. LOL @ El Pollo Loco \",\n",
       "       \"I'm at McDonald's in Chicago, IL \",\n",
       "       \"#Chichan #Tone 2 #mood\\n#Valle #Poser #Fake #dassadhuh #chola #cholarealness #chologram @ McDonald's \",\n",
       "       \"Here for a late lunch! (@ McDonald's in Chicago, IL) \",\n",
       "       \"McDonald's, it ain't ..   #cigar #botl @eighty5cigars @ochocinco @ Broken Arrow, Oklahoma \",\n",
       "       \"I'm at McDonald's in Kingwood, TX \",\n",
       "       \"Happy birthday silas_benny   #breakfastsquad @ McDonald's \",\n",
       "       \"I'm at McDonald's in Kannapolis, NC  \",\n",
       "       \"Uncle @ochocinco meal plan. (@ McDonald's in Savannah, GA) \",\n",
       "       \"Time to roll...#truckerjackie #5hrjunkie #5hourenergy #backto100percent #mochafrappe #alreadygone #phoenix bound @ McDonald's \",\n",
       "       \"I'm at McDonald's - @mcdnytristate in Brick, NJ \",\n",
       "       \"Bra i got to stop drinking  sound like a big ass jit @ McDonald's \",\n",
       "       \"Good morning, fatigue, I remember you fondly. We bathed in the grease on the McDonald's floor and we wanted to jump off the pier at the Seaport. Pondering whether we'd been here before. \",\n",
       "       \"JB, struggling this morning? Dont miss breakfast tomorrow at 7:30! #breakfastsquad @ McDonald's \",\n",
       "       \"I'm at McDonald's - @mcd_northernind in Butler, IN \",\n",
       "       \"Tea time (@ McDonald's in Clarksville, VA)  \",\n",
       "       '@prosperitygirl1 Black girl magic. @ Starbucks ',\n",
       "       'This dude sitting next to me sleeps like me! (@ Starbucks in San Diego, CA) ',\n",
       "       '#keurig #keurigcoffeecorner #coffeetable   #starbucks #breakfast #food #happy #coffeelover #coffeeaddict #coffeeshop #caffeine #instacoffee #tequila #delicious #juicy #oj #wake #wakeup ',\n",
       "       \"I'm at Starbucks in Santa Monica, CA \"], dtype=object)"
      ]
     },
     "execution_count": 150,
     "metadata": {},
     "output_type": "execute_result"
    }
   ],
   "source": [
    "res.values"
   ]
  },
  {
   "cell_type": "code",
   "execution_count": null,
   "metadata": {},
   "outputs": [],
   "source": []
  }
 ],
 "metadata": {
  "kernelspec": {
   "display_name": "Python 3",
   "language": "python",
   "name": "python3"
  },
  "language_info": {
   "codemirror_mode": {
    "name": "ipython",
    "version": 3
   },
   "file_extension": ".py",
   "mimetype": "text/x-python",
   "name": "python",
   "nbconvert_exporter": "python",
   "pygments_lexer": "ipython3",
   "version": "3.6.8"
  }
 },
 "nbformat": 4,
 "nbformat_minor": 2
}
