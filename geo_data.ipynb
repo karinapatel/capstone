{
 "cells": [
  {
   "cell_type": "code",
   "execution_count": 79,
   "metadata": {},
   "outputs": [],
   "source": [
    "from pymongo import MongoClient\n",
    "import pandas as pd\n",
    "import numpy as np\n",
    "from nltk.sentiment.vader import SentimentIntensityAnalyzer\n",
    "import requests\n",
    "import re\n",
    "import unicodedata\n",
    "from unidecode import unidecode\n",
    "import warnings\n",
    "warnings.filterwarnings('ignore')\n",
    "import time"
   ]
  },
  {
   "cell_type": "code",
   "execution_count": 97,
   "metadata": {},
   "outputs": [],
   "source": [
    "client = MongoClient()\n",
    "db = client['capstone']\n",
    "sid = SentimentIntensityAnalyzer()           \n",
    "\n",
    "def pull_geodata(coll_name):\n",
    "    coll=db[coll_name]\n",
    "    query = coll.find({\"full_data.geo\" : {\"$exists\" : True,\"$ne\" : None}})\n",
    "    df = pd.DataFrame(list(query))\n",
    "    return df\n",
    "\n",
    "def clean_text(inputString):\n",
    "    final = \"\"\n",
    "    for letter in inputString:\n",
    "        try:\n",
    "         letter.encode(\"ascii\")\n",
    "         final += letter\n",
    "        except UnicodeEncodeError:\n",
    "         final += ''\n",
    "    return re.sub(r\"http\\S+\", \"\", final)\n",
    "\n",
    "def prep_twitter_df(df):\n",
    "    df['coords'] = df['full_data'].apply(lambda x: x['geo']['coordinates'])\n",
    "    \n",
    "    code = []\n",
    "    for i in df['full_data']:\n",
    "        if i['place']:\n",
    "            code.append(i['place']['country_code'])\n",
    "        else:\n",
    "            code.append(None)\n",
    "    code = np.array(code)\n",
    "    us_df = df[code==\"US\"]\n",
    "    \n",
    "    us_df['lat'] = us_df.coords.apply(lambda x: x[0])\n",
    "    us_df['long'] = us_df.coords.apply(lambda x: x[1])\n",
    "    \n",
    "    us_df['text'] = us_df['text'].apply(clean_text)\n",
    "    \n",
    "    \n",
    "    us_df['sentiment'] = us_df['text'].apply(lambda x: sid.polarity_scores(x))\n",
    "    \n",
    "    return us_df\n",
    "    "
   ]
  },
  {
   "cell_type": "code",
   "execution_count": 134,
   "metadata": {},
   "outputs": [],
   "source": [
    "#join census data\n",
    "def get_census(coords):\n",
    "    url='https://geo.fcc.gov/api/census/area?lat={}&lon={}&format=json'.format(coords[0],coords[1])\n",
    "    res = requests.get(url)\n",
    "    if res.json()['results']==[]:\n",
    "        return None\n",
    "    else:\n",
    "        return res.json()['results'][0]['block_fips'][:-4]\n",
    "\n",
    "def census_df(df):\n",
    "    census = []\n",
    "    count=0\n",
    "    req_count=0\n",
    "    while len(census)< df.shape[0]:\n",
    "        census.append(get_census(df['coords'][count]))\n",
    "        if req_count % 1000 == 0:\n",
    "            print(\"Current count: \",req_count)\n",
    "            time.sleep(30)\n",
    "\n",
    "    df['census']=census\n",
    "    return df\n"
   ]
  },
  {
   "cell_type": "markdown",
   "metadata": {},
   "source": [
    "### HEALTHY FOODS"
   ]
  },
  {
   "cell_type": "code",
   "execution_count": 140,
   "metadata": {},
   "outputs": [],
   "source": [
    "healthy_df = pull_geodata('healthy')"
   ]
  },
  {
   "cell_type": "code",
   "execution_count": 146,
   "metadata": {},
   "outputs": [
    {
     "data": {
      "text/html": [
       "<div>\n",
       "<style scoped>\n",
       "    .dataframe tbody tr th:only-of-type {\n",
       "        vertical-align: middle;\n",
       "    }\n",
       "\n",
       "    .dataframe tbody tr th {\n",
       "        vertical-align: top;\n",
       "    }\n",
       "\n",
       "    .dataframe thead th {\n",
       "        text-align: right;\n",
       "    }\n",
       "</style>\n",
       "<table border=\"1\" class=\"dataframe\">\n",
       "  <thead>\n",
       "    <tr style=\"text-align: right;\">\n",
       "      <th></th>\n",
       "      <th>_id</th>\n",
       "      <th>full_data</th>\n",
       "      <th>keyword</th>\n",
       "      <th>sentiment</th>\n",
       "      <th>text</th>\n",
       "    </tr>\n",
       "  </thead>\n",
       "  <tbody>\n",
       "    <tr>\n",
       "      <th>0</th>\n",
       "      <td>5c9cde8a626b30bd695ddf36</td>\n",
       "      <td>{'created_at': 'Thu Mar 28 13:07:03 +0000 2019...</td>\n",
       "      <td>almond</td>\n",
       "      <td>{'neg': 0.0, 'neu': 0.678, 'pos': 0.322, 'comp...</td>\n",
       "      <td>W E D D I N G  A L M O N D 🥂\\nPink, bright, so...</td>\n",
       "    </tr>\n",
       "    <tr>\n",
       "      <th>1</th>\n",
       "      <td>5c9cde8a626b30bd695ddf3b</td>\n",
       "      <td>{'created_at': 'Thu Mar 28 13:04:25 +0000 2019...</td>\n",
       "      <td>almond</td>\n",
       "      <td>{'neg': 0.0, 'neu': 1.0, 'pos': 0.0, 'compound...</td>\n",
       "      <td>@NutellaUSA #almond #pearl #waffles @ Inn At T...</td>\n",
       "    </tr>\n",
       "    <tr>\n",
       "      <th>2</th>\n",
       "      <td>5c9cde8a626b30bd695ddf42</td>\n",
       "      <td>{'created_at': 'Thu Mar 28 12:59:58 +0000 2019...</td>\n",
       "      <td>almond</td>\n",
       "      <td>{'neg': 0.0, 'neu': 0.791, 'pos': 0.209, 'comp...</td>\n",
       "      <td>Good Spring Morning to all the Beautiful Souls...</td>\n",
       "    </tr>\n",
       "    <tr>\n",
       "      <th>3</th>\n",
       "      <td>5c9cde8a626b30bd695ddf6c</td>\n",
       "      <td>{'created_at': 'Thu Mar 28 12:34:53 +0000 2019...</td>\n",
       "      <td>almond</td>\n",
       "      <td>{'neg': 0.0, 'neu': 1.0, 'pos': 0.0, 'compound...</td>\n",
       "      <td>So good!!!!!\\nTwo scoops Level-1 vanilla ice c...</td>\n",
       "    </tr>\n",
       "    <tr>\n",
       "      <th>4</th>\n",
       "      <td>5c9cde8b626b30bd695ddfd5</td>\n",
       "      <td>{'created_at': 'Thu Mar 28 11:44:10 +0000 2019...</td>\n",
       "      <td>almond</td>\n",
       "      <td>{'neg': 0.0, 'neu': 0.763, 'pos': 0.237, 'comp...</td>\n",
       "      <td>Hello beautiful soul. 💕 Thursday reminder...yo...</td>\n",
       "    </tr>\n",
       "  </tbody>\n",
       "</table>\n",
       "</div>"
      ],
      "text/plain": [
       "                        _id  \\\n",
       "0  5c9cde8a626b30bd695ddf36   \n",
       "1  5c9cde8a626b30bd695ddf3b   \n",
       "2  5c9cde8a626b30bd695ddf42   \n",
       "3  5c9cde8a626b30bd695ddf6c   \n",
       "4  5c9cde8b626b30bd695ddfd5   \n",
       "\n",
       "                                           full_data keyword  \\\n",
       "0  {'created_at': 'Thu Mar 28 13:07:03 +0000 2019...  almond   \n",
       "1  {'created_at': 'Thu Mar 28 13:04:25 +0000 2019...  almond   \n",
       "2  {'created_at': 'Thu Mar 28 12:59:58 +0000 2019...  almond   \n",
       "3  {'created_at': 'Thu Mar 28 12:34:53 +0000 2019...  almond   \n",
       "4  {'created_at': 'Thu Mar 28 11:44:10 +0000 2019...  almond   \n",
       "\n",
       "                                           sentiment  \\\n",
       "0  {'neg': 0.0, 'neu': 0.678, 'pos': 0.322, 'comp...   \n",
       "1  {'neg': 0.0, 'neu': 1.0, 'pos': 0.0, 'compound...   \n",
       "2  {'neg': 0.0, 'neu': 0.791, 'pos': 0.209, 'comp...   \n",
       "3  {'neg': 0.0, 'neu': 1.0, 'pos': 0.0, 'compound...   \n",
       "4  {'neg': 0.0, 'neu': 0.763, 'pos': 0.237, 'comp...   \n",
       "\n",
       "                                                text  \n",
       "0  W E D D I N G  A L M O N D 🥂\\nPink, bright, so...  \n",
       "1  @NutellaUSA #almond #pearl #waffles @ Inn At T...  \n",
       "2  Good Spring Morning to all the Beautiful Souls...  \n",
       "3  So good!!!!!\\nTwo scoops Level-1 vanilla ice c...  \n",
       "4  Hello beautiful soul. 💕 Thursday reminder...yo...  "
      ]
     },
     "execution_count": 146,
     "metadata": {},
     "output_type": "execute_result"
    }
   ],
   "source": [
    "healthy_df.head()"
   ]
  },
  {
   "cell_type": "code",
   "execution_count": 147,
   "metadata": {},
   "outputs": [],
   "source": [
    "us_healthy = prep_twitter_df(healthy_df)"
   ]
  },
  {
   "cell_type": "code",
   "execution_count": 148,
   "metadata": {},
   "outputs": [
    {
     "data": {
      "text/plain": [
       "(3682, 8)"
      ]
     },
     "execution_count": 148,
     "metadata": {},
     "output_type": "execute_result"
    }
   ],
   "source": [
    "us_healthy.shape"
   ]
  },
  {
   "cell_type": "code",
   "execution_count": 121,
   "metadata": {},
   "outputs": [],
   "source": [
    "census=[]"
   ]
  },
  {
   "cell_type": "code",
   "execution_count": 128,
   "metadata": {},
   "outputs": [],
   "source": [
    "for coords in us_healthy['coords'][3000:].values:\n",
    "    census.append(get_census(coords))"
   ]
  },
  {
   "cell_type": "code",
   "execution_count": 129,
   "metadata": {},
   "outputs": [
    {
     "data": {
      "text/plain": [
       "3682"
      ]
     },
     "execution_count": 129,
     "metadata": {},
     "output_type": "execute_result"
    }
   ],
   "source": [
    "len(census)"
   ]
  },
  {
   "cell_type": "code",
   "execution_count": null,
   "metadata": {},
   "outputs": [],
   "source": [
    "census_healthy = census_df(us_healthy)"
   ]
  },
  {
   "cell_type": "code",
   "execution_count": 131,
   "metadata": {},
   "outputs": [],
   "source": [
    "census_healthy = us_healthy"
   ]
  },
  {
   "cell_type": "code",
   "execution_count": 143,
   "metadata": {},
   "outputs": [
    {
     "data": {
      "text/plain": [
       "(3682, 9)"
      ]
     },
     "execution_count": 143,
     "metadata": {},
     "output_type": "execute_result"
    }
   ],
   "source": [
    "census_healthy.shape"
   ]
  },
  {
   "cell_type": "code",
   "execution_count": 133,
   "metadata": {},
   "outputs": [
    {
     "data": {
      "text/html": [
       "<div>\n",
       "<style scoped>\n",
       "    .dataframe tbody tr th:only-of-type {\n",
       "        vertical-align: middle;\n",
       "    }\n",
       "\n",
       "    .dataframe tbody tr th {\n",
       "        vertical-align: top;\n",
       "    }\n",
       "\n",
       "    .dataframe thead th {\n",
       "        text-align: right;\n",
       "    }\n",
       "</style>\n",
       "<table border=\"1\" class=\"dataframe\">\n",
       "  <thead>\n",
       "    <tr style=\"text-align: right;\">\n",
       "      <th></th>\n",
       "      <th>_id</th>\n",
       "      <th>full_data</th>\n",
       "      <th>keyword</th>\n",
       "      <th>sentiment</th>\n",
       "      <th>text</th>\n",
       "      <th>coords</th>\n",
       "      <th>lat</th>\n",
       "      <th>long</th>\n",
       "      <th>census</th>\n",
       "    </tr>\n",
       "  </thead>\n",
       "  <tbody>\n",
       "    <tr>\n",
       "      <th>0</th>\n",
       "      <td>5c9cde8a626b30bd695ddf36</td>\n",
       "      <td>{'created_at': 'Thu Mar 28 13:07:03 +0000 2019...</td>\n",
       "      <td>almond</td>\n",
       "      <td>{'neg': 0.0, 'neu': 0.655, 'pos': 0.345, 'comp...</td>\n",
       "      <td>W E D D I N G  A L M O N D \\nPink, bright, sop...</td>\n",
       "      <td>[40.7537, -73.97254]</td>\n",
       "      <td>40.753700</td>\n",
       "      <td>-73.972540</td>\n",
       "      <td>36061009200</td>\n",
       "    </tr>\n",
       "    <tr>\n",
       "      <th>1</th>\n",
       "      <td>5c9cde8a626b30bd695ddf3b</td>\n",
       "      <td>{'created_at': 'Thu Mar 28 13:04:25 +0000 2019...</td>\n",
       "      <td>almond</td>\n",
       "      <td>{'neg': 0.0, 'neu': 1.0, 'pos': 0.0, 'compound...</td>\n",
       "      <td>@NutellaUSA #almond #pearl #waffles @ Inn At T...</td>\n",
       "      <td>[44.14179362, -71.17940884]</td>\n",
       "      <td>44.141794</td>\n",
       "      <td>-71.179409</td>\n",
       "      <td>33003955100</td>\n",
       "    </tr>\n",
       "    <tr>\n",
       "      <th>2</th>\n",
       "      <td>5c9cde8a626b30bd695ddf42</td>\n",
       "      <td>{'created_at': 'Thu Mar 28 12:59:58 +0000 2019...</td>\n",
       "      <td>almond</td>\n",
       "      <td>{'neg': 0.0, 'neu': 0.785, 'pos': 0.215, 'comp...</td>\n",
       "      <td>Good Spring Morning to all the Beautiful Souls...</td>\n",
       "      <td>[42.1396065, -87.9076157]</td>\n",
       "      <td>42.139606</td>\n",
       "      <td>-87.907616</td>\n",
       "      <td>17031802506</td>\n",
       "    </tr>\n",
       "    <tr>\n",
       "      <th>3</th>\n",
       "      <td>5c9cde8a626b30bd695ddf6c</td>\n",
       "      <td>{'created_at': 'Thu Mar 28 12:34:53 +0000 2019...</td>\n",
       "      <td>almond</td>\n",
       "      <td>{'neg': 0.0, 'neu': 1.0, 'pos': 0.0, 'compound...</td>\n",
       "      <td>So good!!!!!\\nTwo scoops Level-1 vanilla ice c...</td>\n",
       "      <td>[34.924, -81.0282]</td>\n",
       "      <td>34.924000</td>\n",
       "      <td>-81.028200</td>\n",
       "      <td>45091060501</td>\n",
       "    </tr>\n",
       "    <tr>\n",
       "      <th>4</th>\n",
       "      <td>5c9cde8b626b30bd695ddfd5</td>\n",
       "      <td>{'created_at': 'Thu Mar 28 11:44:10 +0000 2019...</td>\n",
       "      <td>almond</td>\n",
       "      <td>{'neg': 0.0, 'neu': 0.755, 'pos': 0.245, 'comp...</td>\n",
       "      <td>Hello beautiful soul.  Thursday reminder...you...</td>\n",
       "      <td>[39.9008, -74.8239]</td>\n",
       "      <td>39.900800</td>\n",
       "      <td>-74.823900</td>\n",
       "      <td>34005703802</td>\n",
       "    </tr>\n",
       "  </tbody>\n",
       "</table>\n",
       "</div>"
      ],
      "text/plain": [
       "                        _id  \\\n",
       "0  5c9cde8a626b30bd695ddf36   \n",
       "1  5c9cde8a626b30bd695ddf3b   \n",
       "2  5c9cde8a626b30bd695ddf42   \n",
       "3  5c9cde8a626b30bd695ddf6c   \n",
       "4  5c9cde8b626b30bd695ddfd5   \n",
       "\n",
       "                                           full_data keyword  \\\n",
       "0  {'created_at': 'Thu Mar 28 13:07:03 +0000 2019...  almond   \n",
       "1  {'created_at': 'Thu Mar 28 13:04:25 +0000 2019...  almond   \n",
       "2  {'created_at': 'Thu Mar 28 12:59:58 +0000 2019...  almond   \n",
       "3  {'created_at': 'Thu Mar 28 12:34:53 +0000 2019...  almond   \n",
       "4  {'created_at': 'Thu Mar 28 11:44:10 +0000 2019...  almond   \n",
       "\n",
       "                                           sentiment  \\\n",
       "0  {'neg': 0.0, 'neu': 0.655, 'pos': 0.345, 'comp...   \n",
       "1  {'neg': 0.0, 'neu': 1.0, 'pos': 0.0, 'compound...   \n",
       "2  {'neg': 0.0, 'neu': 0.785, 'pos': 0.215, 'comp...   \n",
       "3  {'neg': 0.0, 'neu': 1.0, 'pos': 0.0, 'compound...   \n",
       "4  {'neg': 0.0, 'neu': 0.755, 'pos': 0.245, 'comp...   \n",
       "\n",
       "                                                text  \\\n",
       "0  W E D D I N G  A L M O N D \\nPink, bright, sop...   \n",
       "1  @NutellaUSA #almond #pearl #waffles @ Inn At T...   \n",
       "2  Good Spring Morning to all the Beautiful Souls...   \n",
       "3  So good!!!!!\\nTwo scoops Level-1 vanilla ice c...   \n",
       "4  Hello beautiful soul.  Thursday reminder...you...   \n",
       "\n",
       "                        coords        lat       long       census  \n",
       "0         [40.7537, -73.97254]  40.753700 -73.972540  36061009200  \n",
       "1  [44.14179362, -71.17940884]  44.141794 -71.179409  33003955100  \n",
       "2    [42.1396065, -87.9076157]  42.139606 -87.907616  17031802506  \n",
       "3           [34.924, -81.0282]  34.924000 -81.028200  45091060501  \n",
       "4          [39.9008, -74.8239]  39.900800 -74.823900  34005703802  "
      ]
     },
     "execution_count": 133,
     "metadata": {},
     "output_type": "execute_result"
    }
   ],
   "source": [
    "census_healthy.head()"
   ]
  },
  {
   "cell_type": "markdown",
   "metadata": {},
   "source": [
    "### UNHEALTHY FOODS"
   ]
  },
  {
   "cell_type": "code",
   "execution_count": 149,
   "metadata": {},
   "outputs": [],
   "source": [
    "unhealthy_df = pull_geodata('unhealthy')"
   ]
  },
  {
   "cell_type": "code",
   "execution_count": 150,
   "metadata": {},
   "outputs": [
    {
     "data": {
      "text/plain": [
       "(7299, 5)"
      ]
     },
     "execution_count": 150,
     "metadata": {},
     "output_type": "execute_result"
    }
   ],
   "source": [
    "unhealthy_df.shape"
   ]
  },
  {
   "cell_type": "code",
   "execution_count": 151,
   "metadata": {},
   "outputs": [],
   "source": [
    "us_unhealthy = prep_twitter_df(unhealthy_df)"
   ]
  },
  {
   "cell_type": "code",
   "execution_count": 152,
   "metadata": {},
   "outputs": [
    {
     "data": {
      "text/plain": [
       "(4540, 8)"
      ]
     },
     "execution_count": 152,
     "metadata": {},
     "output_type": "execute_result"
    }
   ],
   "source": [
    "us_unhealthy.shape"
   ]
  },
  {
   "cell_type": "code",
   "execution_count": 153,
   "metadata": {},
   "outputs": [
    {
     "ename": "KeyError",
     "evalue": "0",
     "output_type": "error",
     "traceback": [
      "\u001b[0;31m---------------------------------------------------------------------------\u001b[0m",
      "\u001b[0;31mKeyError\u001b[0m                                  Traceback (most recent call last)",
      "\u001b[0;32m<ipython-input-153-7b2ecabd8c16>\u001b[0m in \u001b[0;36m<module>\u001b[0;34m\u001b[0m\n\u001b[0;32m----> 1\u001b[0;31m \u001b[0mcensus_unhealthy\u001b[0m \u001b[0;34m=\u001b[0m \u001b[0mcensus_df\u001b[0m\u001b[0;34m(\u001b[0m\u001b[0mus_unhealthy\u001b[0m\u001b[0;34m)\u001b[0m\u001b[0;34m\u001b[0m\u001b[0;34m\u001b[0m\u001b[0m\n\u001b[0m",
      "\u001b[0;32m<ipython-input-134-ebaefbfb5520>\u001b[0m in \u001b[0;36mcensus_df\u001b[0;34m(df)\u001b[0m\n\u001b[1;32m     13\u001b[0m     \u001b[0mreq_count\u001b[0m\u001b[0;34m=\u001b[0m\u001b[0;36m0\u001b[0m\u001b[0;34m\u001b[0m\u001b[0;34m\u001b[0m\u001b[0m\n\u001b[1;32m     14\u001b[0m     \u001b[0;32mwhile\u001b[0m \u001b[0mlen\u001b[0m\u001b[0;34m(\u001b[0m\u001b[0mcensus\u001b[0m\u001b[0;34m)\u001b[0m\u001b[0;34m<\u001b[0m \u001b[0mdf\u001b[0m\u001b[0;34m.\u001b[0m\u001b[0mshape\u001b[0m\u001b[0;34m[\u001b[0m\u001b[0;36m0\u001b[0m\u001b[0;34m]\u001b[0m\u001b[0;34m:\u001b[0m\u001b[0;34m\u001b[0m\u001b[0;34m\u001b[0m\u001b[0m\n\u001b[0;32m---> 15\u001b[0;31m         \u001b[0mcensus\u001b[0m\u001b[0;34m.\u001b[0m\u001b[0mappend\u001b[0m\u001b[0;34m(\u001b[0m\u001b[0mget_census\u001b[0m\u001b[0;34m(\u001b[0m\u001b[0mdf\u001b[0m\u001b[0;34m[\u001b[0m\u001b[0;34m'coords'\u001b[0m\u001b[0;34m]\u001b[0m\u001b[0;34m[\u001b[0m\u001b[0mcount\u001b[0m\u001b[0;34m]\u001b[0m\u001b[0;34m)\u001b[0m\u001b[0;34m)\u001b[0m\u001b[0;34m\u001b[0m\u001b[0;34m\u001b[0m\u001b[0m\n\u001b[0m\u001b[1;32m     16\u001b[0m         \u001b[0;32mif\u001b[0m \u001b[0mreq_count\u001b[0m \u001b[0;34m%\u001b[0m \u001b[0;36m1000\u001b[0m \u001b[0;34m==\u001b[0m \u001b[0;36m0\u001b[0m\u001b[0;34m:\u001b[0m\u001b[0;34m\u001b[0m\u001b[0;34m\u001b[0m\u001b[0m\n\u001b[1;32m     17\u001b[0m             \u001b[0mprint\u001b[0m\u001b[0;34m(\u001b[0m\u001b[0;34m\"Current count: \"\u001b[0m\u001b[0;34m,\u001b[0m\u001b[0mreq_count\u001b[0m\u001b[0;34m)\u001b[0m\u001b[0;34m\u001b[0m\u001b[0;34m\u001b[0m\u001b[0m\n",
      "\u001b[0;32m/anaconda3/lib/python3.6/site-packages/pandas/core/series.py\u001b[0m in \u001b[0;36m__getitem__\u001b[0;34m(self, key)\u001b[0m\n\u001b[1;32m    621\u001b[0m         \u001b[0mkey\u001b[0m \u001b[0;34m=\u001b[0m \u001b[0mcom\u001b[0m\u001b[0;34m.\u001b[0m\u001b[0m_apply_if_callable\u001b[0m\u001b[0;34m(\u001b[0m\u001b[0mkey\u001b[0m\u001b[0;34m,\u001b[0m \u001b[0mself\u001b[0m\u001b[0;34m)\u001b[0m\u001b[0;34m\u001b[0m\u001b[0;34m\u001b[0m\u001b[0m\n\u001b[1;32m    622\u001b[0m         \u001b[0;32mtry\u001b[0m\u001b[0;34m:\u001b[0m\u001b[0;34m\u001b[0m\u001b[0;34m\u001b[0m\u001b[0m\n\u001b[0;32m--> 623\u001b[0;31m             \u001b[0mresult\u001b[0m \u001b[0;34m=\u001b[0m \u001b[0mself\u001b[0m\u001b[0;34m.\u001b[0m\u001b[0mindex\u001b[0m\u001b[0;34m.\u001b[0m\u001b[0mget_value\u001b[0m\u001b[0;34m(\u001b[0m\u001b[0mself\u001b[0m\u001b[0;34m,\u001b[0m \u001b[0mkey\u001b[0m\u001b[0;34m)\u001b[0m\u001b[0;34m\u001b[0m\u001b[0;34m\u001b[0m\u001b[0m\n\u001b[0m\u001b[1;32m    624\u001b[0m \u001b[0;34m\u001b[0m\u001b[0m\n\u001b[1;32m    625\u001b[0m             \u001b[0;32mif\u001b[0m \u001b[0;32mnot\u001b[0m \u001b[0mis_scalar\u001b[0m\u001b[0;34m(\u001b[0m\u001b[0mresult\u001b[0m\u001b[0;34m)\u001b[0m\u001b[0;34m:\u001b[0m\u001b[0;34m\u001b[0m\u001b[0;34m\u001b[0m\u001b[0m\n",
      "\u001b[0;32m/anaconda3/lib/python3.6/site-packages/pandas/core/indexes/base.py\u001b[0m in \u001b[0;36mget_value\u001b[0;34m(self, series, key)\u001b[0m\n\u001b[1;32m   2558\u001b[0m         \u001b[0;32mtry\u001b[0m\u001b[0;34m:\u001b[0m\u001b[0;34m\u001b[0m\u001b[0;34m\u001b[0m\u001b[0m\n\u001b[1;32m   2559\u001b[0m             return self._engine.get_value(s, k,\n\u001b[0;32m-> 2560\u001b[0;31m                                           tz=getattr(series.dtype, 'tz', None))\n\u001b[0m\u001b[1;32m   2561\u001b[0m         \u001b[0;32mexcept\u001b[0m \u001b[0mKeyError\u001b[0m \u001b[0;32mas\u001b[0m \u001b[0me1\u001b[0m\u001b[0;34m:\u001b[0m\u001b[0;34m\u001b[0m\u001b[0;34m\u001b[0m\u001b[0m\n\u001b[1;32m   2562\u001b[0m             \u001b[0;32mif\u001b[0m \u001b[0mlen\u001b[0m\u001b[0;34m(\u001b[0m\u001b[0mself\u001b[0m\u001b[0;34m)\u001b[0m \u001b[0;34m>\u001b[0m \u001b[0;36m0\u001b[0m \u001b[0;32mand\u001b[0m \u001b[0mself\u001b[0m\u001b[0;34m.\u001b[0m\u001b[0minferred_type\u001b[0m \u001b[0;32min\u001b[0m \u001b[0;34m[\u001b[0m\u001b[0;34m'integer'\u001b[0m\u001b[0;34m,\u001b[0m \u001b[0;34m'boolean'\u001b[0m\u001b[0;34m]\u001b[0m\u001b[0;34m:\u001b[0m\u001b[0;34m\u001b[0m\u001b[0;34m\u001b[0m\u001b[0m\n",
      "\u001b[0;32mpandas/_libs/index.pyx\u001b[0m in \u001b[0;36mpandas._libs.index.IndexEngine.get_value\u001b[0;34m()\u001b[0m\n",
      "\u001b[0;32mpandas/_libs/index.pyx\u001b[0m in \u001b[0;36mpandas._libs.index.IndexEngine.get_value\u001b[0;34m()\u001b[0m\n",
      "\u001b[0;32mpandas/_libs/index.pyx\u001b[0m in \u001b[0;36mpandas._libs.index.IndexEngine.get_loc\u001b[0;34m()\u001b[0m\n",
      "\u001b[0;32mpandas/_libs/hashtable_class_helper.pxi\u001b[0m in \u001b[0;36mpandas._libs.hashtable.Int64HashTable.get_item\u001b[0;34m()\u001b[0m\n",
      "\u001b[0;32mpandas/_libs/hashtable_class_helper.pxi\u001b[0m in \u001b[0;36mpandas._libs.hashtable.Int64HashTable.get_item\u001b[0;34m()\u001b[0m\n",
      "\u001b[0;31mKeyError\u001b[0m: 0"
     ]
    }
   ],
   "source": [
    "census_unhealthy = census_df(us_unhealthy)"
   ]
  },
  {
   "cell_type": "markdown",
   "metadata": {},
   "source": [
    "### GROCERY STORES"
   ]
  },
  {
   "cell_type": "code",
   "execution_count": 105,
   "metadata": {},
   "outputs": [],
   "source": [
    "grocery_df = pull_geodata('grocery_stores')"
   ]
  },
  {
   "cell_type": "code",
   "execution_count": 106,
   "metadata": {},
   "outputs": [
    {
     "data": {
      "text/plain": [
       "(447, 5)"
      ]
     },
     "execution_count": 106,
     "metadata": {},
     "output_type": "execute_result"
    }
   ],
   "source": [
    "grocery_df.shape"
   ]
  },
  {
   "cell_type": "code",
   "execution_count": 107,
   "metadata": {},
   "outputs": [],
   "source": [
    "us_grocery = prep_twitter_df(grocery_df)"
   ]
  },
  {
   "cell_type": "code",
   "execution_count": 108,
   "metadata": {},
   "outputs": [
    {
     "data": {
      "text/plain": [
       "(417, 8)"
      ]
     },
     "execution_count": 108,
     "metadata": {},
     "output_type": "execute_result"
    }
   ],
   "source": [
    "us_grocery.shape"
   ]
  },
  {
   "cell_type": "markdown",
   "metadata": {},
   "source": [
    "### FAST FOOD STORES"
   ]
  },
  {
   "cell_type": "code",
   "execution_count": 109,
   "metadata": {},
   "outputs": [],
   "source": [
    "fastfood_df = pull_geodata('ff_stores')"
   ]
  },
  {
   "cell_type": "code",
   "execution_count": 110,
   "metadata": {},
   "outputs": [
    {
     "data": {
      "text/plain": [
       "(8067, 5)"
      ]
     },
     "execution_count": 110,
     "metadata": {},
     "output_type": "execute_result"
    }
   ],
   "source": [
    "fastfood_df.shape"
   ]
  },
  {
   "cell_type": "code",
   "execution_count": 111,
   "metadata": {},
   "outputs": [],
   "source": [
    "us_fastfood = prep_twitter_df(fastfood_df)"
   ]
  },
  {
   "cell_type": "code",
   "execution_count": 112,
   "metadata": {},
   "outputs": [
    {
     "data": {
      "text/plain": [
       "(4334, 8)"
      ]
     },
     "execution_count": 112,
     "metadata": {},
     "output_type": "execute_result"
    }
   ],
   "source": [
    "us_fastfood.shape"
   ]
  },
  {
   "cell_type": "code",
   "execution_count": null,
   "metadata": {},
   "outputs": [],
   "source": []
  }
 ],
 "metadata": {
  "kernelspec": {
   "display_name": "Python 3",
   "language": "python",
   "name": "python3"
  },
  "language_info": {
   "codemirror_mode": {
    "name": "ipython",
    "version": 3
   },
   "file_extension": ".py",
   "mimetype": "text/x-python",
   "name": "python",
   "nbconvert_exporter": "python",
   "pygments_lexer": "ipython3",
   "version": "3.6.8"
  }
 },
 "nbformat": 4,
 "nbformat_minor": 2
}
