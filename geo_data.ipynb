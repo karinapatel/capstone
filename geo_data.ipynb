{
 "cells": [
  {
   "cell_type": "code",
   "execution_count": 1,
   "metadata": {},
   "outputs": [],
   "source": [
    "from pymongo import MongoClient\n",
    "import pandas as pd\n",
    "import numpy as np\n",
    "from nltk.sentiment.vader import SentimentIntensityAnalyzer\n",
    "import requests\n",
    "import re\n",
    "import unicodedata\n",
    "from unidecode import unidecode\n",
    "import warnings\n",
    "warnings.filterwarnings('ignore')\n",
    "import time\n",
    "import ast\n",
    "from model_prep import prep_data"
   ]
  },
  {
   "cell_type": "code",
   "execution_count": null,
   "metadata": {},
   "outputs": [],
   "source": [
    "client = MongoClient()\n",
    "db = client['capstone']\n",
    "sid = SentimentIntensityAnalyzer()   "
   ]
  },
  {
   "cell_type": "code",
   "execution_count": 2,
   "metadata": {},
   "outputs": [],
   "source": [
    "def pull_geodata(coll_name):\n",
    "    coll=db[coll_name]\n",
    "    query = coll.find({\"full_data.geo\" : {\"$exists\" : True,\"$ne\" : None}})\n",
    "    df = pd.DataFrame(list(query))\n",
    "    return df\n",
    "\n",
    "def clean_text(inputString):\n",
    "    final = \"\"\n",
    "    for letter in inputString:\n",
    "        try:\n",
    "         letter.encode(\"ascii\")\n",
    "         final += letter\n",
    "        except UnicodeEncodeError:\n",
    "         final += ''\n",
    "    return re.sub(r\"http\\S+\", \"\", final)\n",
    "\n",
    "def prep_twitter_df(df):\n",
    "    df['coords'] = df['full_data'].apply(lambda x: x['geo']['coordinates'])\n",
    "    \n",
    "    code = []\n",
    "    for i in df['full_data']:\n",
    "        if i['place']:\n",
    "            code.append(i['place']['country_code'])\n",
    "        else:\n",
    "            code.append(None)\n",
    "    code = np.array(code)\n",
    "    us_df = df[code==\"US\"]\n",
    "    \n",
    "    us_df['lat'] = us_df.coords.apply(lambda x: x[0])\n",
    "    us_df['long'] = us_df.coords.apply(lambda x: x[1])\n",
    "    \n",
    "    us_df['text'] = us_df['text'].apply(lambda x: re.sub(r\"http\\S+\", \"\", x))\n",
    "    \n",
    "    \n",
    "    us_df['sentiment'] = us_df['text'].apply(lambda x: sid.polarity_scores(x))\n",
    "    us_df['sentiment'] = us_df['sentiment'].apply(ast.literal_eval)\n",
    "    return us_df\n",
    "    "
   ]
  },
  {
   "cell_type": "code",
   "execution_count": 175,
   "metadata": {},
   "outputs": [],
   "source": [
    "#join census data\n",
    "def get_census(coords):\n",
    "    url='https://geo.fcc.gov/api/census/area?lat={}&lon={}&format=json'.format(coords[0],coords[1])\n",
    "    res = requests.get(url)\n",
    "    if res.json()['results']==[]:\n",
    "        return None\n",
    "    else:\n",
    "        return res.json()['results'][0]['block_fips'][:-4]\n",
    "\n",
    "def census_df(df):\n",
    "    census = []\n",
    "    count=0\n",
    "    req_count=0\n",
    "    while len(census)< df.shape[0]:\n",
    "        census.append(get_census(df['coords'].iloc[count]))\n",
    "        req_count+=1\n",
    "        count+=1\n",
    "        if req_count % 1000 == 0:\n",
    "            print(\"Current count: \",req_count)\n",
    "            time.sleep(30)\n",
    "\n",
    "    df['census']=census\n",
    "    return df\n"
   ]
  },
  {
   "cell_type": "markdown",
   "metadata": {},
   "source": [
    "### HEALTHY FOODS"
   ]
  },
  {
   "cell_type": "code",
   "execution_count": 140,
   "metadata": {},
   "outputs": [],
   "source": [
    "healthy_df = pull_geodata('healthy')"
   ]
  },
  {
   "cell_type": "code",
   "execution_count": 146,
   "metadata": {},
   "outputs": [
    {
     "data": {
      "text/html": [
       "<div>\n",
       "<style scoped>\n",
       "    .dataframe tbody tr th:only-of-type {\n",
       "        vertical-align: middle;\n",
       "    }\n",
       "\n",
       "    .dataframe tbody tr th {\n",
       "        vertical-align: top;\n",
       "    }\n",
       "\n",
       "    .dataframe thead th {\n",
       "        text-align: right;\n",
       "    }\n",
       "</style>\n",
       "<table border=\"1\" class=\"dataframe\">\n",
       "  <thead>\n",
       "    <tr style=\"text-align: right;\">\n",
       "      <th></th>\n",
       "      <th>_id</th>\n",
       "      <th>full_data</th>\n",
       "      <th>keyword</th>\n",
       "      <th>sentiment</th>\n",
       "      <th>text</th>\n",
       "    </tr>\n",
       "  </thead>\n",
       "  <tbody>\n",
       "    <tr>\n",
       "      <th>0</th>\n",
       "      <td>5c9cde8a626b30bd695ddf36</td>\n",
       "      <td>{'created_at': 'Thu Mar 28 13:07:03 +0000 2019...</td>\n",
       "      <td>almond</td>\n",
       "      <td>{'neg': 0.0, 'neu': 0.678, 'pos': 0.322, 'comp...</td>\n",
       "      <td>W E D D I N G  A L M O N D 🥂\\nPink, bright, so...</td>\n",
       "    </tr>\n",
       "    <tr>\n",
       "      <th>1</th>\n",
       "      <td>5c9cde8a626b30bd695ddf3b</td>\n",
       "      <td>{'created_at': 'Thu Mar 28 13:04:25 +0000 2019...</td>\n",
       "      <td>almond</td>\n",
       "      <td>{'neg': 0.0, 'neu': 1.0, 'pos': 0.0, 'compound...</td>\n",
       "      <td>@NutellaUSA #almond #pearl #waffles @ Inn At T...</td>\n",
       "    </tr>\n",
       "    <tr>\n",
       "      <th>2</th>\n",
       "      <td>5c9cde8a626b30bd695ddf42</td>\n",
       "      <td>{'created_at': 'Thu Mar 28 12:59:58 +0000 2019...</td>\n",
       "      <td>almond</td>\n",
       "      <td>{'neg': 0.0, 'neu': 0.791, 'pos': 0.209, 'comp...</td>\n",
       "      <td>Good Spring Morning to all the Beautiful Souls...</td>\n",
       "    </tr>\n",
       "    <tr>\n",
       "      <th>3</th>\n",
       "      <td>5c9cde8a626b30bd695ddf6c</td>\n",
       "      <td>{'created_at': 'Thu Mar 28 12:34:53 +0000 2019...</td>\n",
       "      <td>almond</td>\n",
       "      <td>{'neg': 0.0, 'neu': 1.0, 'pos': 0.0, 'compound...</td>\n",
       "      <td>So good!!!!!\\nTwo scoops Level-1 vanilla ice c...</td>\n",
       "    </tr>\n",
       "    <tr>\n",
       "      <th>4</th>\n",
       "      <td>5c9cde8b626b30bd695ddfd5</td>\n",
       "      <td>{'created_at': 'Thu Mar 28 11:44:10 +0000 2019...</td>\n",
       "      <td>almond</td>\n",
       "      <td>{'neg': 0.0, 'neu': 0.763, 'pos': 0.237, 'comp...</td>\n",
       "      <td>Hello beautiful soul. 💕 Thursday reminder...yo...</td>\n",
       "    </tr>\n",
       "  </tbody>\n",
       "</table>\n",
       "</div>"
      ],
      "text/plain": [
       "                        _id  \\\n",
       "0  5c9cde8a626b30bd695ddf36   \n",
       "1  5c9cde8a626b30bd695ddf3b   \n",
       "2  5c9cde8a626b30bd695ddf42   \n",
       "3  5c9cde8a626b30bd695ddf6c   \n",
       "4  5c9cde8b626b30bd695ddfd5   \n",
       "\n",
       "                                           full_data keyword  \\\n",
       "0  {'created_at': 'Thu Mar 28 13:07:03 +0000 2019...  almond   \n",
       "1  {'created_at': 'Thu Mar 28 13:04:25 +0000 2019...  almond   \n",
       "2  {'created_at': 'Thu Mar 28 12:59:58 +0000 2019...  almond   \n",
       "3  {'created_at': 'Thu Mar 28 12:34:53 +0000 2019...  almond   \n",
       "4  {'created_at': 'Thu Mar 28 11:44:10 +0000 2019...  almond   \n",
       "\n",
       "                                           sentiment  \\\n",
       "0  {'neg': 0.0, 'neu': 0.678, 'pos': 0.322, 'comp...   \n",
       "1  {'neg': 0.0, 'neu': 1.0, 'pos': 0.0, 'compound...   \n",
       "2  {'neg': 0.0, 'neu': 0.791, 'pos': 0.209, 'comp...   \n",
       "3  {'neg': 0.0, 'neu': 1.0, 'pos': 0.0, 'compound...   \n",
       "4  {'neg': 0.0, 'neu': 0.763, 'pos': 0.237, 'comp...   \n",
       "\n",
       "                                                text  \n",
       "0  W E D D I N G  A L M O N D 🥂\\nPink, bright, so...  \n",
       "1  @NutellaUSA #almond #pearl #waffles @ Inn At T...  \n",
       "2  Good Spring Morning to all the Beautiful Souls...  \n",
       "3  So good!!!!!\\nTwo scoops Level-1 vanilla ice c...  \n",
       "4  Hello beautiful soul. 💕 Thursday reminder...yo...  "
      ]
     },
     "execution_count": 146,
     "metadata": {},
     "output_type": "execute_result"
    }
   ],
   "source": [
    "healthy_df.head()"
   ]
  },
  {
   "cell_type": "code",
   "execution_count": null,
   "metadata": {},
   "outputs": [],
   "source": [
    "us_healthy = prep_twitter_df(healthy_df)"
   ]
  },
  {
   "cell_type": "code",
   "execution_count": 148,
   "metadata": {},
   "outputs": [
    {
     "data": {
      "text/plain": [
       "(3682, 8)"
      ]
     },
     "execution_count": 148,
     "metadata": {},
     "output_type": "execute_result"
    }
   ],
   "source": [
    "us_healthy.shape"
   ]
  },
  {
   "cell_type": "code",
   "execution_count": 121,
   "metadata": {},
   "outputs": [],
   "source": [
    "census=[]"
   ]
  },
  {
   "cell_type": "code",
   "execution_count": 128,
   "metadata": {},
   "outputs": [],
   "source": [
    "for coords in us_healthy['coords'][3000:].values:\n",
    "    census.append(get_census(coords))"
   ]
  },
  {
   "cell_type": "code",
   "execution_count": 129,
   "metadata": {},
   "outputs": [
    {
     "data": {
      "text/plain": [
       "3682"
      ]
     },
     "execution_count": 129,
     "metadata": {},
     "output_type": "execute_result"
    }
   ],
   "source": [
    "len(census)"
   ]
  },
  {
   "cell_type": "code",
   "execution_count": null,
   "metadata": {},
   "outputs": [],
   "source": [
    "census_healthy = census_df(us_healthy)"
   ]
  },
  {
   "cell_type": "code",
   "execution_count": 131,
   "metadata": {},
   "outputs": [],
   "source": [
    "census_healthy = us_healthy"
   ]
  },
  {
   "cell_type": "code",
   "execution_count": 143,
   "metadata": {},
   "outputs": [
    {
     "data": {
      "text/plain": [
       "(3682, 9)"
      ]
     },
     "execution_count": 143,
     "metadata": {},
     "output_type": "execute_result"
    }
   ],
   "source": [
    "census_healthy.shape"
   ]
  },
  {
   "cell_type": "code",
   "execution_count": 133,
   "metadata": {},
   "outputs": [
    {
     "data": {
      "text/html": [
       "<div>\n",
       "<style scoped>\n",
       "    .dataframe tbody tr th:only-of-type {\n",
       "        vertical-align: middle;\n",
       "    }\n",
       "\n",
       "    .dataframe tbody tr th {\n",
       "        vertical-align: top;\n",
       "    }\n",
       "\n",
       "    .dataframe thead th {\n",
       "        text-align: right;\n",
       "    }\n",
       "</style>\n",
       "<table border=\"1\" class=\"dataframe\">\n",
       "  <thead>\n",
       "    <tr style=\"text-align: right;\">\n",
       "      <th></th>\n",
       "      <th>_id</th>\n",
       "      <th>full_data</th>\n",
       "      <th>keyword</th>\n",
       "      <th>sentiment</th>\n",
       "      <th>text</th>\n",
       "      <th>coords</th>\n",
       "      <th>lat</th>\n",
       "      <th>long</th>\n",
       "      <th>census</th>\n",
       "    </tr>\n",
       "  </thead>\n",
       "  <tbody>\n",
       "    <tr>\n",
       "      <th>0</th>\n",
       "      <td>5c9cde8a626b30bd695ddf36</td>\n",
       "      <td>{'created_at': 'Thu Mar 28 13:07:03 +0000 2019...</td>\n",
       "      <td>almond</td>\n",
       "      <td>{'neg': 0.0, 'neu': 0.655, 'pos': 0.345, 'comp...</td>\n",
       "      <td>W E D D I N G  A L M O N D \\nPink, bright, sop...</td>\n",
       "      <td>[40.7537, -73.97254]</td>\n",
       "      <td>40.753700</td>\n",
       "      <td>-73.972540</td>\n",
       "      <td>36061009200</td>\n",
       "    </tr>\n",
       "    <tr>\n",
       "      <th>1</th>\n",
       "      <td>5c9cde8a626b30bd695ddf3b</td>\n",
       "      <td>{'created_at': 'Thu Mar 28 13:04:25 +0000 2019...</td>\n",
       "      <td>almond</td>\n",
       "      <td>{'neg': 0.0, 'neu': 1.0, 'pos': 0.0, 'compound...</td>\n",
       "      <td>@NutellaUSA #almond #pearl #waffles @ Inn At T...</td>\n",
       "      <td>[44.14179362, -71.17940884]</td>\n",
       "      <td>44.141794</td>\n",
       "      <td>-71.179409</td>\n",
       "      <td>33003955100</td>\n",
       "    </tr>\n",
       "    <tr>\n",
       "      <th>2</th>\n",
       "      <td>5c9cde8a626b30bd695ddf42</td>\n",
       "      <td>{'created_at': 'Thu Mar 28 12:59:58 +0000 2019...</td>\n",
       "      <td>almond</td>\n",
       "      <td>{'neg': 0.0, 'neu': 0.785, 'pos': 0.215, 'comp...</td>\n",
       "      <td>Good Spring Morning to all the Beautiful Souls...</td>\n",
       "      <td>[42.1396065, -87.9076157]</td>\n",
       "      <td>42.139606</td>\n",
       "      <td>-87.907616</td>\n",
       "      <td>17031802506</td>\n",
       "    </tr>\n",
       "    <tr>\n",
       "      <th>3</th>\n",
       "      <td>5c9cde8a626b30bd695ddf6c</td>\n",
       "      <td>{'created_at': 'Thu Mar 28 12:34:53 +0000 2019...</td>\n",
       "      <td>almond</td>\n",
       "      <td>{'neg': 0.0, 'neu': 1.0, 'pos': 0.0, 'compound...</td>\n",
       "      <td>So good!!!!!\\nTwo scoops Level-1 vanilla ice c...</td>\n",
       "      <td>[34.924, -81.0282]</td>\n",
       "      <td>34.924000</td>\n",
       "      <td>-81.028200</td>\n",
       "      <td>45091060501</td>\n",
       "    </tr>\n",
       "    <tr>\n",
       "      <th>4</th>\n",
       "      <td>5c9cde8b626b30bd695ddfd5</td>\n",
       "      <td>{'created_at': 'Thu Mar 28 11:44:10 +0000 2019...</td>\n",
       "      <td>almond</td>\n",
       "      <td>{'neg': 0.0, 'neu': 0.755, 'pos': 0.245, 'comp...</td>\n",
       "      <td>Hello beautiful soul.  Thursday reminder...you...</td>\n",
       "      <td>[39.9008, -74.8239]</td>\n",
       "      <td>39.900800</td>\n",
       "      <td>-74.823900</td>\n",
       "      <td>34005703802</td>\n",
       "    </tr>\n",
       "  </tbody>\n",
       "</table>\n",
       "</div>"
      ],
      "text/plain": [
       "                        _id  \\\n",
       "0  5c9cde8a626b30bd695ddf36   \n",
       "1  5c9cde8a626b30bd695ddf3b   \n",
       "2  5c9cde8a626b30bd695ddf42   \n",
       "3  5c9cde8a626b30bd695ddf6c   \n",
       "4  5c9cde8b626b30bd695ddfd5   \n",
       "\n",
       "                                           full_data keyword  \\\n",
       "0  {'created_at': 'Thu Mar 28 13:07:03 +0000 2019...  almond   \n",
       "1  {'created_at': 'Thu Mar 28 13:04:25 +0000 2019...  almond   \n",
       "2  {'created_at': 'Thu Mar 28 12:59:58 +0000 2019...  almond   \n",
       "3  {'created_at': 'Thu Mar 28 12:34:53 +0000 2019...  almond   \n",
       "4  {'created_at': 'Thu Mar 28 11:44:10 +0000 2019...  almond   \n",
       "\n",
       "                                           sentiment  \\\n",
       "0  {'neg': 0.0, 'neu': 0.655, 'pos': 0.345, 'comp...   \n",
       "1  {'neg': 0.0, 'neu': 1.0, 'pos': 0.0, 'compound...   \n",
       "2  {'neg': 0.0, 'neu': 0.785, 'pos': 0.215, 'comp...   \n",
       "3  {'neg': 0.0, 'neu': 1.0, 'pos': 0.0, 'compound...   \n",
       "4  {'neg': 0.0, 'neu': 0.755, 'pos': 0.245, 'comp...   \n",
       "\n",
       "                                                text  \\\n",
       "0  W E D D I N G  A L M O N D \\nPink, bright, sop...   \n",
       "1  @NutellaUSA #almond #pearl #waffles @ Inn At T...   \n",
       "2  Good Spring Morning to all the Beautiful Souls...   \n",
       "3  So good!!!!!\\nTwo scoops Level-1 vanilla ice c...   \n",
       "4  Hello beautiful soul.  Thursday reminder...you...   \n",
       "\n",
       "                        coords        lat       long       census  \n",
       "0         [40.7537, -73.97254]  40.753700 -73.972540  36061009200  \n",
       "1  [44.14179362, -71.17940884]  44.141794 -71.179409  33003955100  \n",
       "2    [42.1396065, -87.9076157]  42.139606 -87.907616  17031802506  \n",
       "3           [34.924, -81.0282]  34.924000 -81.028200  45091060501  \n",
       "4          [39.9008, -74.8239]  39.900800 -74.823900  34005703802  "
      ]
     },
     "execution_count": 133,
     "metadata": {},
     "output_type": "execute_result"
    }
   ],
   "source": [
    "census_healthy.head()"
   ]
  },
  {
   "cell_type": "code",
   "execution_count": 160,
   "metadata": {},
   "outputs": [],
   "source": [
    "census_healthy.to_csv(\"data/census_healthy1.csv\")"
   ]
  },
  {
   "cell_type": "markdown",
   "metadata": {},
   "source": [
    "### UNHEALTHY FOODS"
   ]
  },
  {
   "cell_type": "code",
   "execution_count": 149,
   "metadata": {},
   "outputs": [],
   "source": [
    "unhealthy_df = pull_geodata('unhealthy')"
   ]
  },
  {
   "cell_type": "code",
   "execution_count": 150,
   "metadata": {},
   "outputs": [
    {
     "data": {
      "text/plain": [
       "(7299, 5)"
      ]
     },
     "execution_count": 150,
     "metadata": {},
     "output_type": "execute_result"
    }
   ],
   "source": [
    "unhealthy_df.shape"
   ]
  },
  {
   "cell_type": "code",
   "execution_count": 151,
   "metadata": {},
   "outputs": [],
   "source": [
    "us_unhealthy = prep_twitter_df(unhealthy_df)"
   ]
  },
  {
   "cell_type": "code",
   "execution_count": 152,
   "metadata": {},
   "outputs": [
    {
     "data": {
      "text/plain": [
       "(4540, 8)"
      ]
     },
     "execution_count": 152,
     "metadata": {},
     "output_type": "execute_result"
    }
   ],
   "source": [
    "us_unhealthy.shape"
   ]
  },
  {
   "cell_type": "code",
   "execution_count": 157,
   "metadata": {},
   "outputs": [
    {
     "name": "stdout",
     "output_type": "stream",
     "text": [
      "Current count:  1000\n",
      "Current count:  2000\n",
      "Current count:  3000\n",
      "Current count:  4000\n"
     ]
    }
   ],
   "source": [
    "census_unhealthy = census_df(us_unhealthy)"
   ]
  },
  {
   "cell_type": "code",
   "execution_count": 159,
   "metadata": {
    "scrolled": true
   },
   "outputs": [
    {
     "data": {
      "text/html": [
       "<div>\n",
       "<style scoped>\n",
       "    .dataframe tbody tr th:only-of-type {\n",
       "        vertical-align: middle;\n",
       "    }\n",
       "\n",
       "    .dataframe tbody tr th {\n",
       "        vertical-align: top;\n",
       "    }\n",
       "\n",
       "    .dataframe thead th {\n",
       "        text-align: right;\n",
       "    }\n",
       "</style>\n",
       "<table border=\"1\" class=\"dataframe\">\n",
       "  <thead>\n",
       "    <tr style=\"text-align: right;\">\n",
       "      <th></th>\n",
       "      <th>_id</th>\n",
       "      <th>full_data</th>\n",
       "      <th>keyword</th>\n",
       "      <th>sentiment</th>\n",
       "      <th>text</th>\n",
       "      <th>coords</th>\n",
       "      <th>lat</th>\n",
       "      <th>long</th>\n",
       "      <th>census</th>\n",
       "    </tr>\n",
       "  </thead>\n",
       "  <tbody>\n",
       "    <tr>\n",
       "      <th>2</th>\n",
       "      <td>5c9d4874aaedff02ea18ce65</td>\n",
       "      <td>{'created_at': 'Thu Mar 28 22:03:04 +0000 2019...</td>\n",
       "      <td>bacon</td>\n",
       "      <td>{'neg': 0.063, 'neu': 0.695, 'pos': 0.242, 'co...</td>\n",
       "      <td>This evening's special nocterrabrewing is the ...</td>\n",
       "      <td>[40.15962, -83.07848]</td>\n",
       "      <td>40.159620</td>\n",
       "      <td>-83.078480</td>\n",
       "      <td>39041011423</td>\n",
       "    </tr>\n",
       "    <tr>\n",
       "      <th>3</th>\n",
       "      <td>5c9d4874aaedff02ea18ce77</td>\n",
       "      <td>{'created_at': 'Thu Mar 28 22:01:26 +0000 2019...</td>\n",
       "      <td>bacon</td>\n",
       "      <td>{'neg': 0.101, 'neu': 0.791, 'pos': 0.108, 'co...</td>\n",
       "      <td>8 ounce filet mignon, topped with a bacon, gre...</td>\n",
       "      <td>[47.92657866, -97.03240413]</td>\n",
       "      <td>47.926579</td>\n",
       "      <td>-97.032404</td>\n",
       "      <td>38035010100</td>\n",
       "    </tr>\n",
       "    <tr>\n",
       "      <th>4</th>\n",
       "      <td>5c9d4874aaedff02ea18ce99</td>\n",
       "      <td>{'created_at': 'Thu Mar 28 21:57:26 +0000 2019...</td>\n",
       "      <td>bacon</td>\n",
       "      <td>{'neg': 0.0, 'neu': 1.0, 'pos': 0.0, 'compound...</td>\n",
       "      <td>HAMBURGUESA A LA DIABLA ! ! ! Flat iron steak ...</td>\n",
       "      <td>[33.63696256, -117.60853489]</td>\n",
       "      <td>33.636963</td>\n",
       "      <td>-117.608535</td>\n",
       "      <td>06059032053</td>\n",
       "    </tr>\n",
       "    <tr>\n",
       "      <th>5</th>\n",
       "      <td>5c9d4874aaedff02ea18ceaa</td>\n",
       "      <td>{'created_at': 'Thu Mar 28 21:54:15 +0000 2019...</td>\n",
       "      <td>bacon</td>\n",
       "      <td>{'neg': 0.0, 'neu': 0.77, 'pos': 0.23, 'compou...</td>\n",
       "      <td>Well...no pancakes and bacon!\\nGuess the @pink...</td>\n",
       "      <td>[33.7680875, -118.1751669]</td>\n",
       "      <td>33.768088</td>\n",
       "      <td>-118.175167</td>\n",
       "      <td>06037576601</td>\n",
       "    </tr>\n",
       "    <tr>\n",
       "      <th>6</th>\n",
       "      <td>5c9d4876aaedff02ea18cf9c</td>\n",
       "      <td>{'created_at': 'Thu Mar 28 21:15:42 +0000 2019...</td>\n",
       "      <td>bacon</td>\n",
       "      <td>{'neg': 0.0, 'neu': 1.0, 'pos': 0.0, 'compound...</td>\n",
       "      <td>New  in my Repertoire!!!!\\nCherrywod smoked se...</td>\n",
       "      <td>[29.50307025, -98.68740387]</td>\n",
       "      <td>29.503070</td>\n",
       "      <td>-98.687404</td>\n",
       "      <td>48029181715</td>\n",
       "    </tr>\n",
       "  </tbody>\n",
       "</table>\n",
       "</div>"
      ],
      "text/plain": [
       "                        _id  \\\n",
       "2  5c9d4874aaedff02ea18ce65   \n",
       "3  5c9d4874aaedff02ea18ce77   \n",
       "4  5c9d4874aaedff02ea18ce99   \n",
       "5  5c9d4874aaedff02ea18ceaa   \n",
       "6  5c9d4876aaedff02ea18cf9c   \n",
       "\n",
       "                                           full_data keyword  \\\n",
       "2  {'created_at': 'Thu Mar 28 22:03:04 +0000 2019...   bacon   \n",
       "3  {'created_at': 'Thu Mar 28 22:01:26 +0000 2019...   bacon   \n",
       "4  {'created_at': 'Thu Mar 28 21:57:26 +0000 2019...   bacon   \n",
       "5  {'created_at': 'Thu Mar 28 21:54:15 +0000 2019...   bacon   \n",
       "6  {'created_at': 'Thu Mar 28 21:15:42 +0000 2019...   bacon   \n",
       "\n",
       "                                           sentiment  \\\n",
       "2  {'neg': 0.063, 'neu': 0.695, 'pos': 0.242, 'co...   \n",
       "3  {'neg': 0.101, 'neu': 0.791, 'pos': 0.108, 'co...   \n",
       "4  {'neg': 0.0, 'neu': 1.0, 'pos': 0.0, 'compound...   \n",
       "5  {'neg': 0.0, 'neu': 0.77, 'pos': 0.23, 'compou...   \n",
       "6  {'neg': 0.0, 'neu': 1.0, 'pos': 0.0, 'compound...   \n",
       "\n",
       "                                                text  \\\n",
       "2  This evening's special nocterrabrewing is the ...   \n",
       "3  8 ounce filet mignon, topped with a bacon, gre...   \n",
       "4  HAMBURGUESA A LA DIABLA ! ! ! Flat iron steak ...   \n",
       "5  Well...no pancakes and bacon!\\nGuess the @pink...   \n",
       "6  New  in my Repertoire!!!!\\nCherrywod smoked se...   \n",
       "\n",
       "                         coords        lat        long       census  \n",
       "2         [40.15962, -83.07848]  40.159620  -83.078480  39041011423  \n",
       "3   [47.92657866, -97.03240413]  47.926579  -97.032404  38035010100  \n",
       "4  [33.63696256, -117.60853489]  33.636963 -117.608535  06059032053  \n",
       "5    [33.7680875, -118.1751669]  33.768088 -118.175167  06037576601  \n",
       "6   [29.50307025, -98.68740387]  29.503070  -98.687404  48029181715  "
      ]
     },
     "execution_count": 159,
     "metadata": {},
     "output_type": "execute_result"
    }
   ],
   "source": [
    "census_unhealthy.head()"
   ]
  },
  {
   "cell_type": "code",
   "execution_count": 162,
   "metadata": {},
   "outputs": [],
   "source": [
    "census_unhealthy.to_csv(\"data/census_unhealthy1.csv\")"
   ]
  },
  {
   "cell_type": "markdown",
   "metadata": {},
   "source": [
    "### GROCERY STORES"
   ]
  },
  {
   "cell_type": "code",
   "execution_count": 105,
   "metadata": {},
   "outputs": [],
   "source": [
    "grocery_df = pull_geodata('grocery_stores')"
   ]
  },
  {
   "cell_type": "code",
   "execution_count": 106,
   "metadata": {},
   "outputs": [
    {
     "data": {
      "text/plain": [
       "(447, 5)"
      ]
     },
     "execution_count": 106,
     "metadata": {},
     "output_type": "execute_result"
    }
   ],
   "source": [
    "grocery_df.shape"
   ]
  },
  {
   "cell_type": "code",
   "execution_count": 107,
   "metadata": {},
   "outputs": [],
   "source": [
    "us_grocery = prep_twitter_df(grocery_df)"
   ]
  },
  {
   "cell_type": "code",
   "execution_count": 108,
   "metadata": {},
   "outputs": [
    {
     "data": {
      "text/plain": [
       "(417, 8)"
      ]
     },
     "execution_count": 108,
     "metadata": {},
     "output_type": "execute_result"
    }
   ],
   "source": [
    "us_grocery.shape"
   ]
  },
  {
   "cell_type": "code",
   "execution_count": 167,
   "metadata": {},
   "outputs": [],
   "source": [
    "census_grocery = census_df(us_grocery)"
   ]
  },
  {
   "cell_type": "code",
   "execution_count": 168,
   "metadata": {},
   "outputs": [
    {
     "data": {
      "text/html": [
       "<div>\n",
       "<style scoped>\n",
       "    .dataframe tbody tr th:only-of-type {\n",
       "        vertical-align: middle;\n",
       "    }\n",
       "\n",
       "    .dataframe tbody tr th {\n",
       "        vertical-align: top;\n",
       "    }\n",
       "\n",
       "    .dataframe thead th {\n",
       "        text-align: right;\n",
       "    }\n",
       "</style>\n",
       "<table border=\"1\" class=\"dataframe\">\n",
       "  <thead>\n",
       "    <tr style=\"text-align: right;\">\n",
       "      <th></th>\n",
       "      <th>_id</th>\n",
       "      <th>full_data</th>\n",
       "      <th>keyword</th>\n",
       "      <th>sentiment</th>\n",
       "      <th>text</th>\n",
       "      <th>coords</th>\n",
       "      <th>lat</th>\n",
       "      <th>long</th>\n",
       "      <th>census</th>\n",
       "    </tr>\n",
       "  </thead>\n",
       "  <tbody>\n",
       "    <tr>\n",
       "      <th>0</th>\n",
       "      <td>5c9bb3aaaaedff5572f9e6e1</td>\n",
       "      <td>{'created_at': 'Wed Mar 27 15:00:08 +0000 2019...</td>\n",
       "      <td>safeway</td>\n",
       "      <td>{'neg': 0.0, 'neu': 0.903, 'pos': 0.097, 'comp...</td>\n",
       "      <td>See our latest #Rocklin, CA #branchbanking job...</td>\n",
       "      <td>[38.7907339, -121.2357828]</td>\n",
       "      <td>38.790734</td>\n",
       "      <td>-121.235783</td>\n",
       "      <td>06061021103</td>\n",
       "    </tr>\n",
       "    <tr>\n",
       "      <th>1</th>\n",
       "      <td>5c9bb3aaaaedff5572f9e703</td>\n",
       "      <td>{'created_at': 'Wed Mar 27 07:50:41 +0000 2019...</td>\n",
       "      <td>safeway</td>\n",
       "      <td>{'neg': 0.732, 'neu': 0.268, 'pos': 0.0, 'comp...</td>\n",
       "      <td>Fuck no!  Just stop M&amp;amp;Ms. @ Safeway</td>\n",
       "      <td>[37.76910525, -122.42826619]</td>\n",
       "      <td>37.769105</td>\n",
       "      <td>-122.428266</td>\n",
       "      <td>06075016900</td>\n",
       "    </tr>\n",
       "    <tr>\n",
       "      <th>2</th>\n",
       "      <td>5c9bb3abaaedff5572f9e7a4</td>\n",
       "      <td>{'created_at': 'Tue Mar 26 23:19:28 +0000 2019...</td>\n",
       "      <td>safeway</td>\n",
       "      <td>{'neg': 0.0, 'neu': 1.0, 'pos': 0.0, 'compound...</td>\n",
       "      <td>I'm at @Safeway in San Francisco, CA</td>\n",
       "      <td>[37.7746023, -122.4652111]</td>\n",
       "      <td>37.774602</td>\n",
       "      <td>-122.465211</td>\n",
       "      <td>06075045200</td>\n",
       "    </tr>\n",
       "    <tr>\n",
       "      <th>4</th>\n",
       "      <td>5c9bb3acaaedff5572f9e7d8</td>\n",
       "      <td>{'created_at': 'Tue Mar 26 20:10:22 +0000 2019...</td>\n",
       "      <td>safeway</td>\n",
       "      <td>{'neg': 0.0, 'neu': 1.0, 'pos': 0.0, 'compound...</td>\n",
       "      <td>I'm at @Safeway in Falls Church, VA</td>\n",
       "      <td>[38.8535005, -77.1287346]</td>\n",
       "      <td>38.853501</td>\n",
       "      <td>-77.128735</td>\n",
       "      <td>51059451502</td>\n",
       "    </tr>\n",
       "    <tr>\n",
       "      <th>5</th>\n",
       "      <td>5c9bb3acaaedff5572f9e7d9</td>\n",
       "      <td>{'created_at': 'Tue Mar 26 20:10:02 +0000 2019...</td>\n",
       "      <td>safeway</td>\n",
       "      <td>{'neg': 0.0, 'neu': 1.0, 'pos': 0.0, 'compound...</td>\n",
       "      <td>I'm at Starbucks (inside safeway) in Falls Chu...</td>\n",
       "      <td>[38.853191, -77.129397]</td>\n",
       "      <td>38.853191</td>\n",
       "      <td>-77.129397</td>\n",
       "      <td>51059451502</td>\n",
       "    </tr>\n",
       "  </tbody>\n",
       "</table>\n",
       "</div>"
      ],
      "text/plain": [
       "                        _id  \\\n",
       "0  5c9bb3aaaaedff5572f9e6e1   \n",
       "1  5c9bb3aaaaedff5572f9e703   \n",
       "2  5c9bb3abaaedff5572f9e7a4   \n",
       "4  5c9bb3acaaedff5572f9e7d8   \n",
       "5  5c9bb3acaaedff5572f9e7d9   \n",
       "\n",
       "                                           full_data  keyword  \\\n",
       "0  {'created_at': 'Wed Mar 27 15:00:08 +0000 2019...  safeway   \n",
       "1  {'created_at': 'Wed Mar 27 07:50:41 +0000 2019...  safeway   \n",
       "2  {'created_at': 'Tue Mar 26 23:19:28 +0000 2019...  safeway   \n",
       "4  {'created_at': 'Tue Mar 26 20:10:22 +0000 2019...  safeway   \n",
       "5  {'created_at': 'Tue Mar 26 20:10:02 +0000 2019...  safeway   \n",
       "\n",
       "                                           sentiment  \\\n",
       "0  {'neg': 0.0, 'neu': 0.903, 'pos': 0.097, 'comp...   \n",
       "1  {'neg': 0.732, 'neu': 0.268, 'pos': 0.0, 'comp...   \n",
       "2  {'neg': 0.0, 'neu': 1.0, 'pos': 0.0, 'compound...   \n",
       "4  {'neg': 0.0, 'neu': 1.0, 'pos': 0.0, 'compound...   \n",
       "5  {'neg': 0.0, 'neu': 1.0, 'pos': 0.0, 'compound...   \n",
       "\n",
       "                                                text  \\\n",
       "0  See our latest #Rocklin, CA #branchbanking job...   \n",
       "1           Fuck no!  Just stop M&amp;Ms. @ Safeway    \n",
       "2              I'm at @Safeway in San Francisco, CA    \n",
       "4               I'm at @Safeway in Falls Church, VA    \n",
       "5  I'm at Starbucks (inside safeway) in Falls Chu...   \n",
       "\n",
       "                         coords        lat        long       census  \n",
       "0    [38.7907339, -121.2357828]  38.790734 -121.235783  06061021103  \n",
       "1  [37.76910525, -122.42826619]  37.769105 -122.428266  06075016900  \n",
       "2    [37.7746023, -122.4652111]  37.774602 -122.465211  06075045200  \n",
       "4     [38.8535005, -77.1287346]  38.853501  -77.128735  51059451502  \n",
       "5       [38.853191, -77.129397]  38.853191  -77.129397  51059451502  "
      ]
     },
     "execution_count": 168,
     "metadata": {},
     "output_type": "execute_result"
    }
   ],
   "source": [
    "census_grocery.head()"
   ]
  },
  {
   "cell_type": "code",
   "execution_count": 169,
   "metadata": {},
   "outputs": [],
   "source": [
    "census_grocery.to_csv(\"data/census_grocery1.csv\")"
   ]
  },
  {
   "cell_type": "markdown",
   "metadata": {},
   "source": [
    "### FAST FOOD STORES"
   ]
  },
  {
   "cell_type": "code",
   "execution_count": 109,
   "metadata": {},
   "outputs": [],
   "source": [
    "fastfood_df = pull_geodata('ff_stores')"
   ]
  },
  {
   "cell_type": "code",
   "execution_count": 110,
   "metadata": {},
   "outputs": [
    {
     "data": {
      "text/plain": [
       "(8067, 5)"
      ]
     },
     "execution_count": 110,
     "metadata": {},
     "output_type": "execute_result"
    }
   ],
   "source": [
    "fastfood_df.shape"
   ]
  },
  {
   "cell_type": "code",
   "execution_count": 111,
   "metadata": {},
   "outputs": [],
   "source": [
    "us_fastfood = prep_twitter_df(fastfood_df)"
   ]
  },
  {
   "cell_type": "code",
   "execution_count": 112,
   "metadata": {},
   "outputs": [
    {
     "data": {
      "text/plain": [
       "(4334, 8)"
      ]
     },
     "execution_count": 112,
     "metadata": {},
     "output_type": "execute_result"
    }
   ],
   "source": [
    "us_fastfood.shape"
   ]
  },
  {
   "cell_type": "code",
   "execution_count": 171,
   "metadata": {},
   "outputs": [
    {
     "name": "stdout",
     "output_type": "stream",
     "text": [
      "Current count:  1000\n",
      "Current count:  2000\n",
      "Current count:  3000\n",
      "Current count:  4000\n"
     ]
    }
   ],
   "source": [
    "census_fastfood = census_df(us_fastfood)"
   ]
  },
  {
   "cell_type": "code",
   "execution_count": 172,
   "metadata": {},
   "outputs": [
    {
     "data": {
      "text/html": [
       "<div>\n",
       "<style scoped>\n",
       "    .dataframe tbody tr th:only-of-type {\n",
       "        vertical-align: middle;\n",
       "    }\n",
       "\n",
       "    .dataframe tbody tr th {\n",
       "        vertical-align: top;\n",
       "    }\n",
       "\n",
       "    .dataframe thead th {\n",
       "        text-align: right;\n",
       "    }\n",
       "</style>\n",
       "<table border=\"1\" class=\"dataframe\">\n",
       "  <thead>\n",
       "    <tr style=\"text-align: right;\">\n",
       "      <th></th>\n",
       "      <th>_id</th>\n",
       "      <th>full_data</th>\n",
       "      <th>keyword</th>\n",
       "      <th>sentiment</th>\n",
       "      <th>text</th>\n",
       "      <th>coords</th>\n",
       "      <th>lat</th>\n",
       "      <th>long</th>\n",
       "      <th>census</th>\n",
       "    </tr>\n",
       "  </thead>\n",
       "  <tbody>\n",
       "    <tr>\n",
       "      <th>19</th>\n",
       "      <td>5c9b30feaaedff5572f7d255</td>\n",
       "      <td>{'created_at': 'Wed Mar 27 03:00:50 +0000 2019...</td>\n",
       "      <td>mcdonald's</td>\n",
       "      <td>{'neg': 0.193, 'neu': 0.807, 'pos': 0.0, 'comp...</td>\n",
       "      <td>Waiting on our dinner.  At least it's not McDo...</td>\n",
       "      <td>[33.877187, -118.21795]</td>\n",
       "      <td>33.877187</td>\n",
       "      <td>-118.217950</td>\n",
       "      <td>06037543202</td>\n",
       "    </tr>\n",
       "    <tr>\n",
       "      <th>24</th>\n",
       "      <td>5c9b3103aaedff5572f7d389</td>\n",
       "      <td>{'created_at': 'Wed Mar 27 01:19:47 +0000 2019...</td>\n",
       "      <td>mcdonald's</td>\n",
       "      <td>{'neg': 0.0, 'neu': 1.0, 'pos': 0.0, 'compound...</td>\n",
       "      <td>I'm at McDonald's in Chicago, IL</td>\n",
       "      <td>[41.8835986, -87.6258091]</td>\n",
       "      <td>41.883599</td>\n",
       "      <td>-87.625809</td>\n",
       "      <td>17031320100</td>\n",
       "    </tr>\n",
       "    <tr>\n",
       "      <th>27</th>\n",
       "      <td>5c9b3104aaedff5572f7d3e3</td>\n",
       "      <td>{'created_at': 'Wed Mar 27 00:46:29 +0000 2019...</td>\n",
       "      <td>mcdonald's</td>\n",
       "      <td>{'neg': 0.0, 'neu': 1.0, 'pos': 0.0, 'compound...</td>\n",
       "      <td>#Chichan #Tone 2 #mood\\n#Valle #Poser #Fake #d...</td>\n",
       "      <td>[31.70018254, -106.33942634]</td>\n",
       "      <td>31.700183</td>\n",
       "      <td>-106.339426</td>\n",
       "      <td>48141003901</td>\n",
       "    </tr>\n",
       "    <tr>\n",
       "      <th>36</th>\n",
       "      <td>5c9b3113aaedff5572f7d8a0</td>\n",
       "      <td>{'created_at': 'Tue Mar 26 19:18:41 +0000 2019...</td>\n",
       "      <td>mcdonald's</td>\n",
       "      <td>{'neg': 0.0, 'neu': 1.0, 'pos': 0.0, 'compound...</td>\n",
       "      <td>Here for a late lunch! (@ McDonald's in Chicag...</td>\n",
       "      <td>[42.00715077, -87.69046558]</td>\n",
       "      <td>42.007151</td>\n",
       "      <td>-87.690466</td>\n",
       "      <td>17031020302</td>\n",
       "    </tr>\n",
       "    <tr>\n",
       "      <th>38</th>\n",
       "      <td>5c9b3114aaedff5572f7d936</td>\n",
       "      <td>{'created_at': 'Tue Mar 26 18:38:09 +0000 2019...</td>\n",
       "      <td>mcdonald's</td>\n",
       "      <td>{'neg': 0.237, 'neu': 0.763, 'pos': 0.0, 'comp...</td>\n",
       "      <td>McDonald's, it ain't ..   #cigar #botl @eighty...</td>\n",
       "      <td>[36.0363, -95.7836]</td>\n",
       "      <td>36.036300</td>\n",
       "      <td>-95.783600</td>\n",
       "      <td>40143007503</td>\n",
       "    </tr>\n",
       "  </tbody>\n",
       "</table>\n",
       "</div>"
      ],
      "text/plain": [
       "                         _id  \\\n",
       "19  5c9b30feaaedff5572f7d255   \n",
       "24  5c9b3103aaedff5572f7d389   \n",
       "27  5c9b3104aaedff5572f7d3e3   \n",
       "36  5c9b3113aaedff5572f7d8a0   \n",
       "38  5c9b3114aaedff5572f7d936   \n",
       "\n",
       "                                            full_data     keyword  \\\n",
       "19  {'created_at': 'Wed Mar 27 03:00:50 +0000 2019...  mcdonald's   \n",
       "24  {'created_at': 'Wed Mar 27 01:19:47 +0000 2019...  mcdonald's   \n",
       "27  {'created_at': 'Wed Mar 27 00:46:29 +0000 2019...  mcdonald's   \n",
       "36  {'created_at': 'Tue Mar 26 19:18:41 +0000 2019...  mcdonald's   \n",
       "38  {'created_at': 'Tue Mar 26 18:38:09 +0000 2019...  mcdonald's   \n",
       "\n",
       "                                            sentiment  \\\n",
       "19  {'neg': 0.193, 'neu': 0.807, 'pos': 0.0, 'comp...   \n",
       "24  {'neg': 0.0, 'neu': 1.0, 'pos': 0.0, 'compound...   \n",
       "27  {'neg': 0.0, 'neu': 1.0, 'pos': 0.0, 'compound...   \n",
       "36  {'neg': 0.0, 'neu': 1.0, 'pos': 0.0, 'compound...   \n",
       "38  {'neg': 0.237, 'neu': 0.763, 'pos': 0.0, 'comp...   \n",
       "\n",
       "                                                 text  \\\n",
       "19  Waiting on our dinner.  At least it's not McDo...   \n",
       "24                  I'm at McDonald's in Chicago, IL    \n",
       "27  #Chichan #Tone 2 #mood\\n#Valle #Poser #Fake #d...   \n",
       "36  Here for a late lunch! (@ McDonald's in Chicag...   \n",
       "38  McDonald's, it ain't ..   #cigar #botl @eighty...   \n",
       "\n",
       "                          coords        lat        long       census  \n",
       "19       [33.877187, -118.21795]  33.877187 -118.217950  06037543202  \n",
       "24     [41.8835986, -87.6258091]  41.883599  -87.625809  17031320100  \n",
       "27  [31.70018254, -106.33942634]  31.700183 -106.339426  48141003901  \n",
       "36   [42.00715077, -87.69046558]  42.007151  -87.690466  17031020302  \n",
       "38           [36.0363, -95.7836]  36.036300  -95.783600  40143007503  "
      ]
     },
     "execution_count": 172,
     "metadata": {},
     "output_type": "execute_result"
    }
   ],
   "source": [
    "census_fastfood.head()"
   ]
  },
  {
   "cell_type": "code",
   "execution_count": 173,
   "metadata": {},
   "outputs": [],
   "source": [
    "census_fastfood.to_csv(\"data/census_fastfood1.csv\")"
   ]
  },
  {
   "cell_type": "code",
   "execution_count": null,
   "metadata": {},
   "outputs": [],
   "source": [
    "df_train,y_train,df_test,y_test= prep_data()"
   ]
  },
  {
   "cell_type": "code",
   "execution_count": null,
   "metadata": {},
   "outputs": [],
   "source": []
  }
 ],
 "metadata": {
  "kernelspec": {
   "display_name": "Python 3",
   "language": "python",
   "name": "python3"
  },
  "language_info": {
   "codemirror_mode": {
    "name": "ipython",
    "version": 3
   },
   "file_extension": ".py",
   "mimetype": "text/x-python",
   "name": "python",
   "nbconvert_exporter": "python",
   "pygments_lexer": "ipython3",
   "version": "3.6.8"
  }
 },
 "nbformat": 4,
 "nbformat_minor": 2
}
