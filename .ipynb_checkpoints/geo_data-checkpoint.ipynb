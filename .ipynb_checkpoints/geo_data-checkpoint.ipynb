{
 "cells": [
  {
   "cell_type": "code",
   "execution_count": 79,
   "metadata": {},
   "outputs": [],
   "source": [
    "from pymongo import MongoClient\n",
    "import pandas as pd\n",
    "import numpy as np\n",
    "from nltk.sentiment.vader import SentimentIntensityAnalyzer\n",
    "import requests\n",
    "import re\n",
    "import unicodedata\n",
    "from unidecode import unidecode\n",
    "import warnings\n",
    "warnings.filterwarnings('ignore')\n",
    "import time"
   ]
  },
  {
   "cell_type": "code",
   "execution_count": 97,
   "metadata": {},
   "outputs": [],
   "source": [
    "client = MongoClient()\n",
    "db = client['capstone']\n",
    "sid = SentimentIntensityAnalyzer()           \n",
    "\n",
    "def pull_geodata(coll_name):\n",
    "    coll=db[coll_name]\n",
    "    query = coll.find({\"full_data.geo\" : {\"$exists\" : True,\"$ne\" : None}})\n",
    "    df = pd.DataFrame(list(query))\n",
    "    return df\n",
    "\n",
    "def clean_text(inputString):\n",
    "    final = \"\"\n",
    "    for letter in inputString:\n",
    "        try:\n",
    "         letter.encode(\"ascii\")\n",
    "         final += letter\n",
    "        except UnicodeEncodeError:\n",
    "         final += ''\n",
    "    return re.sub(r\"http\\S+\", \"\", final)\n",
    "\n",
    "def prep_twitter_df(df):\n",
    "    df['coords'] = df['full_data'].apply(lambda x: x['geo']['coordinates'])\n",
    "    \n",
    "    code = []\n",
    "    for i in df['full_data']:\n",
    "        if i['place']:\n",
    "            code.append(i['place']['country_code'])\n",
    "        else:\n",
    "            code.append(None)\n",
    "    code = np.array(code)\n",
    "    us_df = df[code==\"US\"]\n",
    "    \n",
    "    us_df['lat'] = us_df.coords.apply(lambda x: x[0])\n",
    "    us_df['long'] = us_df.coords.apply(lambda x: x[1])\n",
    "    \n",
    "    us_df['text'] = us_df['text'].apply(clean_text)\n",
    "    \n",
    "    \n",
    "    us_df['sentiment'] = us_df['text'].apply(lambda x: sid.polarity_scores(x))\n",
    "    \n",
    "    return us_df\n",
    "    "
   ]
  },
  {
   "cell_type": "code",
   "execution_count": 98,
   "metadata": {},
   "outputs": [],
   "source": [
    "#join census data\n",
    "def get_census(coords):\n",
    "    url='https://geo.fcc.gov/api/census/area?lat={}&lon={}&format=json'.format(coords[0],coords[1])\n",
    "    res = requests.get(url)\n",
    "    if res.json()['results']==[]:\n",
    "        return None\n",
    "    else:\n",
    "        return res.json()['results'][0]['block_fips'][:-4]\n",
    "\n",
    "def census_df(df):\n",
    "    census = []\n",
    "    count=0\n",
    "    req_count=0\n",
    "    while len(census)< df.shape[0]:\n",
    "        census.append(get_census(df['coords'][count]))\n",
    "        if req_count % 50 == 0:\n",
    "            print(\"Just spacing out my calls a bit\")\n",
    "            time.sleep(2*60)\n",
    "        if req_count > 998:\n",
    "            print(\"sleep time\")\n",
    "            time.sleep(60*60)\n",
    "\n",
    "    df['census']=census\n",
    "    return df\n"
   ]
  },
  {
   "cell_type": "markdown",
   "metadata": {},
   "source": [
    "### HEALTHY FOODS"
   ]
  },
  {
   "cell_type": "code",
   "execution_count": 9,
   "metadata": {},
   "outputs": [],
   "source": [
    "healthy_df = pull_geodata('healthy')"
   ]
  },
  {
   "cell_type": "code",
   "execution_count": 10,
   "metadata": {},
   "outputs": [
    {
     "data": {
      "text/plain": [
       "(6377, 5)"
      ]
     },
     "execution_count": 10,
     "metadata": {},
     "output_type": "execute_result"
    }
   ],
   "source": [
    "healthy_df.shape"
   ]
  },
  {
   "cell_type": "code",
   "execution_count": 103,
   "metadata": {},
   "outputs": [],
   "source": [
    "us_healthy = prep_twitter_df(healthy_df)"
   ]
  },
  {
   "cell_type": "code",
   "execution_count": 104,
   "metadata": {},
   "outputs": [
    {
     "data": {
      "text/plain": [
       "(3682, 8)"
      ]
     },
     "execution_count": 104,
     "metadata": {},
     "output_type": "execute_result"
    }
   ],
   "source": [
    "us_healthy.shape"
   ]
  },
  {
   "cell_type": "markdown",
   "metadata": {},
   "source": [
    "### UNHEALTHY FOODS"
   ]
  },
  {
   "cell_type": "code",
   "execution_count": 11,
   "metadata": {},
   "outputs": [],
   "source": [
    "unhealthy_df = pull_geodata('unhealthy')"
   ]
  },
  {
   "cell_type": "code",
   "execution_count": 12,
   "metadata": {},
   "outputs": [
    {
     "data": {
      "text/plain": [
       "(7299, 5)"
      ]
     },
     "execution_count": 12,
     "metadata": {},
     "output_type": "execute_result"
    }
   ],
   "source": [
    "unhealthy_df.shape"
   ]
  },
  {
   "cell_type": "code",
   "execution_count": 84,
   "metadata": {},
   "outputs": [],
   "source": [
    "us_unhealthy = prep_twitter_df(unhealthy_df)"
   ]
  },
  {
   "cell_type": "code",
   "execution_count": 99,
   "metadata": {},
   "outputs": [
    {
     "data": {
      "text/plain": [
       "(4540, 8)"
      ]
     },
     "execution_count": 99,
     "metadata": {},
     "output_type": "execute_result"
    }
   ],
   "source": [
    "us_unhealthy.shape"
   ]
  },
  {
   "cell_type": "markdown",
   "metadata": {},
   "source": [
    "### GROCERY STORES"
   ]
  },
  {
   "cell_type": "code",
   "execution_count": 105,
   "metadata": {},
   "outputs": [],
   "source": [
    "grocery_df = pull_geodata('grocery_stores')"
   ]
  },
  {
   "cell_type": "code",
   "execution_count": 106,
   "metadata": {},
   "outputs": [
    {
     "data": {
      "text/plain": [
       "(447, 5)"
      ]
     },
     "execution_count": 106,
     "metadata": {},
     "output_type": "execute_result"
    }
   ],
   "source": [
    "grocery_df.shape"
   ]
  },
  {
   "cell_type": "code",
   "execution_count": 107,
   "metadata": {},
   "outputs": [],
   "source": [
    "us_grocery = prep_twitter_df(grocery_df)"
   ]
  },
  {
   "cell_type": "code",
   "execution_count": 108,
   "metadata": {},
   "outputs": [
    {
     "data": {
      "text/plain": [
       "(417, 8)"
      ]
     },
     "execution_count": 108,
     "metadata": {},
     "output_type": "execute_result"
    }
   ],
   "source": [
    "us_grocery.shape"
   ]
  },
  {
   "cell_type": "markdown",
   "metadata": {},
   "source": [
    "### FAST FOOD STORES"
   ]
  },
  {
   "cell_type": "code",
   "execution_count": 109,
   "metadata": {},
   "outputs": [],
   "source": [
    "fastfood_df = pull_geodata('ff_stores')"
   ]
  },
  {
   "cell_type": "code",
   "execution_count": 110,
   "metadata": {},
   "outputs": [
    {
     "data": {
      "text/plain": [
       "(8067, 5)"
      ]
     },
     "execution_count": 110,
     "metadata": {},
     "output_type": "execute_result"
    }
   ],
   "source": [
    "fastfood_df.shape"
   ]
  },
  {
   "cell_type": "code",
   "execution_count": 111,
   "metadata": {},
   "outputs": [],
   "source": [
    "us_fastfood = prep_twitter_df(fastfood_df)"
   ]
  },
  {
   "cell_type": "code",
   "execution_count": 112,
   "metadata": {},
   "outputs": [
    {
     "data": {
      "text/plain": [
       "(4334, 8)"
      ]
     },
     "execution_count": 112,
     "metadata": {},
     "output_type": "execute_result"
    }
   ],
   "source": [
    "us_fastfood.shape"
   ]
  },
  {
   "cell_type": "code",
   "execution_count": null,
   "metadata": {},
   "outputs": [],
   "source": []
  }
 ],
 "metadata": {
  "kernelspec": {
   "display_name": "Python 3",
   "language": "python",
   "name": "python3"
  },
  "language_info": {
   "codemirror_mode": {
    "name": "ipython",
    "version": 3
   },
   "file_extension": ".py",
   "mimetype": "text/x-python",
   "name": "python",
   "nbconvert_exporter": "python",
   "pygments_lexer": "ipython3",
   "version": "3.6.8"
  }
 },
 "nbformat": 4,
 "nbformat_minor": 2
}
