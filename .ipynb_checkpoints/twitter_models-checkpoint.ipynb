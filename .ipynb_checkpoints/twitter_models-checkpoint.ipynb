{
 "cells": [
  {
   "cell_type": "code",
   "execution_count": 62,
   "metadata": {},
   "outputs": [],
   "source": [
    "import pandas as pd\n",
    "import ast\n",
    "import numpy as np"
   ]
  },
  {
   "cell_type": "code",
   "execution_count": 120,
   "metadata": {},
   "outputs": [],
   "source": [
    "data = pd.read_csv('data/target.csv')\n",
    "\n",
    "data.set_index(\"CensusTract\", inplace =True)"
   ]
  },
  {
   "cell_type": "markdown",
   "metadata": {},
   "source": [
    "### HEALTHY FOODS"
   ]
  },
  {
   "cell_type": "code",
   "execution_count": 121,
   "metadata": {},
   "outputs": [
    {
     "data": {
      "text/html": [
       "<div>\n",
       "<style scoped>\n",
       "    .dataframe tbody tr th:only-of-type {\n",
       "        vertical-align: middle;\n",
       "    }\n",
       "\n",
       "    .dataframe tbody tr th {\n",
       "        vertical-align: top;\n",
       "    }\n",
       "\n",
       "    .dataframe thead th {\n",
       "        text-align: right;\n",
       "    }\n",
       "</style>\n",
       "<table border=\"1\" class=\"dataframe\">\n",
       "  <thead>\n",
       "    <tr style=\"text-align: right;\">\n",
       "      <th></th>\n",
       "      <th>lat</th>\n",
       "      <th>long</th>\n",
       "      <th>comp</th>\n",
       "    </tr>\n",
       "    <tr>\n",
       "      <th>LILATracts_1And10</th>\n",
       "      <th></th>\n",
       "      <th></th>\n",
       "      <th></th>\n",
       "    </tr>\n",
       "  </thead>\n",
       "  <tbody>\n",
       "    <tr>\n",
       "      <th>0</th>\n",
       "      <td>37.312872</td>\n",
       "      <td>-92.654379</td>\n",
       "      <td>0.294027</td>\n",
       "    </tr>\n",
       "    <tr>\n",
       "      <th>1</th>\n",
       "      <td>36.167204</td>\n",
       "      <td>-90.754764</td>\n",
       "      <td>0.299744</td>\n",
       "    </tr>\n",
       "  </tbody>\n",
       "</table>\n",
       "</div>"
      ],
      "text/plain": [
       "                         lat       long      comp\n",
       "LILATracts_1And10                                \n",
       "0                  37.312872 -92.654379  0.294027\n",
       "1                  36.167204 -90.754764  0.299744"
      ]
     },
     "execution_count": 121,
     "metadata": {},
     "output_type": "execute_result"
    }
   ],
   "source": [
    "healthy = pd.read_csv('data/census_healthy1.csv',index_col='Unnamed: 0')\n",
    "\n",
    "healthy['sentiment']=healthy['sentiment'].apply(ast.literal_eval)\n",
    "\n",
    "healthy['comp']=healthy['sentiment'].apply(lambda x: x['compound'])\n",
    "\n",
    "sub_healthy = healthy[['keyword','text','coords','lat','long','census','comp']]\n",
    "\n",
    "sh_groupby = sub_healthy.groupby(\"census\")\n",
    "\n",
    "avg_sent = sh_groupby.mean()\n",
    "\n",
    "joined_healthy = data.join(avg_sent)\n",
    "\n",
    "joined_healthy[~joined_healthy['lat'].isnull()].groupby('LILATracts_1And10').mean()"
   ]
  },
  {
   "cell_type": "markdown",
   "metadata": {},
   "source": [
    "### UNHEALTHY FOODS"
   ]
  },
  {
   "cell_type": "code",
   "execution_count": 122,
   "metadata": {
    "scrolled": true
   },
   "outputs": [
    {
     "data": {
      "text/html": [
       "<div>\n",
       "<style scoped>\n",
       "    .dataframe tbody tr th:only-of-type {\n",
       "        vertical-align: middle;\n",
       "    }\n",
       "\n",
       "    .dataframe tbody tr th {\n",
       "        vertical-align: top;\n",
       "    }\n",
       "\n",
       "    .dataframe thead th {\n",
       "        text-align: right;\n",
       "    }\n",
       "</style>\n",
       "<table border=\"1\" class=\"dataframe\">\n",
       "  <thead>\n",
       "    <tr style=\"text-align: right;\">\n",
       "      <th></th>\n",
       "      <th>lat</th>\n",
       "      <th>long</th>\n",
       "      <th>comp</th>\n",
       "    </tr>\n",
       "    <tr>\n",
       "      <th>LILATracts_1And10</th>\n",
       "      <th></th>\n",
       "      <th></th>\n",
       "      <th></th>\n",
       "    </tr>\n",
       "  </thead>\n",
       "  <tbody>\n",
       "    <tr>\n",
       "      <th>0</th>\n",
       "      <td>37.331388</td>\n",
       "      <td>-92.855605</td>\n",
       "      <td>0.300909</td>\n",
       "    </tr>\n",
       "    <tr>\n",
       "      <th>1</th>\n",
       "      <td>35.909347</td>\n",
       "      <td>-92.017618</td>\n",
       "      <td>0.334915</td>\n",
       "    </tr>\n",
       "  </tbody>\n",
       "</table>\n",
       "</div>"
      ],
      "text/plain": [
       "                         lat       long      comp\n",
       "LILATracts_1And10                                \n",
       "0                  37.331388 -92.855605  0.300909\n",
       "1                  35.909347 -92.017618  0.334915"
      ]
     },
     "execution_count": 122,
     "metadata": {},
     "output_type": "execute_result"
    }
   ],
   "source": [
    "unhealthy = pd.read_csv('data/census_unhealthy1.csv',index_col='Unnamed: 0')\n",
    "\n",
    "unhealthy['sentiment']=unhealthy['sentiment'].apply(ast.literal_eval)\n",
    "\n",
    "unhealthy['comp']=unhealthy['sentiment'].apply(lambda x: x['compound'])\n",
    "\n",
    "sub_unhealthy = unhealthy[['keyword','text','coords','lat','long','census','comp']]\n",
    "\n",
    "suh_groupby = sub_unhealthy.groupby(\"census\")\n",
    "\n",
    "avg_sent_uh = suh_groupby.mean()\n",
    "\n",
    "joined_unhealthy = data.join(avg_sent_uh)\n",
    "\n",
    "joined_unhealthy[~joined_unhealthy['lat'].isnull()].groupby('LILATracts_1And10').mean()"
   ]
  },
  {
   "cell_type": "markdown",
   "metadata": {},
   "source": [
    "### GROCERY STORES"
   ]
  },
  {
   "cell_type": "code",
   "execution_count": 123,
   "metadata": {
    "scrolled": true
   },
   "outputs": [
    {
     "data": {
      "text/html": [
       "<div>\n",
       "<style scoped>\n",
       "    .dataframe tbody tr th:only-of-type {\n",
       "        vertical-align: middle;\n",
       "    }\n",
       "\n",
       "    .dataframe tbody tr th {\n",
       "        vertical-align: top;\n",
       "    }\n",
       "\n",
       "    .dataframe thead th {\n",
       "        text-align: right;\n",
       "    }\n",
       "</style>\n",
       "<table border=\"1\" class=\"dataframe\">\n",
       "  <thead>\n",
       "    <tr style=\"text-align: right;\">\n",
       "      <th></th>\n",
       "      <th>lat</th>\n",
       "      <th>long</th>\n",
       "      <th>comp</th>\n",
       "    </tr>\n",
       "    <tr>\n",
       "      <th>LILATracts_1And10</th>\n",
       "      <th></th>\n",
       "      <th></th>\n",
       "      <th></th>\n",
       "    </tr>\n",
       "  </thead>\n",
       "  <tbody>\n",
       "    <tr>\n",
       "      <th>0</th>\n",
       "      <td>36.144861</td>\n",
       "      <td>-101.187810</td>\n",
       "      <td>0.233442</td>\n",
       "    </tr>\n",
       "    <tr>\n",
       "      <th>1</th>\n",
       "      <td>36.828097</td>\n",
       "      <td>-102.679108</td>\n",
       "      <td>0.408850</td>\n",
       "    </tr>\n",
       "  </tbody>\n",
       "</table>\n",
       "</div>"
      ],
      "text/plain": [
       "                         lat        long      comp\n",
       "LILATracts_1And10                                 \n",
       "0                  36.144861 -101.187810  0.233442\n",
       "1                  36.828097 -102.679108  0.408850"
      ]
     },
     "execution_count": 123,
     "metadata": {},
     "output_type": "execute_result"
    }
   ],
   "source": [
    "grocery = pd.read_csv(\"data/census_grocery1.csv\",index_col='Unnamed: 0')\n",
    "\n",
    "grocery['sentiment']=grocery['sentiment'].apply(ast.literal_eval)\n",
    "\n",
    "grocery['comp']=grocery['sentiment'].apply(lambda x: x['compound'])\n",
    "\n",
    "sub_grocery = grocery[['keyword','text','coords','lat','long','census','comp']]\n",
    "\n",
    "grocery_groupby = sub_grocery.groupby(\"census\")\n",
    "\n",
    "avg_sent_grocery = grocery_groupby.mean()\n",
    "\n",
    "joined_grocery = data.join(avg_sent_grocery)\n",
    "\n",
    "joined_grocery[~joined_grocery['lat'].isnull()].groupby('LILATracts_1And10').mean()"
   ]
  },
  {
   "cell_type": "markdown",
   "metadata": {},
   "source": [
    "### FAST FOODS"
   ]
  },
  {
   "cell_type": "code",
   "execution_count": 124,
   "metadata": {},
   "outputs": [
    {
     "data": {
      "text/html": [
       "<div>\n",
       "<style scoped>\n",
       "    .dataframe tbody tr th:only-of-type {\n",
       "        vertical-align: middle;\n",
       "    }\n",
       "\n",
       "    .dataframe tbody tr th {\n",
       "        vertical-align: top;\n",
       "    }\n",
       "\n",
       "    .dataframe thead th {\n",
       "        text-align: right;\n",
       "    }\n",
       "</style>\n",
       "<table border=\"1\" class=\"dataframe\">\n",
       "  <thead>\n",
       "    <tr style=\"text-align: right;\">\n",
       "      <th></th>\n",
       "      <th>lat</th>\n",
       "      <th>long</th>\n",
       "      <th>comp</th>\n",
       "    </tr>\n",
       "    <tr>\n",
       "      <th>LILATracts_1And10</th>\n",
       "      <th></th>\n",
       "      <th></th>\n",
       "      <th></th>\n",
       "    </tr>\n",
       "  </thead>\n",
       "  <tbody>\n",
       "    <tr>\n",
       "      <th>0</th>\n",
       "      <td>37.591433</td>\n",
       "      <td>-93.645818</td>\n",
       "      <td>0.321130</td>\n",
       "    </tr>\n",
       "    <tr>\n",
       "      <th>1</th>\n",
       "      <td>37.352193</td>\n",
       "      <td>-93.893184</td>\n",
       "      <td>0.326516</td>\n",
       "    </tr>\n",
       "  </tbody>\n",
       "</table>\n",
       "</div>"
      ],
      "text/plain": [
       "                         lat       long      comp\n",
       "LILATracts_1And10                                \n",
       "0                  37.591433 -93.645818  0.321130\n",
       "1                  37.352193 -93.893184  0.326516"
      ]
     },
     "execution_count": 124,
     "metadata": {},
     "output_type": "execute_result"
    }
   ],
   "source": [
    "fastfood = pd.read_csv(\"data/census_fastfood1.csv\",index_col='Unnamed: 0')\n",
    "\n",
    "fastfood['sentiment']=fastfood['sentiment'].apply(ast.literal_eval)\n",
    "\n",
    "fastfood['comp']=fastfood['sentiment'].apply(lambda x: x['compound'])\n",
    "\n",
    "sub_fastfood = fastfood[['keyword','text','coords','lat','long','census','comp']]\n",
    "\n",
    "fastfood_groupby = sub_fastfood.groupby(\"census\")\n",
    "\n",
    "avg_sent_fastfood = fastfood_groupby.mean()\n",
    "\n",
    "joined_fastfood = data.join(avg_sent_fastfood)\n",
    "\n",
    "joined_fastfood[~joined_fastfood['lat'].isnull()].groupby('LILATracts_1And10').mean()"
   ]
  },
  {
   "cell_type": "code",
   "execution_count": null,
   "metadata": {},
   "outputs": [],
   "source": []
  }
 ],
 "metadata": {
  "kernelspec": {
   "display_name": "Python 3",
   "language": "python",
   "name": "python3"
  },
  "language_info": {
   "codemirror_mode": {
    "name": "ipython",
    "version": 3
   },
   "file_extension": ".py",
   "mimetype": "text/x-python",
   "name": "python",
   "nbconvert_exporter": "python",
   "pygments_lexer": "ipython3",
   "version": "3.6.8"
  }
 },
 "nbformat": 4,
 "nbformat_minor": 2
}
