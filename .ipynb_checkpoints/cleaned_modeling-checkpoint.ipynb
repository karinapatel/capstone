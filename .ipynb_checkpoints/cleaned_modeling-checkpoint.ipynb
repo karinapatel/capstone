{
 "cells": [
  {
   "cell_type": "code",
   "execution_count": 115,
   "metadata": {},
   "outputs": [],
   "source": [
    "import pandas as pd\n",
    "import numpy as np\n",
    "from sklearn.model_selection import train_test_split,cross_val_score\n",
    "import warnings\n",
    "warnings.filterwarnings('ignore')\n",
    "import ast\n",
    "from sklearn.metrics import confusion_matrix\n",
    "import matplotlib.pylab as plt\n",
    "from sklearn.ensemble import RandomForestClassifier,GradientBoostingClassifier\n",
    "from sklearn.metrics import roc_auc_score, f1_score, accuracy_score,recall_score,precision_score,roc_curve\n",
    "from sklearn.model_selection import GridSearchCV\n",
    "from sklearn.svm import LinearSVC"
   ]
  },
  {
   "cell_type": "code",
   "execution_count": 18,
   "metadata": {},
   "outputs": [],
   "source": [
    "#fill nulls and take a subset of features\n",
    "def clean(df):\n",
    "    #very few nulls in the data set -- filling them with the column mean\n",
    "    df.fillna(df.mean(),inplace=True)\n",
    "    #subset of data features based on EDA and correlation analysis\n",
    "    data1=df[['TEETHLOST_CrudePrev','STROKE_CrudePrev','PHLTH_CrudePrev','OBESITY_CrudePrev','MHLTH_CrudePrev','LPA_CrudePrev','KIDNEY_CrudePrev','DENTAL_CrudePrev','DIABETES_CrudePrev','CSMOKING_CrudePrev','COREW_CrudePrev','COPD_CrudePrev','CHOLSCREEN_CrudePrev','CASTHMA_CrudePrev','ACCESS2_CrudePrev','PovertyRate','TractSNAP','comp_healthy','comp_unhealthy','comp_grocery','comp_ff','Population2010','PCTGQTRS','HUNVFlag']]\n",
    "    data1['TractLOWI']=df['TractLOWI']/df['Population2010']\n",
    "    data1['TractKids']=df['TractKids']/df['Population2010']\n",
    "    data1['TractSeniors']=df['TractSeniors']/df['Population2010']\n",
    "    data1['TractWhite']=df['TractWhite']/df['Population2010']\n",
    "    data1['TractBlack']=df['TractBlack']/df['Population2010']\n",
    "    data1['TractAsian']=df['TractAsian']/df['Population2010']\n",
    "    data1['TractNHOPI']=df['TractNHOPI']/df['Population2010']\n",
    "    data1['TractAIAN']=df['TractAIAN']/df['Population2010']\n",
    "    data1['TractOMultir']=df['TractOMultir']/df['Population2010']\n",
    "    data1['TractHispanic']=df['TractHispanic']/df['Population2010']\n",
    "    data1['TractHUNV']=df['TractHUNV']/df['Population2010']\n",
    "    data1['TractSNAP']=df['TractSNAP']/df['Population2010']\n",
    "    return data1"
   ]
  },
  {
   "cell_type": "code",
   "execution_count": 19,
   "metadata": {},
   "outputs": [],
   "source": [
    "#prepping data for modeling\n",
    "def prep_data():\n",
    "\n",
    "    #food desert data + poverty rates + SNAP counts\n",
    "    food_desert = pd.ExcelFile('data/DataDownload2015.xlsx')\n",
    "\n",
    "    #just want  data, other sheets in the excel workbook are a readME and variable description\n",
    "    desert_data = food_desert.parse(2)\n",
    "    #set index to prepare for merging data sets\n",
    "    desert_data['CensusTract']=desert_data['CensusTract'].apply(lambda x: \"0\"+str(x) if len(str(x))==10 else str(x)) \n",
    "    desert_data.set_index('CensusTract', inplace=True)\n",
    "\n",
    "\n",
    "    #behavior and health data \n",
    "    behav = pd.read_csv('data/500_Cities__Census_Tract-level_Data__GIS_Friendly_Format___2018_release.csv',)\n",
    "    #setting index to the same feature as desert_data\n",
    "    behav['TractFIPS']=behav['TractFIPS'].apply(lambda x: \"0\"+str(x) if len(str(x))==10 else str(x)) \n",
    "    behav.set_index('TractFIPS', inplace=True)\n",
    "\n",
    "    #merge the data sets tp create our large dataset\n",
    "    merge1 = behav.merge(desert_data, how='inner', left_index=True, right_index=True)    \n",
    "\n",
    "    #ready for splitting data\n",
    "    #target food desert classification\n",
    "    y=merge1.pop('LILATracts_halfAnd10')\n",
    "    #feature matrix\n",
    "    X=merge1\n",
    "    X['county'] = [i[:5] for i in X.index]\n",
    "    \n",
    "    print(\"Preparing Healthy DF\")\n",
    "    healthy_clean=pd.read_csv('data/healthy_clean.csv',index_col=0)\n",
    "    healthy_clean['census']=healthy_clean['census'].apply(lambda x: \"0\"+str(x) if len(str(x))==10 else str(x)) \n",
    "    healthy_clean['county'] = healthy_clean['census'].apply(lambda x: x[:5])\n",
    "    healthy_clean['sentiment']=healthy_clean['sentiment'].apply(ast.literal_eval)\n",
    "    healthy_clean['comp_healthy']=healthy_clean['sentiment'].apply(lambda x: x['compound'])\n",
    "    county_sent_healthy = healthy_clean.groupby('county').mean()['comp_healthy']\n",
    "    county_sent_healthy = county_sent_healthy.reset_index()\n",
    "    \n",
    "    print(\"Preparing Unealthy DF\")\n",
    "    unhealthy_clean=pd.read_csv('data/unhealthy_clean.csv',index_col=0)\n",
    "    unhealthy_clean['census']=unhealthy_clean['census'].apply(lambda x: \"0\"+str(x) if len(str(x))==10 else str(x)) \n",
    "    unhealthy_clean.dropna(axis=0, inplace=True)\n",
    "    unhealthy_clean.census=unhealthy_clean.census.apply(float)\n",
    "    unhealthy_clean.dropna(axis=0, inplace=True)\n",
    "    unhealthy_clean.census=unhealthy_clean.census.apply(int)\n",
    "    unhealthy_clean['census']=unhealthy_clean['census'].apply(lambda x: \"0\"+str(x) if len(str(x))==10 else str(x)) \n",
    "    unhealthy_clean['county'] = unhealthy_clean['census'].apply(lambda x: x[:5])\n",
    "    unhealthy_clean['sentiment']=unhealthy_clean['sentiment'].apply(ast.literal_eval)\n",
    "    unhealthy_clean['comp_unhealthy']=unhealthy_clean['sentiment'].apply(lambda x: x['compound'])\n",
    "    county_sent_unhealthy = unhealthy_clean.groupby('county').mean()['comp_unhealthy']\n",
    "    county_sent_unhealthy = county_sent_unhealthy.reset_index()\n",
    "    \n",
    "    print(\"Preparing Grocery DF\")\n",
    "    grocery_stores_clean=pd.read_csv('data/grocery_stores_clean.csv',index_col=0)\n",
    "    grocery_stores_clean['census']=grocery_stores_clean['census'].apply(lambda x: \"0\"+str(x) if len(str(x))==10 else str(x)) \n",
    "    grocery_stores_clean['county'] = grocery_stores_clean['census'].apply(lambda x: x[:5])\n",
    "    grocery_stores_clean['sentiment']=grocery_stores_clean['sentiment'].apply(ast.literal_eval)\n",
    "    grocery_stores_clean['comp_grocery']=grocery_stores_clean['sentiment'].apply(lambda x: x['compound'])\n",
    "    county_sent_grocery = grocery_stores_clean.groupby('county').mean()['comp_grocery']\n",
    "    county_sent_grocery = county_sent_grocery.reset_index()\n",
    " \n",
    "    print(\"Preparing FF DF\")\n",
    "    ff_stores_clean=pd.read_csv('data/ff_stores_clean.csv',index_col=0)\n",
    "    ff_stores_clean['census']=ff_stores_clean['census'].apply(lambda x: \"0\"+str(x) if len(str(x))==10 else str(x)) \n",
    "    ff_stores_clean['county'] = ff_stores_clean['census'].apply(lambda x: x[:5])\n",
    "    ff_stores_clean['sentiment']=ff_stores_clean['sentiment'].apply(ast.literal_eval)\n",
    "    ff_stores_clean['comp_ff']=ff_stores_clean['sentiment'].apply(lambda x: x['compound'])\n",
    "    county_sent_ff = ff_stores_clean.groupby('county').mean()['comp_ff']\n",
    "    county_sent_ff = county_sent_ff.reset_index()\n",
    "    \n",
    "    print(\"Merging county sentiment\")\n",
    "    X1 = pd.merge(X,county_sent_healthy,how='left',left_on='county', right_on='county')\n",
    "    X2 = pd.merge(X1,county_sent_unhealthy,how='left',left_on='county', right_on='county')\n",
    "    X3 = pd.merge(X2,county_sent_grocery,how='left',left_on='county', right_on='county')\n",
    "    X4 = pd.merge(X3,county_sent_ff,how='left',left_on='county', right_on='county')\n",
    "\n",
    "\n",
    "    X4.fillna(-1,inplace=True)\n",
    "\n",
    "    #train test split\n",
    "    X_train, X_test, y_train, y_test = train_test_split(X4, y, test_size=0.20, random_state=42)\n",
    "\n",
    "    #perform cleaning on each dataset independently to prep for model fit and predict\n",
    "    print(\"Cleaning train and test DF\")\n",
    "    df_train = clean(X_train)\n",
    "    df_test = clean(X_test)\n",
    "\n",
    "    #return training and testing sets\n",
    "    return df_train,y_train,df_test,y_test"
   ]
  },
  {
   "cell_type": "code",
   "execution_count": 20,
   "metadata": {},
   "outputs": [
    {
     "name": "stdout",
     "output_type": "stream",
     "text": [
      "Preparing Healthy DF\n",
      "Preparing Unealthy DF\n",
      "Preparing Grocery DF\n",
      "Preparing FF DF\n",
      "Merging county sentiment\n",
      "Cleaning train and test DF\n"
     ]
    }
   ],
   "source": [
    "df_train,y_train,df_test,y_test = prep_data()"
   ]
  },
  {
   "cell_type": "code",
   "execution_count": 28,
   "metadata": {},
   "outputs": [
    {
     "name": "stdout",
     "output_type": "stream",
     "text": [
      "SVM\n",
      "\n",
      "\n",
      "TEST on SVM\n",
      "ROC_AUC score:  0.5888952503508426\n",
      "Accuracy score:  0.4763830178276052\n",
      "f1 score:  0.5754731038593354\n",
      "recall score:  0.9882292732855681\n",
      "precision score:  0.4059281059491276\n"
     ]
    }
   ],
   "source": [
    "#SVM\n",
    "model = LinearSVC(penalty='l2',loss='hinge')\n",
    "print(\"SVM\")\n",
    "print()\n",
    "\n",
    "print(\"TRAIN on SVM\")\n",
    "print(\"ROC_AUC score: \", cross_val_score(model,df_train,y_train,cv=5,scoring='roc_auc').mean())\n",
    "print(\"Accuracy score: \", cross_val_score(model,df_train,y_train,cv=5).mean())\n",
    "print(\"f1 score: \", cross_val_score(model,df_train,y_train,cv=5,scoring='f1').mean())\n",
    "\n",
    "model.fit(df_train,y_train)\n",
    "y_pred = model.predict(df_test)\n",
    "\n",
    "print()\n",
    "print(\"TEST on SVM\")\n",
    "print(\"ROC_AUC score: \", roc_auc_score(y_test,y_pred))\n",
    "print(\"Accuracy score: \", accuracy_score(y_test,y_pred))\n",
    "print(\"f1 score: \", f1_score(y_test,y_pred))\n",
    "print(\"recall score: \", recall_score(y_test,y_pred))\n",
    "print(\"precision score: \", precision_score(y_test,y_pred))"
   ]
  },
  {
   "cell_type": "code",
   "execution_count": 29,
   "metadata": {},
   "outputs": [
    {
     "name": "stdout",
     "output_type": "stream",
     "text": [
      "GRADIENT BOOSTING\n",
      "\n",
      "TRAIN on GB\n",
      "ROC_AUC score:  0.9520615656566216\n",
      "Accuracy score:  0.8826449030249591\n",
      "f1 score:  0.8355648452275559\n",
      "\n",
      "TEST on GB\n",
      "ROC_AUC score:  0.8719277245296833\n",
      "Accuracy score:  0.8845800404337438\n",
      "f1 score:  0.8373056994818652\n",
      "recall score:  0.827021494370522\n",
      "precision score:  0.8478488982161595\n"
     ]
    }
   ],
   "source": [
    "#GB\n",
    "model = GradientBoostingClassifier()\n",
    "print(\"GRADIENT BOOSTING\")\n",
    "print()\n",
    "\n",
    "print(\"TRAIN on GB\")\n",
    "print(\"ROC_AUC score: \", cross_val_score(model,df_train,y_train,cv=5,scoring='roc_auc').mean())\n",
    "print(\"Accuracy score: \", cross_val_score(model,df_train,y_train,cv=5).mean())\n",
    "print(\"f1 score: \", cross_val_score(model,df_train,y_train,cv=5,scoring='f1').mean())\n",
    "\n",
    "model.fit(df_train,y_train)\n",
    "y_pred = model.predict(df_test)\n",
    "\n",
    "print()\n",
    "print(\"TEST on GB\")\n",
    "print(\"ROC_AUC score: \", roc_auc_score(y_test,y_pred))\n",
    "print(\"Accuracy score: \", accuracy_score(y_test,y_pred))\n",
    "print(\"f1 score: \", f1_score(y_test,y_pred))\n",
    "print(\"recall score: \", recall_score(y_test,y_pred))\n",
    "print(\"precision score: \", precision_score(y_test,y_pred))"
   ]
  },
  {
   "cell_type": "code",
   "execution_count": 31,
   "metadata": {},
   "outputs": [
    {
     "name": "stdout",
     "output_type": "stream",
     "text": [
      "RANDOM FOREST\n",
      "\n",
      "TRAIN on RF\n",
      "ROC_AUC score:  0.9377089025841098\n",
      "Accuracy score:  0.8640356422548343\n",
      "f1 score:  0.808193083369607\n",
      "\n",
      "TEST on RF\n",
      "ROC_AUC score:  0.8452451259965733\n",
      "Accuracy score:  0.8663848557250505\n",
      "f1 score:  0.8054589242708055\n",
      "recall score:  0.77021494370522\n",
      "precision score:  0.8440830061693775\n"
     ]
    }
   ],
   "source": [
    "#RF model\n",
    "model=RandomForestClassifier()\n",
    "\n",
    "#new RF params\n",
    "print(\"RANDOM FOREST\")\n",
    "print()\n",
    "\n",
    "#train stats\n",
    "print(\"TRAIN on RF\")\n",
    "print(\"ROC_AUC score: \", cross_val_score(model,df_train,y_train,cv=5,scoring='roc_auc').mean())\n",
    "print(\"Accuracy score: \", cross_val_score(model,df_train,y_train,cv=5).mean())\n",
    "print(\"f1 score: \", cross_val_score(model,df_train,y_train,cv=5,scoring='f1').mean())\n",
    "\n",
    "#predict and get test stats\n",
    "model.fit(df_train,y_train)\n",
    "y_pred = model.predict(df_test)\n",
    "\n",
    "print()\n",
    "print(\"TEST on RF\")\n",
    "print(\"ROC_AUC score: \", roc_auc_score(y_test,y_pred))\n",
    "print(\"Accuracy score: \", accuracy_score(y_test,y_pred))\n",
    "print(\"f1 score: \", f1_score(y_test,y_pred))\n",
    "print(\"recall score: \", recall_score(y_test,y_pred))\n",
    "print(\"precision score: \", precision_score(y_test,y_pred))"
   ]
  },
  {
   "cell_type": "code",
   "execution_count": 93,
   "metadata": {},
   "outputs": [],
   "source": [
    "def permutation_importance(model, X_test, y_test, scorer=f1_score):\n",
    "    ''' Calculates permutation feature importance for a fitted model\n",
    "    \n",
    "    Parameters\n",
    "    ----------\n",
    "    model: anything with a predict() method\n",
    "    X_test, y_test: numpy arrays of data\n",
    "        unseen by model\n",
    "    scorer: function. Should be a \"higher is better\" scoring function,\n",
    "        meaning that if you want to use an error metric, you should\n",
    "        multiply it by -1 first.\n",
    "        ex: >> neg_mse = lambda y1, y2: -mean_squared_error(y1, y2)\n",
    "            >> permutation_importance(mod, X, y, scorer=neg_mse)\n",
    "    \n",
    "    Returns\n",
    "    -------\n",
    "    feat_importances: numpy array of permutation importance\n",
    "        for each feature\n",
    "    \n",
    "    '''\n",
    "    \n",
    "    feat_importances = np.zeros(X_test.shape[1])\n",
    "    test_score = scorer(model.predict(X_test), y_test)\n",
    "    for i in range(X_test.shape[1]):\n",
    "        X_test_shuffled = shuffle_column(X_test, i)\n",
    "        test_score_permuted = scorer(y_test, model.predict(X_test_shuffled))\n",
    "        feat_importances[i] = test_score - test_score_permuted\n",
    "    return feat_importances\n",
    "\n",
    "def shuffle_column(X, feature_index):\n",
    "    ''' \n",
    "    Parameters\n",
    "    ----------\n",
    "    X: numpy array\n",
    "    feature_index: int\n",
    "    \n",
    "    Returns\n",
    "    -------\n",
    "    X_new: numpy array\n",
    "    \n",
    "    Returns a new array identical to X but\n",
    "    with all the values in column feature_index\n",
    "    shuffled\n",
    "    '''   \n",
    "    \n",
    "    X_new = X.copy()\n",
    "    np.random.shuffle(X_new[:,feature_index])\n",
    "    return X_new\n",
    "\n",
    "## Plot of feature importances\n",
    "def plot_feat_import(f_imps, names, n):\n",
    "    sorts = np.argsort(f_imps)\n",
    "    \n",
    "    last_x = f_imps[sorts[-n:-1]]\n",
    "    last_x_names = names[sorts[-n:-1]]\n",
    "\n",
    "    idx = np.arange(len(names))\n",
    "\n",
    "    plt.barh(idx[-n:-1], last_x, align='center')\n",
    "    plt.yticks(idx[-n:-1], last_x_names)\n",
    "\n",
    "    plt.title(\"Permutation Importances in Random Forest\")\n",
    "    plt.xlabel('Relative Importance of Feature')\n",
    "    plt.ylabel('Feature Name')\n",
    "    plt.savefig(\"feature_importances.jpg\")\n",
    "    plt.show()"
   ]
  },
  {
   "cell_type": "code",
   "execution_count": 89,
   "metadata": {},
   "outputs": [],
   "source": [
    "#GB\n",
    "model = GradientBoostingClassifier()\n",
    "model.fit(df_train,y_train)\n",
    "y_predproba = model.predict_proba(df_test)\n",
    "fpr_gb,tpr_gb,thresholds=roc_curve(y_test.values,y_predproba[:,1])"
   ]
  },
  {
   "cell_type": "code",
   "execution_count": 94,
   "metadata": {},
   "outputs": [
    {
     "data": {
      "image/png": "[encoded data removed]",
      "text/plain": [
       "<Figure size 432x288 with 1 Axes>"
      ]
     },
     "metadata": {
      "needs_background": "light"
     },
     "output_type": "display_data"
    }
   ],
   "source": [
    "#GB\n",
    "f_imp = permutation_importance(model,df_test.values,y_test.values)\n",
    "plot_feat_import(f_imp, df_test.columns, 20)"
   ]
  },
  {
   "cell_type": "code",
   "execution_count": 67,
   "metadata": {},
   "outputs": [],
   "source": [
    "#RF\n",
    "model = RandomForestClassifier()\n",
    "model.fit(df_train,y_train)\n",
    "y_predproba_rf = model.predict_proba(df_test)\n",
    "fpr_rf,tpr_rf,thresholds=roc_curve(y_test.values,y_predproba_gb[:,1])"
   ]
  },
  {
   "cell_type": "code",
   "execution_count": 68,
   "metadata": {},
   "outputs": [
    {
     "data": {
      "image/png": "[encoded data removed]",
      "text/plain": [
       "<Figure size 432x288 with 1 Axes>"
      ]
     },
     "metadata": {
      "needs_background": "light"
     },
     "output_type": "display_data"
    }
   ],
   "source": [
    "#RF\n",
    "f_imp = permutation_importance(model,df_test.values,y_test.values)\n",
    "plot_feat_import(f_imp, df_test.columns, 11)"
   ]
  },
  {
   "cell_type": "code",
   "execution_count": 73,
   "metadata": {},
   "outputs": [
    {
     "data": {
      "text/plain": [
       "<matplotlib.legend.Legend at 0x1a2fbb6b70>"
      ]
     },
     "execution_count": 73,
     "metadata": {},
     "output_type": "execute_result"
    },
    {
     "data": {
      "image/png": "[encoded data removed]",
      "text/plain": [
       "<Figure size 648x504 with 1 Axes>"
      ]
     },
     "metadata": {
      "needs_background": "light"
     },
     "output_type": "display_data"
    }
   ],
   "source": [
    "#ROC:\n",
    "fig,ax = plt.subplots(1,1,figsize=(9,7))\n",
    "ax.plot(fpr, tpr,label='Gradient Boosing',marker='*', color='green')\n",
    "ax.plot([0,1],[0,1], 'k:')\n",
    "ax.set_xlabel(\"FPR\")\n",
    "ax.set_ylabel(\"TPR\")\n",
    "ax.set_title(\"ROC Curve\")\n",
    "#ax.plot(fpr_rf, tpr_rf,label='Random Forest',marker='*', color='blue',alpha=.5)\n",
    "ax.legend()"
   ]
  },
  {
   "cell_type": "code",
   "execution_count": null,
   "metadata": {},
   "outputs": [],
   "source": []
  },
  {
   "cell_type": "code",
   "execution_count": null,
   "metadata": {},
   "outputs": [],
   "source": [
    "#testing comp only"
   ]
  },
  {
   "cell_type": "code",
   "execution_count": 81,
   "metadata": {},
   "outputs": [],
   "source": [
    "#df_comp=df_train[['HUNV''comp_healthy','comp_unhealthy','comp_grocery','comp_ff']]\n",
    "df_comp=df_train[['HUNVFlag','TractHUNV','TractLOWI','OBESITY_CrudePrev','TEETHLOST_CrudePrev','TractOMultir','CHOLSCREEN_CrudePrev','TractWhite','MHLTH_CrudePrev','TractSeniors']]"
   ]
  },
  {
   "cell_type": "code",
   "execution_count": 82,
   "metadata": {},
   "outputs": [],
   "source": [
    "#df_test_comp=df_test[['comp_healthy','comp_unhealthy','comp_grocery','comp_ff']]\n",
    "df_test_comp=df_test[['HUNVFlag','TractHUNV','TractLOWI','OBESITY_CrudePrev','TEETHLOST_CrudePrev','TractOMultir','CHOLSCREEN_CrudePrev','TractWhite','MHLTH_CrudePrev','TractSeniors']]"
   ]
  },
  {
   "cell_type": "code",
   "execution_count": 83,
   "metadata": {},
   "outputs": [
    {
     "name": "stdout",
     "output_type": "stream",
     "text": [
      "GRADIENT BOOSTING\n",
      "\n",
      "TRAIN on GB\n",
      "ROC_AUC score:  0.9398684190033585\n",
      "Accuracy score:  0.8650002090343373\n",
      "f1 score:  0.8107303821361052\n",
      "\n",
      "TEST on GB\n",
      "ROC_AUC score:  0.8499565134309361\n",
      "Accuracy score:  0.8636280095570668\n",
      "f1 score:  0.8084667010841509\n",
      "recall score:  0.8014329580348004\n",
      "precision score:  0.815625\n"
     ]
    }
   ],
   "source": [
    "#GB\n",
    "model = GradientBoostingClassifier()\n",
    "print(\"GRADIENT BOOSTING\")\n",
    "print()\n",
    "\n",
    "print(\"TRAIN on GB\")\n",
    "print(\"ROC_AUC score: \", cross_val_score(model,df_comp,y_train,cv=5,scoring='roc_auc').mean())\n",
    "print(\"Accuracy score: \", cross_val_score(model,df_comp,y_train,cv=5).mean())\n",
    "print(\"f1 score: \", cross_val_score(model,df_comp,y_train,cv=5,scoring='f1').mean())\n",
    "\n",
    "model.fit(df_comp,y_train)\n",
    "y_pred = model.predict(df_test_comp)\n",
    "\n",
    "print()\n",
    "print(\"TEST on GB\")\n",
    "print(\"ROC_AUC score: \", roc_auc_score(y_test,y_pred))\n",
    "print(\"Accuracy score: \", accuracy_score(y_test,y_pred))\n",
    "print(\"f1 score: \", f1_score(y_test,y_pred))\n",
    "print(\"recall score: \", recall_score(y_test,y_pred))\n",
    "print(\"precision score: \", precision_score(y_test,y_pred))"
   ]
  },
  {
   "cell_type": "code",
   "execution_count": null,
   "metadata": {},
   "outputs": [],
   "source": []
  }
 ],
 "metadata": {
  "kernelspec": {
   "display_name": "Python 3",
   "language": "python",
   "name": "python3"
  },
  "language_info": {
   "codemirror_mode": {
    "name": "ipython",
    "version": 3
   },
   "file_extension": ".py",
   "mimetype": "text/x-python",
   "name": "python",
   "nbconvert_exporter": "python",
   "pygments_lexer": "ipython3",
   "version": "3.6.8"
  }
 },
 "nbformat": 4,
 "nbformat_minor": 2
}
