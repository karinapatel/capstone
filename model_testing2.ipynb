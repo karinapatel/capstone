{
 "cells": [
  {
   "cell_type": "code",
   "execution_count": 243,
   "metadata": {},
   "outputs": [],
   "source": [
    "import pandas as pd\n",
    "import numpy as np\n",
    "from sklearn.model_selection import train_test_split,cross_val_score\n",
    "import warnings\n",
    "warnings.filterwarnings('ignore')\n",
    "import ast\n",
    "from src.perm_imp import *\n",
    "from sklearn.metrics import confusion_matrix\n",
    "import matplotlib.pylab as plt\n",
    "from sklearn.ensemble import RandomForestClassifier,GradientBoostingClassifier\n",
    "from sklearn.metrics import roc_auc_score, f1_score, accuracy_score,recall_score,precision_score,roc_curve\n",
    "from sklearn.model_selection import GridSearchCV\n",
    "from sklearn.svm import LinearSVC\n",
    "from sklearn.linear_model import LogisticRegression\n",
    "from sklearn.neighbors import KNeighborsClassifier\n",
    "from sklearn.tree import DecisionTreeClassifier"
   ]
  },
  {
   "cell_type": "code",
   "execution_count": 18,
   "metadata": {},
   "outputs": [],
   "source": [
    "#fill nulls and take a subset of features\n",
    "def clean(df):\n",
    "    #very few nulls in the data set -- filling them with the column mean\n",
    "    df.fillna(df.mean(),inplace=True)\n",
    "    #subset of data features based on EDA and correlation analysis\n",
    "    data1=df[['TEETHLOST_CrudePrev','STROKE_CrudePrev','PHLTH_CrudePrev','OBESITY_CrudePrev','MHLTH_CrudePrev','LPA_CrudePrev','KIDNEY_CrudePrev','DENTAL_CrudePrev','DIABETES_CrudePrev','CSMOKING_CrudePrev','COREW_CrudePrev','COPD_CrudePrev','CHOLSCREEN_CrudePrev','CASTHMA_CrudePrev','ACCESS2_CrudePrev','PovertyRate','TractSNAP','comp_healthy','comp_unhealthy','comp_grocery','comp_ff','Population2010','PCTGQTRS','HUNVFlag']]\n",
    "    data1['TractLOWI']=df['TractLOWI']/df['Population2010']\n",
    "    data1['TractKids']=df['TractKids']/df['Population2010']\n",
    "    data1['TractSeniors']=df['TractSeniors']/df['Population2010']\n",
    "    data1['TractWhite']=df['TractWhite']/df['Population2010']\n",
    "    data1['TractBlack']=df['TractBlack']/df['Population2010']\n",
    "    data1['TractAsian']=df['TractAsian']/df['Population2010']\n",
    "    data1['TractNHOPI']=df['TractNHOPI']/df['Population2010']\n",
    "    data1['TractAIAN']=df['TractAIAN']/df['Population2010']\n",
    "    data1['TractOMultir']=df['TractOMultir']/df['Population2010']\n",
    "    data1['TractHispanic']=df['TractHispanic']/df['Population2010']\n",
    "    data1['TractHUNV']=df['TractHUNV']/df['Population2010']\n",
    "    data1['TractSNAP']=df['TractSNAP']/df['Population2010']\n",
    "    return data1"
   ]
  },
  {
   "cell_type": "code",
   "execution_count": 127,
   "metadata": {},
   "outputs": [],
   "source": [
    "#prepping data for modeling\n",
    "def prep_data():\n",
    "\n",
    "    #food desert data + poverty rates + SNAP counts\n",
    "    food_desert = pd.ExcelFile('data/food_desert_data.xlsx')\n",
    "\n",
    "    #just want  data, other sheets in the excel workbook are a readME and variable description\n",
    "    desert_data = food_desert.parse(2)\n",
    "    #set index to prepare for merging data sets\n",
    "    desert_data['CensusTract']=desert_data['CensusTract'].apply(lambda x: \"0\"+str(x) if len(str(x))==10 else str(x)) \n",
    "    desert_data.set_index('CensusTract', inplace=True)\n",
    "\n",
    "\n",
    "    #behavior and health data \n",
    "    behav = pd.read_csv('data/population_health.csv',)\n",
    "    #setting index to the same feature as desert_data\n",
    "    behav['TractFIPS']=behav['TractFIPS'].apply(lambda x: \"0\"+str(x) if len(str(x))==10 else str(x)) \n",
    "    behav.set_index('TractFIPS', inplace=True)\n",
    "\n",
    "    #merge the data sets tp create our large dataset\n",
    "    merge1 = behav.merge(desert_data, how='inner', left_index=True, right_index=True)    \n",
    "\n",
    "    #ready for splitting data\n",
    "    #target food desert classification\n",
    "    y=merge1.pop('LILATracts_halfAnd10')\n",
    "    #feature matrix\n",
    "    X=merge1\n",
    "    X['county'] = [i[:5] for i in X.index]\n",
    "    \n",
    "    print(\"Preparing Healthy DF\")\n",
    "    healthy_clean=pd.read_csv('data/twitter_mongo/healthy_final.csv',index_col=0)\n",
    "    healthy_clean['comp_healthy']=healthy_clean['comp']\n",
    "    county_sent_healthy = healthy_clean.groupby('county').mean()['comp_healthy']\n",
    "    county_sent_healthy = county_sent_healthy.reset_index()\n",
    "    \n",
    "    print(\"Preparing Unealthy DF\")\n",
    "    unhealthy_clean=pd.read_csv('data/twitter_mongo/unhealthy_final.csv',index_col=0)\n",
    "    unhealthy_clean['comp_unhealthy']=unhealthy_clean['comp']\n",
    "    county_sent_unhealthy = unhealthy_clean.groupby('county').mean()['comp_unhealthy']\n",
    "    county_sent_unhealthy = county_sent_unhealthy.reset_index()\n",
    "    \n",
    "    print(\"Preparing Grocery DF\")\n",
    "    grocery_stores_clean=pd.read_csv('data/twitter_mongo/grocery_stores_final.csv',index_col=0)\n",
    "    grocery_stores_clean['comp_grocery']=grocery_stores_clean['comp']\n",
    "    county_sent_grocery = grocery_stores_clean.groupby('county').mean()['comp_grocery']\n",
    "    county_sent_grocery = county_sent_grocery.reset_index()\n",
    " \n",
    "    print(\"Preparing FF DF\")\n",
    "    ff_stores_clean=pd.read_csv('data/twitter_mongo/ff_stores_final.csv',index_col=0)\n",
    "    ff_stores_clean['comp_ff']=ff_stores_clean['comp']\n",
    "    county_sent_ff = ff_stores_clean.groupby('county').mean()['comp_ff']\n",
    "    county_sent_ff = county_sent_ff.reset_index()\n",
    "    \n",
    "    print(\"Merging county sentiment\")\n",
    "    X1 = pd.merge(X,county_sent_healthy,how='left',left_on='county', right_on='county')\n",
    "    X2 = pd.merge(X1,county_sent_unhealthy,how='left',left_on='county', right_on='county')\n",
    "    X3 = pd.merge(X2,county_sent_grocery,how='left',left_on='county', right_on='county')\n",
    "    X4 = pd.merge(X3,county_sent_ff,how='left',left_on='county', right_on='county')\n",
    "\n",
    "    X4.fillna(-1,inplace=True)\n",
    "\n",
    "    #train test split\n",
    "    X_train, X_test, y_train, y_test = train_test_split(X4, y, test_size=0.20, random_state=42)\n",
    "\n",
    "    #perform cleaning on each dataset independently to prep for model fit and predict\n",
    "    print(\"Cleaning train and test DF\")\n",
    "    df_train = clean(X_train)\n",
    "    df_test = clean(X_test)\n",
    "\n",
    "    #return training and testing sets\n",
    "    return df_train,y_train,df_test,y_test"
   ]
  },
  {
   "cell_type": "code",
   "execution_count": 20,
   "metadata": {},
   "outputs": [
    {
     "name": "stdout",
     "output_type": "stream",
     "text": [
      "Preparing Healthy DF\n",
      "Preparing Unealthy DF\n",
      "Preparing Grocery DF\n",
      "Preparing FF DF\n",
      "Merging county sentiment\n",
      "Cleaning train and test DF\n"
     ]
    }
   ],
   "source": [
    "df_train,y_train,df_test,y_test = prep_data()"
   ]
  },
  {
   "cell_type": "code",
   "execution_count": 234,
   "metadata": {},
   "outputs": [
    {
     "name": "stdout",
     "output_type": "stream",
     "text": [
      "SVM\n",
      "\n",
      "TRAIN on SVM\n",
      "ROC_AUC score:  0.7560622068751665\n",
      "Accuracy score:  0.6378767474426021\n",
      "f1 score:  0.38411239530284014\n",
      "\n",
      "TEST on SVM\n",
      "ROC_AUC score:  0.7330257082968499\n",
      "Accuracy score:  0.7167800036757949\n",
      "f1 score:  0.6672424962211184\n",
      "recall score:  0.7906857727737974\n",
      "precision score:  0.57713858797161\n"
     ]
    }
   ],
   "source": [
    "#SVM\n",
    "model = LinearSVC(penalty='l2',loss='hinge')\n",
    "print(\"SVM\")\n",
    "print()\n",
    "\n",
    "print(\"TRAIN on SVM\")\n",
    "print(\"ROC_AUC score: \", cross_val_score(model,df_train,y_train,cv=5,scoring='roc_auc').mean())\n",
    "print(\"Accuracy score: \", cross_val_score(model,df_train,y_train,cv=5).mean())\n",
    "print(\"f1 score: \", cross_val_score(model,df_train,y_train,cv=5,scoring='f1').mean())\n",
    "\n",
    "model.fit(df_train,y_train)\n",
    "y_pred = model.predict(df_test)\n",
    "y_predproba_svm = model.decision_function(df_test)\n",
    "fpr_svm,tpr_svm,thresholds=roc_curve(y_test.values,y_predproba_svm)\n",
    "\n",
    "print()\n",
    "print(\"TEST on SVM\")\n",
    "print(\"ROC_AUC score: \", roc_auc_score(y_test,y_pred))\n",
    "print(\"Accuracy score: \", accuracy_score(y_test,y_pred))\n",
    "print(\"f1 score: \", f1_score(y_test,y_pred))\n",
    "print(\"recall score: \", recall_score(y_test,y_pred))\n",
    "print(\"precision score: \", precision_score(y_test,y_pred))"
   ]
  },
  {
   "cell_type": "code",
   "execution_count": 224,
   "metadata": {},
   "outputs": [
    {
     "name": "stdout",
     "output_type": "stream",
     "text": [
      "KNN\n",
      "\n",
      "TRAIN on KNN\n",
      "ROC_AUC score:  0.8202045901048042\n",
      "Accuracy score:  0.7587644613755219\n",
      "f1 score:  0.6642602224586309\n",
      "\n",
      "TEST on RF\n",
      "ROC_AUC score:  0.7428335954073017\n",
      "Accuracy score:  0.7610733321080684\n",
      "f1 score:  0.6708860759493671\n",
      "recall score:  0.6780962128966224\n",
      "precision score:  0.6638276553106213\n"
     ]
    }
   ],
   "source": [
    "#KNN\n",
    "print(\"KNN\")\n",
    "print()\n",
    "model = KNeighborsClassifier(n_neighbors=5)\n",
    "#train stats\n",
    "print(\"TRAIN on KNN\")\n",
    "print(\"ROC_AUC score: \", cross_val_score(model,df_train,y_train,cv=5,scoring='roc_auc').mean())\n",
    "print(\"Accuracy score: \", cross_val_score(model,df_train,y_train,cv=5).mean())\n",
    "print(\"f1 score: \", cross_val_score(model,df_train,y_train,cv=5,scoring='f1').mean())\n",
    "\n",
    "#predict and get test stats\n",
    "model.fit(df_train,y_train)\n",
    "y_pred = model.predict(df_test)\n",
    "y_predproba_knn = model.predict_proba(df_test)\n",
    "fpr_knn,tpr_knn,thresholds=roc_curve(y_test.values,y_predproba_knn[:,1])\n",
    "\n",
    "print()\n",
    "print(\"TEST on RF\")\n",
    "print(\"ROC_AUC score: \", roc_auc_score(y_test,y_pred))\n",
    "print(\"Accuracy score: \", accuracy_score(y_test,y_pred))\n",
    "print(\"f1 score: \", f1_score(y_test,y_pred))\n",
    "print(\"recall score: \", recall_score(y_test,y_pred))\n",
    "print(\"precision score: \", precision_score(y_test,y_pred))"
   ]
  },
  {
   "cell_type": "code",
   "execution_count": 195,
   "metadata": {},
   "outputs": [
    {
     "name": "stdout",
     "output_type": "stream",
     "text": [
      "LogReg\n",
      "\n",
      "TRAIN on LogReg\n",
      "ROC_AUC score:  0.9060321819200775\n",
      "Accuracy score:  0.8210266161943757\n",
      "f1 score:  0.7389965714794786\n",
      "\n",
      "TEST on LogReg\n",
      "ROC_AUC score:  0.7929091942318874\n",
      "Accuracy score:  0.8180481529130674\n",
      "f1 score:  0.7352941176470589\n",
      "recall score:  0.7036847492323439\n",
      "precision score:  0.7698768197088466\n"
     ]
    }
   ],
   "source": [
    "#Logistic Reg\n",
    "model = LogisticRegression(penalty='l1')\n",
    "print(\"LogReg\")\n",
    "print()\n",
    "\n",
    "print(\"TRAIN on LogReg\")\n",
    "print(\"ROC_AUC score: \", cross_val_score(model,df_train,y_train,cv=5,scoring='roc_auc').mean())\n",
    "print(\"Accuracy score: \", cross_val_score(model,df_train,y_train,cv=5).mean())\n",
    "print(\"f1 score: \", cross_val_score(model,df_train,y_train,cv=5,scoring='f1').mean())\n",
    "\n",
    "model.fit(df_train,y_train)\n",
    "y_pred = model.predict(df_test)\n",
    "y_predproba_lr = model.predict_proba(df_test)\n",
    "fpr_lr,tpr_lr,thresholds=roc_curve(y_test.values,y_predproba_lr[:,1])\n",
    "\n",
    "\n",
    "print()\n",
    "print(\"TEST on LogReg\")\n",
    "print(\"ROC_AUC score: \", roc_auc_score(y_test,y_pred))\n",
    "print(\"Accuracy score: \", accuracy_score(y_test,y_pred))\n",
    "print(\"f1 score: \", f1_score(y_test,y_pred))\n",
    "print(\"recall score: \", recall_score(y_test,y_pred))\n",
    "print(\"precision score: \", precision_score(y_test,y_pred))"
   ]
  },
  {
   "cell_type": "code",
   "execution_count": 244,
   "metadata": {},
   "outputs": [
    {
     "name": "stdout",
     "output_type": "stream",
     "text": [
      "Decision Tree\n",
      "\n",
      "TRAIN on DT\n",
      "ROC_AUC score:  0.8203235642801717\n",
      "Accuracy score:  0.8370627487297468\n",
      "f1 score:  0.7696953746965376\n",
      "\n",
      "TEST on DT\n",
      "ROC_AUC score:  0.8179701825672722\n",
      "Accuracy score:  0.8312810145193898\n",
      "f1 score:  0.7664122137404581\n",
      "recall score:  0.7707267144319345\n",
      "precision score:  0.7621457489878543\n"
     ]
    }
   ],
   "source": [
    "#Decision Tree\n",
    "print(\"Decision Tree\")\n",
    "print()\n",
    "model = DecisionTreeClassifier()\n",
    "#train stats\n",
    "print(\"TRAIN on DT\")\n",
    "print(\"ROC_AUC score: \", cross_val_score(model,df_train,y_train,cv=5,scoring='roc_auc').mean())\n",
    "print(\"Accuracy score: \", cross_val_score(model,df_train,y_train,cv=5).mean())\n",
    "print(\"f1 score: \", cross_val_score(model,df_train,y_train,cv=5,scoring='f1').mean())\n",
    "\n",
    "#predict and get test stats\n",
    "model.fit(df_train,y_train)\n",
    "y_pred = model.predict(df_test)\n",
    "y_predproba_dt = model.predict_proba(df_test)\n",
    "fpr_dt,tpr_dt,thresholds=roc_curve(y_test.values,y_predproba_dt[:,1])\n",
    "\n",
    "print()\n",
    "print(\"TEST on DT\")\n",
    "print(\"ROC_AUC score: \", roc_auc_score(y_test,y_pred))\n",
    "print(\"Accuracy score: \", accuracy_score(y_test,y_pred))\n",
    "print(\"f1 score: \", f1_score(y_test,y_pred))\n",
    "print(\"recall score: \", recall_score(y_test,y_pred))\n",
    "print(\"precision score: \", precision_score(y_test,y_pred))"
   ]
  },
  {
   "cell_type": "code",
   "execution_count": 29,
   "metadata": {},
   "outputs": [
    {
     "name": "stdout",
     "output_type": "stream",
     "text": [
      "GRADIENT BOOSTING\n",
      "\n",
      "TRAIN on GB\n",
      "ROC_AUC score:  0.9520615656566216\n",
      "Accuracy score:  0.8826449030249591\n",
      "f1 score:  0.8355648452275559\n",
      "\n",
      "TEST on GB\n",
      "ROC_AUC score:  0.8719277245296833\n",
      "Accuracy score:  0.8845800404337438\n",
      "f1 score:  0.8373056994818652\n",
      "recall score:  0.827021494370522\n",
      "precision score:  0.8478488982161595\n"
     ]
    }
   ],
   "source": [
    "#GB 1\n",
    "model = GradientBoostingClassifier()\n",
    "print(\"GRADIENT BOOSTING\")\n",
    "print()\n",
    "\n",
    "print(\"TRAIN on GB\")\n",
    "print(\"ROC_AUC score: \", cross_val_score(model,df_train,y_train,cv=5,scoring='roc_auc').mean())\n",
    "print(\"Accuracy score: \", cross_val_score(model,df_train,y_train,cv=5).mean())\n",
    "print(\"f1 score: \", cross_val_score(model,df_train,y_train,cv=5,scoring='f1').mean())\n",
    "\n",
    "model.fit(df_train,y_train)\n",
    "y_pred = model.predict(df_test)\n",
    "\n",
    "print()\n",
    "print(\"TEST on GB\")\n",
    "print(\"ROC_AUC score: \", roc_auc_score(y_test,y_pred))\n",
    "print(\"Accuracy score: \", accuracy_score(y_test,y_pred))\n",
    "print(\"f1 score: \", f1_score(y_test,y_pred))\n",
    "print(\"recall score: \", recall_score(y_test,y_pred))\n",
    "print(\"precision score: \", precision_score(y_test,y_pred))"
   ]
  },
  {
   "cell_type": "code",
   "execution_count": 190,
   "metadata": {},
   "outputs": [
    {
     "data": {
      "image/png": "[encoded data removed]",
      "text/plain": [
       "<Figure size 864x720 with 1 Axes>"
      ]
     },
     "metadata": {
      "needs_background": "light"
     },
     "output_type": "display_data"
    }
   ],
   "source": [
    "#GB\n",
    "f_imp = permutation_importance(model,df_test.values,y_test.values)\n",
    "fig,ax = plt.subplots(1,1,figsize=(12,10))\n",
    "plot_feat_import(f_imp, df_test.columns, 20)"
   ]
  },
  {
   "cell_type": "code",
   "execution_count": 118,
   "metadata": {},
   "outputs": [
    {
     "name": "stdout",
     "output_type": "stream",
     "text": [
      "Fitting 3 folds for each of 864 candidates, totalling 2592 fits\n"
     ]
    },
    {
     "name": "stderr",
     "output_type": "stream",
     "text": [
      "[Parallel(n_jobs=-1)]: Done  42 tasks      | elapsed:    9.9s\n",
      "[Parallel(n_jobs=-1)]: Done 192 tasks      | elapsed:  1.2min\n",
      "[Parallel(n_jobs=-1)]: Done 442 tasks      | elapsed:  3.6min\n",
      "[Parallel(n_jobs=-1)]: Done 792 tasks      | elapsed:  7.6min\n",
      "[Parallel(n_jobs=-1)]: Done 1242 tasks      | elapsed: 12.2min\n",
      "[Parallel(n_jobs=-1)]: Done 1792 tasks      | elapsed: 20.0min\n",
      "[Parallel(n_jobs=-1)]: Done 2442 tasks      | elapsed: 25.4min\n",
      "[Parallel(n_jobs=-1)]: Done 2592 out of 2592 | elapsed: 28.1min finished\n"
     ]
    },
    {
     "name": "stdout",
     "output_type": "stream",
     "text": [
      "best parameters: {'learning_rate': 0.1, 'max_depth': 5, 'max_features': 20, 'min_samples_leaf': 13, 'n_estimators': 100}\n"
     ]
    }
   ],
   "source": [
    "#gradient boosting grid search\n",
    "gb_grid = {'n_estimators': [10,50,100],\n",
    "                  'min_samples_leaf': [1, 7, 9, 13],\n",
    "                  'max_depth': [2, 3, 4, 5],\n",
    "                  'max_features': [2, 5, 10, 12,15,20],\n",
    "                  'learning_rate': [0.01,.1,1]}\n",
    "gb_gridsearch = GridSearchCV(GradientBoostingClassifier(),\n",
    "                             gb_grid,\n",
    "                             n_jobs=-1,\n",
    "                             verbose=True,\n",
    "                             scoring='roc_auc')\n",
    "gb_gridsearch.fit(df_train, y_train)\n",
    "\n",
    "print( \"best parameters:\", gb_gridsearch.best_params_ )\n",
    "\n",
    "best_gb_model = gb_gridsearch.best_estimator_"
   ]
  },
  {
   "cell_type": "code",
   "execution_count": 192,
   "metadata": {},
   "outputs": [],
   "source": [
    "model = best_gb_model"
   ]
  },
  {
   "cell_type": "code",
   "execution_count": 193,
   "metadata": {},
   "outputs": [
    {
     "data": {
      "text/plain": [
       "GradientBoostingClassifier(criterion='friedman_mse', init=None,\n",
       "              learning_rate=0.1, loss='deviance', max_depth=5,\n",
       "              max_features=20, max_leaf_nodes=None,\n",
       "              min_impurity_decrease=0.0, min_impurity_split=None,\n",
       "              min_samples_leaf=13, min_samples_split=2,\n",
       "              min_weight_fraction_leaf=0.0, n_estimators=100,\n",
       "              presort='auto', random_state=None, subsample=1.0, verbose=0,\n",
       "              warm_start=False)"
      ]
     },
     "execution_count": 193,
     "metadata": {},
     "output_type": "execute_result"
    }
   ],
   "source": [
    "model"
   ]
  },
  {
   "cell_type": "code",
   "execution_count": 152,
   "metadata": {},
   "outputs": [],
   "source": [
    "import pickle\n",
    "with open('model.pkl', 'wb') as f:\n",
    "        # Write the model to a file.\n",
    "        pickle.dump(model, f)"
   ]
  },
  {
   "cell_type": "code",
   "execution_count": 121,
   "metadata": {},
   "outputs": [
    {
     "name": "stdout",
     "output_type": "stream",
     "text": [
      "GRADIENT BOOSTING\n",
      "\n",
      "TRAIN on GB\n",
      "ROC_AUC score:  0.9565249971964267\n",
      "Accuracy score:  0.888894047884488\n",
      "f1 score:  0.8430242172854554\n",
      "\n",
      "TEST on GB\n",
      "ROC_AUC score:  0.8756138827092529\n",
      "Accuracy score:  0.8884396250689212\n",
      "f1 score:  0.84237860296027\n",
      "recall score:  0.8300921187308086\n",
      "precision score:  0.8550342646283605\n"
     ]
    }
   ],
   "source": [
    "#GB\n",
    "print(\"GRADIENT BOOSTING\")\n",
    "print()\n",
    "\n",
    "print(\"TRAIN on GB\")\n",
    "print(\"ROC_AUC score: \", cross_val_score(model,df_train,y_train,cv=5,scoring='roc_auc').mean())\n",
    "print(\"Accuracy score: \", cross_val_score(model,df_train,y_train,cv=5).mean())\n",
    "print(\"f1 score: \", cross_val_score(model,df_train,y_train,cv=5,scoring='f1').mean())\n",
    "\n",
    "model.fit(df_train,y_train)\n",
    "y_pred = model.predict(df_test)\n",
    "y_predproba_gb = model.predict_proba(df_test)\n",
    "fpr_gb,tpr_gb,thresholds=roc_curve(y_test.values,y_predproba_gb[:,1])\n",
    "\n",
    "print()\n",
    "print(\"TEST on GB\")\n",
    "print(\"ROC_AUC score: \", roc_auc_score(y_test,y_pred))\n",
    "print(\"Accuracy score: \", accuracy_score(y_test,y_pred))\n",
    "print(\"f1 score: \", f1_score(y_test,y_pred))\n",
    "print(\"recall score: \", recall_score(y_test,y_pred))\n",
    "print(\"precision score: \", precision_score(y_test,y_pred))"
   ]
  },
  {
   "cell_type": "code",
   "execution_count": 226,
   "metadata": {},
   "outputs": [
    {
     "data": {
      "text/plain": [
       "<matplotlib.legend.Legend at 0x1a5cc2b3c8>"
      ]
     },
     "execution_count": 226,
     "metadata": {},
     "output_type": "execute_result"
    },
    {
     "data": {
      "image/png": "[encoded data removed]",
      "text/plain": [
       "<Figure size 648x504 with 1 Axes>"
      ]
     },
     "metadata": {
      "needs_background": "light"
     },
     "output_type": "display_data"
    }
   ],
   "source": [
    "#ROC:\n",
    "fig,ax = plt.subplots(1,1,figsize=(9,7))\n",
    "ax.plot(fpr_gb, tpr_gb,label='Gradient Boosing: AUC=0.88',marker='*', color='green')\n",
    "ax.plot([0,1],[0,1], 'k:')\n",
    "ax.set_xlabel(\"False Positive Rate (FPR)\")\n",
    "ax.set_ylabel(\"True Positive Rate (TPR)\")\n",
    "ax.set_title(\"ROC Curve for Gradient Boosting Model\")\n",
    "#ax.plot(fpr_rf, tpr_rf,label='Random Forest',marker='*', color='blue',alpha=.5)\n",
    "ax.legend(loc='lower right')"
   ]
  },
  {
   "cell_type": "code",
   "execution_count": 124,
   "metadata": {},
   "outputs": [
    {
     "name": "stdout",
     "output_type": "stream",
     "text": [
      "Fitting 3 folds for each of 63 candidates, totalling 189 fits\n"
     ]
    },
    {
     "name": "stderr",
     "output_type": "stream",
     "text": [
      "[Parallel(n_jobs=-1)]: Done  42 tasks      | elapsed:  4.4min\n",
      "[Parallel(n_jobs=-1)]: Done 189 out of 189 | elapsed: 28.7min finished\n"
     ]
    }
   ],
   "source": [
    "#grid search for RF\n",
    "param_grid={'n_estimators': [200,300,400],\n",
    "            'max_depth': [3, None,1,2,5,7,10],\n",
    "            'max_features': ['sqrt','log2', None]\n",
    "           }\n",
    "\n",
    "rf_gridsearch = GridSearchCV(RandomForestClassifier(),\n",
    "                             param_grid,\n",
    "                             n_jobs=-1,\n",
    "                             verbose=True,\n",
    "                             scoring='roc_auc')\n",
    "rf_gridsearch.fit(df_train,y_train)\n",
    "\n",
    "best_estimator = rf_gridsearch.best_params_"
   ]
  },
  {
   "cell_type": "code",
   "execution_count": 231,
   "metadata": {},
   "outputs": [
    {
     "data": {
      "text/plain": [
       "{'max_depth': None, 'max_features': 'sqrt', 'n_estimators': 400}"
      ]
     },
     "execution_count": 231,
     "metadata": {},
     "output_type": "execute_result"
    }
   ],
   "source": [
    "best_estimator"
   ]
  },
  {
   "cell_type": "code",
   "execution_count": 232,
   "metadata": {},
   "outputs": [],
   "source": [
    "model = RandomForestClassifier(max_depth= None,max_features='sqrt',n_estimators=400)"
   ]
  },
  {
   "cell_type": "code",
   "execution_count": 233,
   "metadata": {},
   "outputs": [],
   "source": [
    "model.fit(df_train,y_train)\n",
    "y_pred = model.predict(df_test)\n",
    "y_predproba_rf = model.predict_proba(df_test)\n",
    "fpr_rf,tpr_rf,thresholds=roc_curve(y_test.values,y_predproba_rf[:,1])"
   ]
  },
  {
   "cell_type": "code",
   "execution_count": 126,
   "metadata": {},
   "outputs": [
    {
     "name": "stdout",
     "output_type": "stream",
     "text": [
      "RANDOM FOREST GS\n",
      "\n",
      "TRAIN on RF\n",
      "ROC_AUC score:  0.956528802447713\n",
      "Accuracy score:  0.8880209072343618\n",
      "f1 score:  0.8429511076519292\n",
      "\n",
      "TEST on RF\n",
      "ROC_AUC score:  0.8727262747229878\n",
      "Accuracy score:  0.8853151994118729\n",
      "f1 score:  0.8383419689119171\n",
      "recall score:  0.8280450358239508\n",
      "precision score:  0.8488982161594963\n"
     ]
    }
   ],
   "source": [
    "#RF model\n",
    "#new RF params\n",
    "print(\"RANDOM FOREST GS\")\n",
    "print()\n",
    "\n",
    "#train stats\n",
    "print(\"TRAIN on RF\")\n",
    "print(\"ROC_AUC score: \", cross_val_score(model,df_train,y_train,cv=5,scoring='roc_auc').mean())\n",
    "print(\"Accuracy score: \", cross_val_score(model,df_train,y_train,cv=5).mean())\n",
    "print(\"f1 score: \", cross_val_score(model,df_train,y_train,cv=5,scoring='f1').mean())\n",
    "\n",
    "#predict and get test stats\n",
    "model.fit(df_train,y_train)\n",
    "y_pred = model.predict(df_test)\n",
    "y_predproba_rf = model.predict_proba(df_test)\n",
    "fpr_rf,tpr_rf,thresholds=roc_curve(y_test.values,y_predproba_rf[:,1])\n",
    "\n",
    "print()\n",
    "print(\"TEST on RF\")\n",
    "print(\"ROC_AUC score: \", roc_auc_score(y_test,y_pred))\n",
    "print(\"Accuracy score: \", accuracy_score(y_test,y_pred))\n",
    "print(\"f1 score: \", f1_score(y_test,y_pred))\n",
    "print(\"recall score: \", recall_score(y_test,y_pred))\n",
    "print(\"precision score: \", precision_score(y_test,y_pred))"
   ]
  },
  {
   "cell_type": "code",
   "execution_count": 246,
   "metadata": {},
   "outputs": [
    {
     "data": {
      "image/png": "[encoded data removed]",
      "text/plain": [
       "<Figure size 648x504 with 1 Axes>"
      ]
     },
     "metadata": {
      "needs_background": "light"
     },
     "output_type": "display_data"
    }
   ],
   "source": [
    "#ROC:\n",
    "fig,ax = plt.subplots(1,1,figsize=(9,7))\n",
    "ax.plot(fpr_gb,tpr_gb,label='Gradient Boosing: AUC=0.88',marker='*', color='green')\n",
    "ax.plot(fpr_rf, tpr_rf,label='Random Forest: AUC=0.87',marker='*', color='blue')\n",
    "ax.plot(fpr_lr, tpr_lr,label='Logistic Regression: AUC=0.79',marker='*', color='red')\n",
    "ax.plot(fpr_knn, tpr_knn,label='KNN: AUC=0.74',marker='*', color='purple')\n",
    "ax.plot(fpr_svm, tpr_svm,label='SVM: AUC=0.73',marker='*', color='orange')\n",
    "#ax.plot(fpr_dt, tpr_dt,label='Decision Tree: AUC=0.82',marker='*', color='pink')\n",
    "ax.plot([0,1],[0,1], 'k:')\n",
    "ax.set_xlabel(\"False Positive Rate (FPR)\")\n",
    "ax.set_ylabel(\"True Positive Rate (TPR)\")\n",
    "ax.set_title(\"ROC Curve for Gradient Boosting Model\")\n",
    "ax.legend(loc='lower right')\n",
    "\n",
    "fig.savefig(\"images/ROC_compare.png\")"
   ]
  },
  {
   "cell_type": "code",
   "execution_count": null,
   "metadata": {},
   "outputs": [],
   "source": []
  }
 ],
 "metadata": {
  "kernelspec": {
   "display_name": "Python 3",
   "language": "python",
   "name": "python3"
  },
  "language_info": {
   "codemirror_mode": {
    "name": "ipython",
    "version": 3
   },
   "file_extension": ".py",
   "mimetype": "text/x-python",
   "name": "python",
   "nbconvert_exporter": "python",
   "pygments_lexer": "ipython3",
   "version": "3.6.8"
  }
 },
 "nbformat": 4,
 "nbformat_minor": 2
}
