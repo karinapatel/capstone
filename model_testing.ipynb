{
 "cells": [
  {
   "cell_type": "code",
   "execution_count": 27,
   "metadata": {},
   "outputs": [],
   "source": [
    "from cleaning_script import prep_data\n",
    "from model1 import my_model\n",
    "from sklearn.linear_model import LogisticRegression\n",
    "from sklearn.ensemble import RandomForestClassifier,GradientBoostingClassifier\n",
    "from sklearn.tree import DecisionTreeClassifier\n",
    "from sklearn.metrics import roc_auc_score, f1_score, accuracy_score\n",
    "\n",
    "from sklearn.model_selection import train_test_split,cross_val_score, GridSearchCV\n",
    "import warnings\n",
    "warnings.filterwarnings('ignore')"
   ]
  },
  {
   "cell_type": "code",
   "execution_count": 2,
   "metadata": {},
   "outputs": [
    {
     "name": "stderr",
     "output_type": "stream",
     "text": [
      "/anaconda3/lib/python3.6/site-packages/pandas/core/generic.py:4355: SettingWithCopyWarning: \n",
      "A value is trying to be set on a copy of a slice from a DataFrame\n",
      "\n",
      "See the caveats in the documentation: http://pandas.pydata.org/pandas-docs/stable/indexing.html#indexing-view-versus-copy\n",
      "  self._update_inplace(new_data)\n"
     ]
    }
   ],
   "source": [
    "df_train,y_train,df_test,y_test= prep_data()"
   ]
  },
  {
   "cell_type": "code",
   "execution_count": 15,
   "metadata": {},
   "outputs": [
    {
     "name": "stdout",
     "output_type": "stream",
     "text": [
      "TRAIN on RF\n",
      "ROC_AUC score:  0.8895859930397279\n",
      "Accuracy score:  0.8186505759736697\n",
      "f1 score:  0.7387805885975097\n",
      "TEST on RF\n",
      "ROC_AUC score:  0.7939978692545664\n",
      "Accuracy score:  0.8175946547884188\n",
      "f1 score:  0.7369097333761646\n"
     ]
    }
   ],
   "source": [
    "model = RandomForestClassifier()\n",
    "model.fit(df_train,y_train)\n",
    "\n",
    "print(\"TRAIN on RF\")\n",
    "print(\"ROC_AUC score: \", cross_val_score(model,df_train,y_train,cv=5,scoring='roc_auc').mean())\n",
    "print(\"Accuracy score: \", cross_val_score(model,df_train,y_train,cv=5).mean())\n",
    "print(\"f1 score: \", cross_val_score(model,df_train,y_train,cv=5,scoring='f1').mean())\n",
    "\n",
    "y_pred = model.predict(df_test)\n",
    "\n",
    "print(\"TEST on RF\")\n",
    "print(\"ROC_AUC score: \", roc_auc_score(y_test,y_pred))\n",
    "print(\"Accuracy score: \", accuracy_score(y_test,y_pred))\n",
    "print(\"f1 score: \", f1_score(y_test,y_pred))\n"
   ]
  },
  {
   "cell_type": "code",
   "execution_count": 16,
   "metadata": {},
   "outputs": [
    {
     "name": "stdout",
     "output_type": "stream",
     "text": [
      "TRAIN on DT\n",
      "ROC_AUC score:  0.8764307588680811\n",
      "Accuracy score:  0.8088315962698847\n",
      "f1 score:  0.7396114980886782\n",
      "TEST on DT\n",
      "ROC_AUC score:  0.7893913380116717\n",
      "Accuracy score:  0.8062360801781737\n",
      "f1 score:  0.730399752091726\n"
     ]
    }
   ],
   "source": [
    "model = DecisionTreeClassifier(criterion='entropy', max_depth=9, min_samples_leaf=13, min_samples_split=2)\n",
    "model.fit(df_train,y_train)\n",
    "\n",
    "print(\"TRAIN on DT\")\n",
    "print(\"ROC_AUC score: \", cross_val_score(model,df_train,y_train,cv=5,scoring='roc_auc').mean())\n",
    "print(\"Accuracy score: \", cross_val_score(model,df_train,y_train,cv=5).mean())\n",
    "print(\"f1 score: \", cross_val_score(model,df_train,y_train,cv=5,scoring='f1').mean())\n",
    "\n",
    "y_pred = model.predict(df_test)\n",
    "\n",
    "print(\"TEST on DT\")\n",
    "print(\"ROC_AUC score: \", roc_auc_score(y_test,y_pred))\n",
    "print(\"Accuracy score: \", accuracy_score(y_test,y_pred))\n",
    "print(\"f1 score: \", f1_score(y_test,y_pred))"
   ]
  },
  {
   "cell_type": "code",
   "execution_count": 20,
   "metadata": {},
   "outputs": [],
   "source": [
    "param_grid={'n_estimators': [300,400,500],\n",
    "            'max_depth': [3, None,1,2,5],\n",
    "            'max_features': ['sqrt','log2', None]\n",
    "           }\n",
    "\n",
    "grid = GridSearchCV(RandomForestClassifier(),param_grid=param_grid,n_jobs=-1,scoring=\"f1\",cv=5)\n",
    "grid.fit(df_train,y_train)\n",
    "\n",
    "best_estimator = grid.best_params_"
   ]
  },
  {
   "cell_type": "code",
   "execution_count": 24,
   "metadata": {},
   "outputs": [
    {
     "data": {
      "text/plain": [
       "RandomForestClassifier(bootstrap=True, class_weight=None, criterion='gini',\n",
       "            max_depth=None, max_features='log2', max_leaf_nodes=None,\n",
       "            min_impurity_decrease=0.0, min_impurity_split=None,\n",
       "            min_samples_leaf=1, min_samples_split=2,\n",
       "            min_weight_fraction_leaf=0.0, n_estimators=500, n_jobs=1,\n",
       "            oob_score=False, random_state=None, verbose=0,\n",
       "            warm_start=False)"
      ]
     },
     "execution_count": 24,
     "metadata": {},
     "output_type": "execute_result"
    }
   ],
   "source": [
    "best_rf_model = grid.best_estimator_\n",
    "best_rf_model.fit(df_train,y_train)"
   ]
  },
  {
   "cell_type": "code",
   "execution_count": 25,
   "metadata": {},
   "outputs": [
    {
     "name": "stdout",
     "output_type": "stream",
     "text": [
      "TRAIN on RF_GS\n",
      "ROC_AUC score:  0.9122870603162669\n",
      "Accuracy score:  0.8368074602303895\n",
      "f1 score:  0.7801648797902647\n",
      "TEST on RF_GS\n",
      "ROC_AUC score:  0.8322512737964819\n",
      "Accuracy score:  0.8406458797327394\n",
      "f1 score:  0.78373885446577\n"
     ]
    }
   ],
   "source": [
    "print(\"TRAIN on RF_GS\")\n",
    "print(\"ROC_AUC score: \", cross_val_score(best_rf_model,df_train,y_train,cv=5,scoring='roc_auc').mean())\n",
    "print(\"Accuracy score: \", cross_val_score(best_rf_model,df_train,y_train,cv=5).mean())\n",
    "print(\"f1 score: \", cross_val_score(best_rf_model,df_train,y_train,cv=5,scoring='f1').mean())\n",
    "\n",
    "y_pred = best_rf_model.predict(df_test)\n",
    "\n",
    "print(\"TEST on RF_GS\")\n",
    "print(\"ROC_AUC score: \", roc_auc_score(y_test,y_pred))\n",
    "print(\"Accuracy score: \", accuracy_score(y_test,y_pred))\n",
    "print(\"f1 score: \", f1_score(y_test,y_pred))"
   ]
  },
  {
   "cell_type": "code",
   "execution_count": 31,
   "metadata": {},
   "outputs": [
    {
     "name": "stdout",
     "output_type": "stream",
     "text": [
      "Fitting 3 folds for each of 1500 candidates, totalling 4500 fits\n"
     ]
    },
    {
     "name": "stderr",
     "output_type": "stream",
     "text": [
      "[Parallel(n_jobs=-1)]: Done  42 tasks      | elapsed:    5.5s\n",
      "[Parallel(n_jobs=-1)]: Done 192 tasks      | elapsed:   46.0s\n",
      "[Parallel(n_jobs=-1)]: Done 442 tasks      | elapsed:  2.2min\n",
      "[Parallel(n_jobs=-1)]: Done 792 tasks      | elapsed:  6.4min\n",
      "[Parallel(n_jobs=-1)]: Done 1242 tasks      | elapsed:  9.9min\n",
      "[Parallel(n_jobs=-1)]: Done 1792 tasks      | elapsed: 16.6min\n",
      "[Parallel(n_jobs=-1)]: Done 2442 tasks      | elapsed: 21.1min\n",
      "[Parallel(n_jobs=-1)]: Done 3192 tasks      | elapsed: 28.7min\n",
      "[Parallel(n_jobs=-1)]: Done 4042 tasks      | elapsed: 37.3min\n",
      "[Parallel(n_jobs=-1)]: Done 4500 out of 4500 | elapsed: 42.7min finished\n"
     ]
    },
    {
     "name": "stdout",
     "output_type": "stream",
     "text": [
      "best parameters: {'learning_rate': 0.1, 'max_depth': 6, 'max_features': 5, 'min_samples_leaf': 7, 'n_estimators': 100}\n"
     ]
    }
   ],
   "source": [
    "#gb grid search\n",
    "gb_grid = {'n_estimators': [10,50,100],\n",
    "                  'min_samples_leaf': [1, 7, 9, 13],\n",
    "                  'max_depth': [3, 4, 5, 6, 7],\n",
    "                  'max_features': [2, 5, 10, 12,15],\n",
    "                  'learning_rate': [0.05, 0.02, 0.01,.1,1]}\n",
    "gb_gridsearch = GridSearchCV(GradientBoostingClassifier(),\n",
    "                             gb_grid,\n",
    "                             n_jobs=-1,\n",
    "                             verbose=True,\n",
    "                             scoring='neg_mean_squared_error')\n",
    "gb_gridsearch.fit(df_train, y_train)\n",
    "\n",
    "print( \"best parameters:\", gb_gridsearch.best_params_ )\n",
    "\n",
    "best_gb_model = gb_gridsearch.best_estimator_"
   ]
  },
  {
   "cell_type": "code",
   "execution_count": 32,
   "metadata": {},
   "outputs": [
    {
     "data": {
      "text/plain": [
       "GradientBoostingClassifier(criterion='friedman_mse', init=None,\n",
       "              learning_rate=0.1, loss='deviance', max_depth=6,\n",
       "              max_features=5, max_leaf_nodes=None,\n",
       "              min_impurity_decrease=0.0, min_impurity_split=None,\n",
       "              min_samples_leaf=7, min_samples_split=2,\n",
       "              min_weight_fraction_leaf=0.0, n_estimators=100,\n",
       "              presort='auto', random_state=None, subsample=1.0, verbose=0,\n",
       "              warm_start=False)"
      ]
     },
     "execution_count": 32,
     "metadata": {},
     "output_type": "execute_result"
    }
   ],
   "source": [
    "best_gb_model.fit(df_train,y_train)"
   ]
  },
  {
   "cell_type": "code",
   "execution_count": 33,
   "metadata": {},
   "outputs": [
    {
     "name": "stdout",
     "output_type": "stream",
     "text": [
      "TRAIN on GB_GS\n",
      "ROC_AUC score:  0.9102661729729448\n",
      "Accuracy score:  0.8352715304443226\n",
      "f1 score:  0.7773797054652114\n",
      "TEST on GB_GS\n",
      "ROC_AUC score:  0.8233274854103364\n",
      "Accuracy score:  0.8332962138084633\n",
      "f1 score:  0.7728031567764456\n"
     ]
    }
   ],
   "source": [
    "print(\"TRAIN on GB_GS\")\n",
    "print(\"ROC_AUC score: \", cross_val_score(best_gb_model,df_train,y_train,cv=5,scoring='roc_auc').mean())\n",
    "print(\"Accuracy score: \", cross_val_score(best_gb_model,df_train,y_train,cv=5).mean())\n",
    "print(\"f1 score: \", cross_val_score(best_gb_model,df_train,y_train,cv=5,scoring='f1').mean())\n",
    "\n",
    "y_pred = best_gb_model.predict(df_test)\n",
    "\n",
    "print(\"TEST on GB_GS\")\n",
    "print(\"ROC_AUC score: \", roc_auc_score(y_test,y_pred))\n",
    "print(\"Accuracy score: \", accuracy_score(y_test,y_pred))\n",
    "print(\"f1 score: \", f1_score(y_test,y_pred))"
   ]
  },
  {
   "cell_type": "code",
   "execution_count": null,
   "metadata": {},
   "outputs": [],
   "source": []
  }
 ],
 "metadata": {
  "kernelspec": {
   "display_name": "Python 3",
   "language": "python",
   "name": "python3"
  },
  "language_info": {
   "codemirror_mode": {
    "name": "ipython",
    "version": 3
   },
   "file_extension": ".py",
   "mimetype": "text/x-python",
   "name": "python",
   "nbconvert_exporter": "python",
   "pygments_lexer": "ipython3",
   "version": "3.6.8"
  }
 },
 "nbformat": 4,
 "nbformat_minor": 2
}
