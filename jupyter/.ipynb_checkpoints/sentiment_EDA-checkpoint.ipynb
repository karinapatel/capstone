{
 "cells": [
  {
   "cell_type": "code",
   "execution_count": 1,
   "metadata": {},
   "outputs": [],
   "source": [
    "import pandas as pd\n",
    "import ast\n",
    "import numpy as np"
   ]
  },
  {
   "cell_type": "code",
   "execution_count": 64,
   "metadata": {},
   "outputs": [],
   "source": [
    "def state_merge(path_to_data,path_to_new):\n",
    "    df = pd.read_csv(path_to_data,index_col='Unnamed: 0')\n",
    "    df['census'] = df['census'].apply(lambda x: \"0\"+str(x) if len(str(x))==10 else str(x)) \n",
    "    df['county'] = df['census'].apply(lambda x: x[:5])\n",
    "    df['state'] = df['county'].apply(lambda x: x[:2])\n",
    "    state_df = df.groupby('state').mean()\n",
    "    state_df=state_df[['comp','LILATracts_1And10']]\n",
    "    state_df = state_df.join(state_data)\n",
    "    #state_df.to_csv(path_to_new)\n",
    "    return state_df"
   ]
  },
  {
   "cell_type": "code",
   "execution_count": 71,
   "metadata": {},
   "outputs": [],
   "source": [
    "def county_merge(path_to_data,path_to_new):\n",
    "    df = pd.read_csv(path_to_data,index_col='Unnamed: 0')\n",
    "    df['census'] = df['census'].apply(lambda x: \"0\"+str(x) if len(str(x))==10 else str(x)) \n",
    "    df['county'] = df['census'].apply(lambda x: x[:5])\n",
    "    df['state'] = df['county'].apply(lambda x: x[:2])\n",
    "    county_df = df.groupby('county').mean()\n",
    "    county_df=county_df[['comp','LILATracts_1And10']]\n",
    "    county_df = county_df.join(state_data)\n",
    "    county_df.to_csv(path_to_new)"
   ]
  },
  {
   "cell_type": "code",
   "execution_count": 292,
   "metadata": {},
   "outputs": [],
   "source": [
    "#read in target data\n",
    "target = pd.read_csv('../data/target.csv', index_col=0)\n",
    "target['CensusTract'] = target['CensusTract'].apply(lambda x: \"0\"+str(x) if len(str(x))==10 else str(x)) "
   ]
  },
  {
   "cell_type": "code",
   "execution_count": 293,
   "metadata": {},
   "outputs": [],
   "source": [
    "target['county'] = target['CensusTract'].apply(lambda x: x[:5]) \n",
    "target.set_index(\"county\", inplace =True)\n",
    "target = target.drop('CensusTract',axis=1)"
   ]
  },
  {
   "cell_type": "code",
   "execution_count": 297,
   "metadata": {},
   "outputs": [],
   "source": [
    "county_desert = target.groupby('county').mean()"
   ]
  },
  {
   "cell_type": "code",
   "execution_count": 302,
   "metadata": {},
   "outputs": [],
   "source": [
    "county_desert.reset_index(inplace=True)"
   ]
  },
  {
   "cell_type": "code",
   "execution_count": 349,
   "metadata": {},
   "outputs": [
    {
     "data": {
      "text/plain": [
       "Index(['01001', '01003', '01005', '01007', '01009', '01011', '01013', '01015',\n",
       "       '01017', '01019',\n",
       "       ...\n",
       "       '56027', '56029', '56031', '56033', '56035', '56037', '56039', '56041',\n",
       "       '56043', '56045'],\n",
       "      dtype='object', name='county', length=3143)"
      ]
     },
     "execution_count": 349,
     "metadata": {},
     "output_type": "execute_result"
    }
   ],
   "source": [
    "target.index.unique()"
   ]
  },
  {
   "cell_type": "markdown",
   "metadata": {},
   "source": [
    "### HEALTHY FOODS"
   ]
  },
  {
   "cell_type": "code",
   "execution_count": 24,
   "metadata": {},
   "outputs": [],
   "source": [
    "healthy = pd.read_csv('../data/twitter_mongo/healthy_final.csv',index_col='Unnamed: 0')\n",
    "healthy['census'] = healthy['census'].apply(lambda x: \"0\"+str(x) if len(str(x))==10 else str(x)) \n",
    "healthy['county'] = healthy['census'].apply(lambda x: x[:5])\n",
    "healthy['state'] = healthy['county'].apply(lambda x: x[:2])\n",
    "#healthy.groupby('LILATracts_1And10').mean()['comp']"
   ]
  },
  {
   "cell_type": "code",
   "execution_count": 66,
   "metadata": {},
   "outputs": [
    {
     "data": {
      "text/html": [
       "<div>\n",
       "<style scoped>\n",
       "    .dataframe tbody tr th:only-of-type {\n",
       "        vertical-align: middle;\n",
       "    }\n",
       "\n",
       "    .dataframe tbody tr th {\n",
       "        vertical-align: top;\n",
       "    }\n",
       "\n",
       "    .dataframe thead th {\n",
       "        text-align: right;\n",
       "    }\n",
       "</style>\n",
       "<table border=\"1\" class=\"dataframe\">\n",
       "  <thead>\n",
       "    <tr style=\"text-align: right;\">\n",
       "      <th></th>\n",
       "      <th>keyword</th>\n",
       "      <th>text</th>\n",
       "      <th>lat</th>\n",
       "      <th>long</th>\n",
       "      <th>census</th>\n",
       "      <th>comp</th>\n",
       "      <th>category</th>\n",
       "      <th>LILATracts_1And10</th>\n",
       "      <th>county</th>\n",
       "      <th>state</th>\n",
       "    </tr>\n",
       "  </thead>\n",
       "  <tbody>\n",
       "  </tbody>\n",
       "</table>\n",
       "</div>"
      ],
      "text/plain": [
       "Empty DataFrame\n",
       "Columns: [keyword, text, lat, long, census, comp, category, LILATracts_1And10, county, state]\n",
       "Index: []"
      ]
     },
     "execution_count": 66,
     "metadata": {},
     "output_type": "execute_result"
    }
   ],
   "source": [
    "healthy[np.array([len(str(i))!=5 for i in healthy.county])]"
   ]
  },
  {
   "cell_type": "code",
   "execution_count": 72,
   "metadata": {},
   "outputs": [
    {
     "data": {
      "text/html": [
       "<div>\n",
       "<style scoped>\n",
       "    .dataframe tbody tr th:only-of-type {\n",
       "        vertical-align: middle;\n",
       "    }\n",
       "\n",
       "    .dataframe tbody tr th {\n",
       "        vertical-align: top;\n",
       "    }\n",
       "\n",
       "    .dataframe thead th {\n",
       "        text-align: right;\n",
       "    }\n",
       "</style>\n",
       "<table border=\"1\" class=\"dataframe\">\n",
       "  <thead>\n",
       "    <tr style=\"text-align: right;\">\n",
       "      <th></th>\n",
       "      <th>keyword</th>\n",
       "      <th>text</th>\n",
       "      <th>lat</th>\n",
       "      <th>long</th>\n",
       "      <th>census</th>\n",
       "      <th>comp</th>\n",
       "      <th>category</th>\n",
       "      <th>LILATracts_1And10</th>\n",
       "      <th>county</th>\n",
       "      <th>state</th>\n",
       "    </tr>\n",
       "  </thead>\n",
       "  <tbody>\n",
       "    <tr>\n",
       "      <th>0</th>\n",
       "      <td>almond</td>\n",
       "      <td>Almond cake , mango and raspberry compote , le...</td>\n",
       "      <td>25.754059</td>\n",
       "      <td>-80.260989</td>\n",
       "      <td>12086006206</td>\n",
       "      <td>0.0000</td>\n",
       "      <td>healthy</td>\n",
       "      <td>0</td>\n",
       "      <td>12086</td>\n",
       "      <td>12</td>\n",
       "    </tr>\n",
       "    <tr>\n",
       "      <th>1</th>\n",
       "      <td>avocado</td>\n",
       "      <td>Breakfast all day : On the Mix Slam with avoca...</td>\n",
       "      <td>25.752978</td>\n",
       "      <td>-80.261223</td>\n",
       "      <td>12086006206</td>\n",
       "      <td>-0.4389</td>\n",
       "      <td>healthy</td>\n",
       "      <td>0</td>\n",
       "      <td>12086</td>\n",
       "      <td>12</td>\n",
       "    </tr>\n",
       "    <tr>\n",
       "      <th>2</th>\n",
       "      <td>mango</td>\n",
       "      <td>Almond cake , mango and raspberry compote , le...</td>\n",
       "      <td>25.754059</td>\n",
       "      <td>-80.260989</td>\n",
       "      <td>12086006206</td>\n",
       "      <td>0.0000</td>\n",
       "      <td>healthy</td>\n",
       "      <td>0</td>\n",
       "      <td>12086</td>\n",
       "      <td>12</td>\n",
       "    </tr>\n",
       "    <tr>\n",
       "      <th>3</th>\n",
       "      <td>raspberry</td>\n",
       "      <td>Almond cake , mango and raspberry compote , le...</td>\n",
       "      <td>25.754059</td>\n",
       "      <td>-80.260989</td>\n",
       "      <td>12086006206</td>\n",
       "      <td>0.0000</td>\n",
       "      <td>healthy</td>\n",
       "      <td>0</td>\n",
       "      <td>12086</td>\n",
       "      <td>12</td>\n",
       "    </tr>\n",
       "    <tr>\n",
       "      <th>4</th>\n",
       "      <td>raspberry</td>\n",
       "      <td>Dulcey , raspberry and coconut entremet at @ba...</td>\n",
       "      <td>25.754059</td>\n",
       "      <td>-80.260989</td>\n",
       "      <td>12086006206</td>\n",
       "      <td>0.0000</td>\n",
       "      <td>healthy</td>\n",
       "      <td>0</td>\n",
       "      <td>12086</td>\n",
       "      <td>12</td>\n",
       "    </tr>\n",
       "  </tbody>\n",
       "</table>\n",
       "</div>"
      ],
      "text/plain": [
       "     keyword                                               text        lat  \\\n",
       "0     almond  Almond cake , mango and raspberry compote , le...  25.754059   \n",
       "1    avocado  Breakfast all day : On the Mix Slam with avoca...  25.752978   \n",
       "2      mango  Almond cake , mango and raspberry compote , le...  25.754059   \n",
       "3  raspberry  Almond cake , mango and raspberry compote , le...  25.754059   \n",
       "4  raspberry  Dulcey , raspberry and coconut entremet at @ba...  25.754059   \n",
       "\n",
       "        long       census    comp category  LILATracts_1And10 county state  \n",
       "0 -80.260989  12086006206  0.0000  healthy                  0  12086    12  \n",
       "1 -80.261223  12086006206 -0.4389  healthy                  0  12086    12  \n",
       "2 -80.260989  12086006206  0.0000  healthy                  0  12086    12  \n",
       "3 -80.260989  12086006206  0.0000  healthy                  0  12086    12  \n",
       "4 -80.260989  12086006206  0.0000  healthy                  0  12086    12  "
      ]
     },
     "execution_count": 72,
     "metadata": {},
     "output_type": "execute_result"
    }
   ],
   "source": [
    "healthy.join()"
   ]
  },
  {
   "cell_type": "code",
   "execution_count": 68,
   "metadata": {},
   "outputs": [],
   "source": [
    "county_sent = healthy.groupby('county').mean()"
   ]
  },
  {
   "cell_type": "code",
   "execution_count": 69,
   "metadata": {},
   "outputs": [],
   "source": [
    "county_sent=county_sent[['comp','LILATracts_1And10']]"
   ]
  },
  {
   "cell_type": "code",
   "execution_count": 300,
   "metadata": {},
   "outputs": [],
   "source": [
    "county_sent = county_sent.reset_index()"
   ]
  },
  {
   "cell_type": "code",
   "execution_count": 301,
   "metadata": {},
   "outputs": [
    {
     "data": {
      "text/html": [
       "<div>\n",
       "<style scoped>\n",
       "    .dataframe tbody tr th:only-of-type {\n",
       "        vertical-align: middle;\n",
       "    }\n",
       "\n",
       "    .dataframe tbody tr th {\n",
       "        vertical-align: top;\n",
       "    }\n",
       "\n",
       "    .dataframe thead th {\n",
       "        text-align: right;\n",
       "    }\n",
       "</style>\n",
       "<table border=\"1\" class=\"dataframe\">\n",
       "  <thead>\n",
       "    <tr style=\"text-align: right;\">\n",
       "      <th></th>\n",
       "      <th>county</th>\n",
       "      <th>comp</th>\n",
       "      <th>LILATracts_1And10</th>\n",
       "    </tr>\n",
       "  </thead>\n",
       "  <tbody>\n",
       "    <tr>\n",
       "      <th>0</th>\n",
       "      <td>01003</td>\n",
       "      <td>0.265528</td>\n",
       "      <td>0.034483</td>\n",
       "    </tr>\n",
       "    <tr>\n",
       "      <th>1</th>\n",
       "      <td>01031</td>\n",
       "      <td>0.000000</td>\n",
       "      <td>0.000000</td>\n",
       "    </tr>\n",
       "    <tr>\n",
       "      <th>2</th>\n",
       "      <td>01065</td>\n",
       "      <td>0.000000</td>\n",
       "      <td>0.000000</td>\n",
       "    </tr>\n",
       "    <tr>\n",
       "      <th>3</th>\n",
       "      <td>01069</td>\n",
       "      <td>-0.127267</td>\n",
       "      <td>0.666667</td>\n",
       "    </tr>\n",
       "    <tr>\n",
       "      <th>4</th>\n",
       "      <td>01073</td>\n",
       "      <td>0.217862</td>\n",
       "      <td>0.500000</td>\n",
       "    </tr>\n",
       "  </tbody>\n",
       "</table>\n",
       "</div>"
      ],
      "text/plain": [
       "  county      comp  LILATracts_1And10\n",
       "0  01003  0.265528           0.034483\n",
       "1  01031  0.000000           0.000000\n",
       "2  01065  0.000000           0.000000\n",
       "3  01069 -0.127267           0.666667\n",
       "4  01073  0.217862           0.500000"
      ]
     },
     "execution_count": 301,
     "metadata": {},
     "output_type": "execute_result"
    }
   ],
   "source": [
    "county_sent.head()"
   ]
  },
  {
   "cell_type": "code",
   "execution_count": 32,
   "metadata": {},
   "outputs": [],
   "source": [
    "state_data = pd.read_csv('../data/state_data.csv',index_col=0)"
   ]
  },
  {
   "cell_type": "code",
   "execution_count": 162,
   "metadata": {},
   "outputs": [],
   "source": [
    "county_data = pd.read_csv('../data/county_sent/county_data.csv',delimiter='\\t')"
   ]
  },
  {
   "cell_type": "code",
   "execution_count": 397,
   "metadata": {},
   "outputs": [
    {
     "data": {
      "text/html": [
       "<div>\n",
       "<style scoped>\n",
       "    .dataframe tbody tr th:only-of-type {\n",
       "        vertical-align: middle;\n",
       "    }\n",
       "\n",
       "    .dataframe tbody tr th {\n",
       "        vertical-align: top;\n",
       "    }\n",
       "\n",
       "    .dataframe thead th {\n",
       "        text-align: right;\n",
       "    }\n",
       "</style>\n",
       "<table border=\"1\" class=\"dataframe\">\n",
       "  <thead>\n",
       "    <tr style=\"text-align: right;\">\n",
       "      <th></th>\n",
       "      <th>FIPS</th>\n",
       "      <th>Name</th>\n",
       "      <th>State</th>\n",
       "    </tr>\n",
       "  </thead>\n",
       "  <tbody>\n",
       "    <tr>\n",
       "      <th>0</th>\n",
       "      <td>01001</td>\n",
       "      <td>Autauga</td>\n",
       "      <td>AL</td>\n",
       "    </tr>\n",
       "    <tr>\n",
       "      <th>1</th>\n",
       "      <td>01003</td>\n",
       "      <td>Baldwin</td>\n",
       "      <td>AL</td>\n",
       "    </tr>\n",
       "    <tr>\n",
       "      <th>2</th>\n",
       "      <td>01005</td>\n",
       "      <td>Barbour</td>\n",
       "      <td>AL</td>\n",
       "    </tr>\n",
       "    <tr>\n",
       "      <th>3</th>\n",
       "      <td>01007</td>\n",
       "      <td>Bibb</td>\n",
       "      <td>AL</td>\n",
       "    </tr>\n",
       "    <tr>\n",
       "      <th>4</th>\n",
       "      <td>01009</td>\n",
       "      <td>Blount</td>\n",
       "      <td>AL</td>\n",
       "    </tr>\n",
       "  </tbody>\n",
       "</table>\n",
       "</div>"
      ],
      "text/plain": [
       "    FIPS     Name State\n",
       "0  01001  Autauga    AL\n",
       "1  01003  Baldwin    AL\n",
       "2  01005  Barbour    AL\n",
       "3  01007     Bibb    AL\n",
       "4  01009   Blount    AL"
      ]
     },
     "execution_count": 397,
     "metadata": {},
     "output_type": "execute_result"
    }
   ],
   "source": [
    "county_data.head()"
   ]
  },
  {
   "cell_type": "code",
   "execution_count": 47,
   "metadata": {},
   "outputs": [],
   "source": [
    "state_data['FIPS'] = state_data['FIPS'].apply(lambda x: \"0\"+str(x) if len(str(x))==1 else str(x)) \n",
    "state_data.set_index('FIPS',inplace=True)\n"
   ]
  },
  {
   "cell_type": "code",
   "execution_count": 49,
   "metadata": {},
   "outputs": [],
   "source": [
    "merged_state = state_sent.join(state_data)"
   ]
  },
  {
   "cell_type": "code",
   "execution_count": 51,
   "metadata": {},
   "outputs": [],
   "source": [
    "merged_state.to_csv('../data/state_sent.csv')"
   ]
  },
  {
   "cell_type": "code",
   "execution_count": 74,
   "metadata": {},
   "outputs": [],
   "source": [
    "merged_state['healthy_sent']=merged_state['comp']"
   ]
  },
  {
   "cell_type": "code",
   "execution_count": 193,
   "metadata": {},
   "outputs": [],
   "source": [
    "unhealthy = pd.read_csv('../data/twitter_mongo/ff_stores_final.csv',index_col='Unnamed: 0')\n",
    "unhealthy['census'] = unhealthy['census'].apply(lambda x: \"0\"+str(x) if len(str(x))==10 else str(x)) \n",
    "unhealthy['county'] = unhealthy['census'].apply(lambda x: x[:5])\n",
    "unhealthy['state'] = unhealthy['county'].apply(lambda x: x[:2])\n",
    "state_unhealthy = unhealthy.groupby('county').mean()\n",
    "state_unhealthy=state_unhealthy[['LILATracts_1And10','comp']]\n",
    "state_unhealthy = state_unhealthy.reset_index()\n",
    "#state_unhealthy = state_unhealthy.join(state_data)\n",
    "#state_unhealthy.to_csv('../data/state_ff.csv')"
   ]
  },
  {
   "cell_type": "code",
   "execution_count": 194,
   "metadata": {},
   "outputs": [
    {
     "data": {
      "text/html": [
       "<div>\n",
       "<style scoped>\n",
       "    .dataframe tbody tr th:only-of-type {\n",
       "        vertical-align: middle;\n",
       "    }\n",
       "\n",
       "    .dataframe tbody tr th {\n",
       "        vertical-align: top;\n",
       "    }\n",
       "\n",
       "    .dataframe thead th {\n",
       "        text-align: right;\n",
       "    }\n",
       "</style>\n",
       "<table border=\"1\" class=\"dataframe\">\n",
       "  <thead>\n",
       "    <tr style=\"text-align: right;\">\n",
       "      <th></th>\n",
       "      <th>county</th>\n",
       "      <th>comp</th>\n",
       "    </tr>\n",
       "  </thead>\n",
       "  <tbody>\n",
       "    <tr>\n",
       "      <th>0</th>\n",
       "      <td>01001</td>\n",
       "      <td>0.000000</td>\n",
       "    </tr>\n",
       "    <tr>\n",
       "      <th>1</th>\n",
       "      <td>01003</td>\n",
       "      <td>0.341311</td>\n",
       "    </tr>\n",
       "    <tr>\n",
       "      <th>2</th>\n",
       "      <td>01015</td>\n",
       "      <td>0.000000</td>\n",
       "    </tr>\n",
       "    <tr>\n",
       "      <th>3</th>\n",
       "      <td>01031</td>\n",
       "      <td>0.390500</td>\n",
       "    </tr>\n",
       "    <tr>\n",
       "      <th>4</th>\n",
       "      <td>01043</td>\n",
       "      <td>0.140500</td>\n",
       "    </tr>\n",
       "  </tbody>\n",
       "</table>\n",
       "</div>"
      ],
      "text/plain": [
       "  county      comp\n",
       "0  01001  0.000000\n",
       "1  01003  0.341311\n",
       "2  01015  0.000000\n",
       "3  01031  0.390500\n",
       "4  01043  0.140500"
      ]
     },
     "execution_count": 194,
     "metadata": {},
     "output_type": "execute_result"
    }
   ],
   "source": [
    "state_unhealthy.head()"
   ]
  },
  {
   "cell_type": "code",
   "execution_count": 195,
   "metadata": {},
   "outputs": [],
   "source": [
    "merged_county3 = pd.merge(state_unhealthy,merged_county2,how='right',left_on=\"county\",right_on=\"FIPS\")"
   ]
  },
  {
   "cell_type": "code",
   "execution_count": 196,
   "metadata": {},
   "outputs": [],
   "source": [
    "merged_county3=merged_county3.drop('county',axis=1)"
   ]
  },
  {
   "cell_type": "code",
   "execution_count": 197,
   "metadata": {},
   "outputs": [],
   "source": [
    "merged_county3['comp']=merged_county3['comp'].fillna(-2)"
   ]
  },
  {
   "cell_type": "code",
   "execution_count": 204,
   "metadata": {},
   "outputs": [],
   "source": [
    "merged_county3.rename(columns={1:'grocery_sent'}, inplace=True)"
   ]
  },
  {
   "cell_type": "code",
   "execution_count": 206,
   "metadata": {},
   "outputs": [],
   "source": [
    "merged_county3.columns=['ff_sent','grocery_sent','unhealthy_sent','healthy_sent','FIPS','Name','State']"
   ]
  },
  {
   "cell_type": "code",
   "execution_count": 276,
   "metadata": {},
   "outputs": [],
   "source": [
    "merged_county3['final_sent']=final"
   ]
  },
  {
   "cell_type": "code",
   "execution_count": 340,
   "metadata": {},
   "outputs": [
    {
     "data": {
      "text/plain": [
       "(3135, 10)"
      ]
     },
     "execution_count": 340,
     "metadata": {},
     "output_type": "execute_result"
    }
   ],
   "source": [
    "merged_county3.shape"
   ]
  },
  {
   "cell_type": "code",
   "execution_count": 208,
   "metadata": {},
   "outputs": [],
   "source": [
    "merged_county3[['healthy_sent','grocery_sent','unhealthy_sent','ff_sent']]=merged_county3[['healthy_sent','grocery_sent','unhealthy_sent','ff_sent']].apply(lambda x: round(x, 2))"
   ]
  },
  {
   "cell_type": "code",
   "execution_count": 228,
   "metadata": {},
   "outputs": [
    {
     "name": "stdout",
     "output_type": "stream",
     "text": [
      "ff_sent\n",
      "grocery_sent\n",
      "unhealthy_sent\n",
      "healthy_sent\n",
      "FIPS\n",
      "Name\n",
      "State\n",
      "final_sent\n"
     ]
    }
   ],
   "source": [
    "for i in merged_county3."
   ]
  },
  {
   "cell_type": "code",
   "execution_count": 229,
   "metadata": {},
   "outputs": [],
   "source": [
    "first = merged_county3.unhealthy_sent==merged_county3.healthy_sent\n",
    "second = merged_county3.unhealthy_sent>merged_county3.healthy_sent\n",
    "third = merged_county3.unhealthy_sent<merged_county3.healthy_sent"
   ]
  },
  {
   "cell_type": "code",
   "execution_count": 239,
   "metadata": {},
   "outputs": [],
   "source": [
    "fin = pd.DataFrame([first,second,third],index=[\"tie\",\"unhealthy\",\"healthy\"]).T"
   ]
  },
  {
   "cell_type": "code",
   "execution_count": 240,
   "metadata": {},
   "outputs": [],
   "source": [
    "fin['lowest_col'] = fin.idxmin(axis=1)"
   ]
  },
  {
   "cell_type": "code",
   "execution_count": 262,
   "metadata": {},
   "outputs": [],
   "source": [
    "fin['healthy']=fin['healthy'].apply(int)"
   ]
  },
  {
   "cell_type": "code",
   "execution_count": 271,
   "metadata": {},
   "outputs": [],
   "source": [
    "final=[]\n",
    "for index, row in fin.iterrows():\n",
    "    if row['tie']==1:\n",
    "        final.append(\"tie\")\n",
    "    elif row['healthy']>row['unhealthy']:\n",
    "        final.append(\"healthy\")\n",
    "    else:\n",
    "        final.append(\"unhealthy\")\n",
    "    "
   ]
  },
  {
   "cell_type": "code",
   "execution_count": 274,
   "metadata": {},
   "outputs": [],
   "source": [
    "fin = fin.drop('lowest_col',axis=1)"
   ]
  },
  {
   "cell_type": "code",
   "execution_count": 219,
   "metadata": {},
   "outputs": [],
   "source": [
    "merged_county3['final_sent'] = merged_county3['final_sent'].apply(lambda x: \"unhealthy\" if x==\"unhealthy_sent\" else \"healthy\")"
   ]
  },
  {
   "cell_type": "code",
   "execution_count": 311,
   "metadata": {},
   "outputs": [],
   "source": [
    "merged_county3=pd.merge(merged_county3,county_desert,how='left', left_on='FIPS',right_on='county')"
   ]
  },
  {
   "cell_type": "code",
   "execution_count": 312,
   "metadata": {},
   "outputs": [],
   "source": [
    "merged_county3 = merged_county3.drop('county',axis=1)"
   ]
  },
  {
   "cell_type": "code",
   "execution_count": 369,
   "metadata": {},
   "outputs": [
    {
     "data": {
      "text/plain": [
       "0"
      ]
     },
     "execution_count": 369,
     "metadata": {},
     "output_type": "execute_result"
    }
   ],
   "source": [
    "np.argmax(merged_county2[['unhealthy_sent','healthy_sent']].values[1])"
   ]
  },
  {
   "cell_type": "code",
   "execution_count": 324,
   "metadata": {},
   "outputs": [
    {
     "data": {
      "text/plain": [
       "'01001'"
      ]
     },
     "execution_count": 324,
     "metadata": {},
     "output_type": "execute_result"
    }
   ],
   "source": [
    "merged_county3.FIPS[0]"
   ]
  },
  {
   "cell_type": "code",
   "execution_count": 317,
   "metadata": {},
   "outputs": [],
   "source": [
    "merged_county3.to_csv('../data/county_sent/grouped_county_sent.csv')"
   ]
  },
  {
   "cell_type": "code",
   "execution_count": 112,
   "metadata": {},
   "outputs": [],
   "source": [
    "merged_state3 = merged_state2.join(state_unhealthy)"
   ]
  },
  {
   "cell_type": "code",
   "execution_count": 113,
   "metadata": {},
   "outputs": [],
   "source": [
    "merged_state3.fillna(merged_state3['comp'].mean(),inplace=True)"
   ]
  },
  {
   "cell_type": "code",
   "execution_count": 121,
   "metadata": {},
   "outputs": [],
   "source": [
    "merged_state3.rename(columns={'comp':'ff_sent'}, inplace=True)"
   ]
  },
  {
   "cell_type": "code",
   "execution_count": 145,
   "metadata": {},
   "outputs": [],
   "source": [
    "arr=np.array(['unhealthy','healthy'])\n",
    "final = arr[(np.array(merged_state3['grocery_sent']+merged_state3['healthy_sent'])>(merged_state3['ff_sent']+merged_state3['unhealthy_sent']).values)*1]"
   ]
  },
  {
   "cell_type": "code",
   "execution_count": 123,
   "metadata": {},
   "outputs": [],
   "source": [
    "max_val = merged_state3[['healthy_sent','grocery_sent','ff_sent','unhealthy_sent']].idxmax(axis=1)"
   ]
  },
  {
   "cell_type": "code",
   "execution_count": 125,
   "metadata": {},
   "outputs": [],
   "source": [
    "merged_state3['max_sent']=max_val"
   ]
  },
  {
   "cell_type": "code",
   "execution_count": 146,
   "metadata": {},
   "outputs": [],
   "source": [
    "merged_state3['final_sent']=final"
   ]
  },
  {
   "cell_type": "code",
   "execution_count": 147,
   "metadata": {},
   "outputs": [],
   "source": [
    "merged_state3.to_csv('../data/grouped_state_sent.csv')"
   ]
  },
  {
   "cell_type": "code",
   "execution_count": 152,
   "metadata": {},
   "outputs": [],
   "source": [
    "merged_state3[['healthy_sent','grocery_sent','unhealthy_sent','ff_sent']]=merged_state3[['healthy_sent','grocery_sent','unhealthy_sent','ff_sent']].apply(lambda x: round(x, 2))"
   ]
  },
  {
   "cell_type": "code",
   "execution_count": 389,
   "metadata": {},
   "outputs": [
    {
     "data": {
      "text/html": [
       "<div>\n",
       "<style scoped>\n",
       "    .dataframe tbody tr th:only-of-type {\n",
       "        vertical-align: middle;\n",
       "    }\n",
       "\n",
       "    .dataframe tbody tr th {\n",
       "        vertical-align: top;\n",
       "    }\n",
       "\n",
       "    .dataframe thead th {\n",
       "        text-align: right;\n",
       "    }\n",
       "</style>\n",
       "<table border=\"1\" class=\"dataframe\">\n",
       "  <thead>\n",
       "    <tr style=\"text-align: right;\">\n",
       "      <th></th>\n",
       "      <th>grocery_sent</th>\n",
       "      <th>unhealthy_sent</th>\n",
       "      <th>healthy_sent</th>\n",
       "      <th>FIPS</th>\n",
       "      <th>Name</th>\n",
       "      <th>State</th>\n",
       "    </tr>\n",
       "  </thead>\n",
       "  <tbody>\n",
       "    <tr>\n",
       "      <th>0</th>\n",
       "      <td>0.251700</td>\n",
       "      <td>0.256531</td>\n",
       "      <td>0.349901</td>\n",
       "      <td>04013</td>\n",
       "      <td>Maricopa</td>\n",
       "      <td>AZ</td>\n",
       "    </tr>\n",
       "    <tr>\n",
       "      <th>1</th>\n",
       "      <td>0.460450</td>\n",
       "      <td>0.251438</td>\n",
       "      <td>0.103511</td>\n",
       "      <td>04019</td>\n",
       "      <td>Pima</td>\n",
       "      <td>AZ</td>\n",
       "    </tr>\n",
       "    <tr>\n",
       "      <th>2</th>\n",
       "      <td>0.421500</td>\n",
       "      <td>0.182133</td>\n",
       "      <td>0.545983</td>\n",
       "      <td>04021</td>\n",
       "      <td>Pinal</td>\n",
       "      <td>AZ</td>\n",
       "    </tr>\n",
       "    <tr>\n",
       "      <th>3</th>\n",
       "      <td>0.263692</td>\n",
       "      <td>0.271055</td>\n",
       "      <td>0.191651</td>\n",
       "      <td>06001</td>\n",
       "      <td>Alameda</td>\n",
       "      <td>CA</td>\n",
       "    </tr>\n",
       "    <tr>\n",
       "      <th>4</th>\n",
       "      <td>0.075550</td>\n",
       "      <td>0.334719</td>\n",
       "      <td>0.221700</td>\n",
       "      <td>06013</td>\n",
       "      <td>Contra Costa</td>\n",
       "      <td>CA</td>\n",
       "    </tr>\n",
       "  </tbody>\n",
       "</table>\n",
       "</div>"
      ],
      "text/plain": [
       "   grocery_sent  unhealthy_sent  healthy_sent   FIPS          Name State\n",
       "0      0.251700        0.256531      0.349901  04013      Maricopa    AZ\n",
       "1      0.460450        0.251438      0.103511  04019          Pima    AZ\n",
       "2      0.421500        0.182133      0.545983  04021         Pinal    AZ\n",
       "3      0.263692        0.271055      0.191651  06001       Alameda    CA\n",
       "4      0.075550        0.334719      0.221700  06013  Contra Costa    CA"
      ]
     },
     "execution_count": 389,
     "metadata": {},
     "output_type": "execute_result"
    }
   ],
   "source": [
    "merged_county2.head()"
   ]
  },
  {
   "cell_type": "code",
   "execution_count": 391,
   "metadata": {},
   "outputs": [],
   "source": [
    "final=[]\n",
    "for index, row in merged_county2.iterrows():\n",
    "    if row['healthy_sent']==row['unhealthy_sent']==-2.0:\n",
    "        final.append(\"tie\")\n",
    "    elif row['healthy_sent']>row['unhealthy_sent']:\n",
    "        final.append(\"healthy\")\n",
    "    else:\n",
    "        final.append(\"unhealthy\")\n",
    "    "
   ]
  },
  {
   "cell_type": "code",
   "execution_count": 392,
   "metadata": {},
   "outputs": [],
   "source": [
    "merged_county2['final_sent']=final"
   ]
  },
  {
   "cell_type": "code",
   "execution_count": 398,
   "metadata": {},
   "outputs": [],
   "source": [
    "final_data = pd.merge(merged_county2,county_data,how='inner',left_on='FIPS',right_on='FIPS')"
   ]
  },
  {
   "cell_type": "code",
   "execution_count": 403,
   "metadata": {},
   "outputs": [],
   "source": [
    "final_data[['grocery_sent','unhealthy_sent','healthy_sent']]=final_data[['grocery_sent','unhealthy_sent','healthy_sent']].apply(lambda x: round(x, 2))"
   ]
  },
  {
   "cell_type": "code",
   "execution_count": 422,
   "metadata": {},
   "outputs": [],
   "source": [
    "unhealthy=[]\n",
    "for i in final_data['unhealthy_sent']:\n",
    "    if i == -2.0:\n",
    "        unhealthy.append(\"no data\")\n",
    "    else:\n",
    "        unhealthy.append(i)"
   ]
  },
  {
   "cell_type": "code",
   "execution_count": 419,
   "metadata": {},
   "outputs": [
    {
     "data": {
      "text/plain": [
       "3232"
      ]
     },
     "execution_count": 419,
     "metadata": {},
     "output_type": "execute_result"
    }
   ],
   "source": [
    "len(final_data)"
   ]
  },
  {
   "cell_type": "code",
   "execution_count": 424,
   "metadata": {},
   "outputs": [],
   "source": [
    "final_data['healthy_sent']=healthy\n",
    "final_data['unhealthy_sent']=unhealthy"
   ]
  },
  {
   "cell_type": "code",
   "execution_count": null,
   "metadata": {},
   "outputs": [],
   "source": []
  },
  {
   "cell_type": "code",
   "execution_count": 329,
   "metadata": {},
   "outputs": [],
   "source": [
    "fips=pd.read_csv('../data/county_sent/grouped_county_sent.csv',index_col=0)"
   ]
  },
  {
   "cell_type": "code",
   "execution_count": 330,
   "metadata": {},
   "outputs": [
    {
     "data": {
      "text/html": [
       "<div>\n",
       "<style scoped>\n",
       "    .dataframe tbody tr th:only-of-type {\n",
       "        vertical-align: middle;\n",
       "    }\n",
       "\n",
       "    .dataframe tbody tr th {\n",
       "        vertical-align: top;\n",
       "    }\n",
       "\n",
       "    .dataframe thead th {\n",
       "        text-align: right;\n",
       "    }\n",
       "</style>\n",
       "<table border=\"1\" class=\"dataframe\">\n",
       "  <thead>\n",
       "    <tr style=\"text-align: right;\">\n",
       "      <th></th>\n",
       "      <th>ff_sent</th>\n",
       "      <th>grocery_sent</th>\n",
       "      <th>unhealthy_sent</th>\n",
       "      <th>healthy_sent</th>\n",
       "      <th>FIPS</th>\n",
       "      <th>Name</th>\n",
       "      <th>State</th>\n",
       "      <th>final_sent</th>\n",
       "      <th>LILATracts_1And10_x</th>\n",
       "      <th>unhealthy1</th>\n",
       "      <th>healthy1</th>\n",
       "      <th>fips_full</th>\n",
       "    </tr>\n",
       "  </thead>\n",
       "  <tbody>\n",
       "    <tr>\n",
       "      <th>0</th>\n",
       "      <td>0.00</td>\n",
       "      <td>-2.0</td>\n",
       "      <td>-2.00</td>\n",
       "      <td>-2.00</td>\n",
       "      <td>1001</td>\n",
       "      <td>Autauga</td>\n",
       "      <td>AL</td>\n",
       "      <td>tie</td>\n",
       "      <td>0.17</td>\n",
       "      <td>no data</td>\n",
       "      <td>no data</td>\n",
       "      <td>1001</td>\n",
       "    </tr>\n",
       "    <tr>\n",
       "      <th>1</th>\n",
       "      <td>0.34</td>\n",
       "      <td>-2.0</td>\n",
       "      <td>0.41</td>\n",
       "      <td>0.27</td>\n",
       "      <td>1003</td>\n",
       "      <td>Baldwin</td>\n",
       "      <td>AL</td>\n",
       "      <td>unhealthy</td>\n",
       "      <td>0.10</td>\n",
       "      <td>0.41</td>\n",
       "      <td>0.27</td>\n",
       "      <td>1003</td>\n",
       "    </tr>\n",
       "    <tr>\n",
       "      <th>2</th>\n",
       "      <td>0.00</td>\n",
       "      <td>-2.0</td>\n",
       "      <td>-2.00</td>\n",
       "      <td>-2.00</td>\n",
       "      <td>1015</td>\n",
       "      <td>Calhoun</td>\n",
       "      <td>AL</td>\n",
       "      <td>tie</td>\n",
       "      <td>0.23</td>\n",
       "      <td>no data</td>\n",
       "      <td>no data</td>\n",
       "      <td>1015</td>\n",
       "    </tr>\n",
       "    <tr>\n",
       "      <th>3</th>\n",
       "      <td>0.39</td>\n",
       "      <td>-2.0</td>\n",
       "      <td>0.36</td>\n",
       "      <td>0.00</td>\n",
       "      <td>1031</td>\n",
       "      <td>Coffee</td>\n",
       "      <td>AL</td>\n",
       "      <td>unhealthy</td>\n",
       "      <td>0.29</td>\n",
       "      <td>0.36</td>\n",
       "      <td>0</td>\n",
       "      <td>1031</td>\n",
       "    </tr>\n",
       "    <tr>\n",
       "      <th>4</th>\n",
       "      <td>0.14</td>\n",
       "      <td>-2.0</td>\n",
       "      <td>-2.00</td>\n",
       "      <td>-2.00</td>\n",
       "      <td>1043</td>\n",
       "      <td>Cullman</td>\n",
       "      <td>AL</td>\n",
       "      <td>tie</td>\n",
       "      <td>0.11</td>\n",
       "      <td>no data</td>\n",
       "      <td>no data</td>\n",
       "      <td>1043</td>\n",
       "    </tr>\n",
       "  </tbody>\n",
       "</table>\n",
       "</div>"
      ],
      "text/plain": [
       "   ff_sent  grocery_sent  unhealthy_sent  healthy_sent  FIPS     Name State  \\\n",
       "0     0.00          -2.0           -2.00         -2.00  1001  Autauga    AL   \n",
       "1     0.34          -2.0            0.41          0.27  1003  Baldwin    AL   \n",
       "2     0.00          -2.0           -2.00         -2.00  1015  Calhoun    AL   \n",
       "3     0.39          -2.0            0.36          0.00  1031   Coffee    AL   \n",
       "4     0.14          -2.0           -2.00         -2.00  1043  Cullman    AL   \n",
       "\n",
       "  final_sent  LILATracts_1And10_x unhealthy1 healthy1  fips_full  \n",
       "0        tie                 0.17    no data  no data       1001  \n",
       "1  unhealthy                 0.10       0.41     0.27       1003  \n",
       "2        tie                 0.23    no data  no data       1015  \n",
       "3  unhealthy                 0.29       0.36        0       1031  \n",
       "4        tie                 0.11    no data  no data       1043  "
      ]
     },
     "execution_count": 330,
     "metadata": {},
     "output_type": "execute_result"
    }
   ],
   "source": [
    "fips.head()"
   ]
  },
  {
   "cell_type": "code",
   "execution_count": 331,
   "metadata": {},
   "outputs": [],
   "source": [
    "fips['FIPS'] = fips['FIPS'].apply(lambda x: \"0\"+str(x) if len(str(x))==4 else str(x)) \n"
   ]
  },
  {
   "cell_type": "code",
   "execution_count": 332,
   "metadata": {},
   "outputs": [
    {
     "data": {
      "text/html": [
       "<div>\n",
       "<style scoped>\n",
       "    .dataframe tbody tr th:only-of-type {\n",
       "        vertical-align: middle;\n",
       "    }\n",
       "\n",
       "    .dataframe tbody tr th {\n",
       "        vertical-align: top;\n",
       "    }\n",
       "\n",
       "    .dataframe thead th {\n",
       "        text-align: right;\n",
       "    }\n",
       "</style>\n",
       "<table border=\"1\" class=\"dataframe\">\n",
       "  <thead>\n",
       "    <tr style=\"text-align: right;\">\n",
       "      <th></th>\n",
       "      <th>ff_sent</th>\n",
       "      <th>grocery_sent</th>\n",
       "      <th>unhealthy_sent</th>\n",
       "      <th>healthy_sent</th>\n",
       "      <th>FIPS</th>\n",
       "      <th>Name</th>\n",
       "      <th>State</th>\n",
       "      <th>final_sent</th>\n",
       "      <th>LILATracts_1And10_x</th>\n",
       "      <th>unhealthy1</th>\n",
       "      <th>healthy1</th>\n",
       "      <th>fips_full</th>\n",
       "    </tr>\n",
       "  </thead>\n",
       "  <tbody>\n",
       "  </tbody>\n",
       "</table>\n",
       "</div>"
      ],
      "text/plain": [
       "Empty DataFrame\n",
       "Columns: [ff_sent, grocery_sent, unhealthy_sent, healthy_sent, FIPS, Name, State, final_sent, LILATracts_1And10_x, unhealthy1, healthy1, fips_full]\n",
       "Index: []"
      ]
     },
     "execution_count": 332,
     "metadata": {},
     "output_type": "execute_result"
    }
   ],
   "source": [
    "fips[np.array([len(str(i))=5 for i in fips.FIPS])]"
   ]
  },
  {
   "cell_type": "code",
   "execution_count": 425,
   "metadata": {},
   "outputs": [],
   "source": [
    "final_data.to_csv('../data/county_sent/grouped_county_sent3.csv')"
   ]
  },
  {
   "cell_type": "code",
   "execution_count": 339,
   "metadata": {},
   "outputs": [
    {
     "data": {
      "text/plain": [
       "(3135, 12)"
      ]
     },
     "execution_count": 339,
     "metadata": {},
     "output_type": "execute_result"
    }
   ],
   "source": [
    "fips.shape"
   ]
  },
  {
   "cell_type": "markdown",
   "metadata": {},
   "source": [
    "### UNHEALTHY FOODS"
   ]
  },
  {
   "cell_type": "code",
   "execution_count": 9,
   "metadata": {
    "scrolled": true
   },
   "outputs": [
    {
     "data": {
      "text/plain": [
       "LILATracts_1And10\n",
       "0    0.298508\n",
       "1    0.310094\n",
       "Name: comp, dtype: float64"
      ]
     },
     "execution_count": 9,
     "metadata": {},
     "output_type": "execute_result"
    }
   ],
   "source": [
    "unhealthy = pd.read_csv('../data/twitter_mongo/unhealthy_final.csv',index_col='Unnamed: 0')\n",
    "\n",
    "unhealthy.groupby('LILATracts_1And10').mean()['comp']"
   ]
  },
  {
   "cell_type": "markdown",
   "metadata": {},
   "source": [
    "### GROCERY STORES"
   ]
  },
  {
   "cell_type": "code",
   "execution_count": 10,
   "metadata": {
    "scrolled": true
   },
   "outputs": [
    {
     "data": {
      "text/plain": [
       "LILATracts_1And10\n",
       "0    0.219386\n",
       "1    0.432712\n",
       "Name: comp, dtype: float64"
      ]
     },
     "execution_count": 10,
     "metadata": {},
     "output_type": "execute_result"
    }
   ],
   "source": [
    "grocery = pd.read_csv('../data/twitter_mongo/grocery_stores_final.csv',index_col='Unnamed: 0')\n",
    "\n",
    "grocery.groupby('LILATracts_1And10').mean()['comp']"
   ]
  },
  {
   "cell_type": "code",
   "execution_count": 52,
   "metadata": {},
   "outputs": [],
   "source": [
    "unhealthy = pd.read_csv('../data/twitter_mongo/unhealthy_final.csv',index_col='Unnamed: 0')"
   ]
  },
  {
   "cell_type": "markdown",
   "metadata": {},
   "source": [
    "### FAST FOODS"
   ]
  },
  {
   "cell_type": "code",
   "execution_count": 11,
   "metadata": {},
   "outputs": [
    {
     "data": {
      "text/plain": [
       "LILATracts_1And10\n",
       "0    0.300494\n",
       "1    0.344389\n",
       "Name: comp, dtype: float64"
      ]
     },
     "execution_count": 11,
     "metadata": {},
     "output_type": "execute_result"
    }
   ],
   "source": [
    "fastfood = pd.read_csv('../data/twitter_mongo/ff_stores_final.csv',index_col='Unnamed: 0')\n",
    "\n",
    "fastfood.groupby('LILATracts_1And10').mean()['comp']"
   ]
  },
  {
   "cell_type": "code",
   "execution_count": null,
   "metadata": {},
   "outputs": [],
   "source": []
  }
 ],
 "metadata": {
  "kernelspec": {
   "display_name": "Python 3",
   "language": "python",
   "name": "python3"
  },
  "language_info": {
   "codemirror_mode": {
    "name": "ipython",
    "version": 3
   },
   "file_extension": ".py",
   "mimetype": "text/x-python",
   "name": "python",
   "nbconvert_exporter": "python",
   "pygments_lexer": "ipython3",
   "version": "3.6.8"
  }
 },
 "nbformat": 4,
 "nbformat_minor": 2
}
