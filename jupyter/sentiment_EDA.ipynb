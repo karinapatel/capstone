{
 "cells": [
  {
   "cell_type": "code",
   "execution_count": 1,
   "metadata": {},
   "outputs": [],
   "source": [
    "import pandas as pd\n",
    "import ast\n",
    "import numpy as np"
   ]
  },
  {
   "cell_type": "code",
   "execution_count": 3,
   "metadata": {},
   "outputs": [],
   "source": [
    "#read in target data\n",
    "data = pd.read_csv('../data/target.csv')\n",
    "data.set_index(\"CensusTract\", inplace =True)"
   ]
  },
  {
   "cell_type": "markdown",
   "metadata": {},
   "source": [
    "### HEALTHY FOODS"
   ]
  },
  {
   "cell_type": "code",
   "execution_count": 8,
   "metadata": {},
   "outputs": [
    {
     "data": {
      "text/plain": [
       "LILATracts_1And10\n",
       "0    0.269198\n",
       "1    0.264302\n",
       "Name: comp, dtype: float64"
      ]
     },
     "execution_count": 8,
     "metadata": {},
     "output_type": "execute_result"
    }
   ],
   "source": [
    "healthy = pd.read_csv('../data/twitter_mongo/healthy_final.csv',index_col='Unnamed: 0')\n",
    "\n",
    "healthy.groupby('LILATracts_1And10').mean()['comp']"
   ]
  },
  {
   "cell_type": "markdown",
   "metadata": {},
   "source": [
    "### UNHEALTHY FOODS"
   ]
  },
  {
   "cell_type": "code",
   "execution_count": 9,
   "metadata": {
    "scrolled": true
   },
   "outputs": [
    {
     "data": {
      "text/plain": [
       "LILATracts_1And10\n",
       "0    0.298508\n",
       "1    0.310094\n",
       "Name: comp, dtype: float64"
      ]
     },
     "execution_count": 9,
     "metadata": {},
     "output_type": "execute_result"
    }
   ],
   "source": [
    "unhealthy = pd.read_csv('../data/twitter_mongo/unhealthy_final.csv',index_col='Unnamed: 0')\n",
    "\n",
    "unhealthy.groupby('LILATracts_1And10').mean()['comp']"
   ]
  },
  {
   "cell_type": "markdown",
   "metadata": {},
   "source": [
    "### GROCERY STORES"
   ]
  },
  {
   "cell_type": "code",
   "execution_count": 10,
   "metadata": {
    "scrolled": true
   },
   "outputs": [
    {
     "data": {
      "text/plain": [
       "LILATracts_1And10\n",
       "0    0.219386\n",
       "1    0.432712\n",
       "Name: comp, dtype: float64"
      ]
     },
     "execution_count": 10,
     "metadata": {},
     "output_type": "execute_result"
    }
   ],
   "source": [
    "grocery = pd.read_csv('../data/twitter_mongo/grocery_stores_final.csv',index_col='Unnamed: 0')\n",
    "\n",
    "grocery.groupby('LILATracts_1And10').mean()['comp']"
   ]
  },
  {
   "cell_type": "markdown",
   "metadata": {},
   "source": [
    "### FAST FOODS"
   ]
  },
  {
   "cell_type": "code",
   "execution_count": 11,
   "metadata": {},
   "outputs": [
    {
     "data": {
      "text/plain": [
       "LILATracts_1And10\n",
       "0    0.300494\n",
       "1    0.344389\n",
       "Name: comp, dtype: float64"
      ]
     },
     "execution_count": 11,
     "metadata": {},
     "output_type": "execute_result"
    }
   ],
   "source": [
    "fastfood = pd.read_csv('../data/twitter_mongo/ff_stores_final.csv',index_col='Unnamed: 0')\n",
    "\n",
    "fastfood.groupby('LILATracts_1And10').mean()['comp']"
   ]
  }
 ],
 "metadata": {
  "kernelspec": {
   "display_name": "Python 3",
   "language": "python",
   "name": "python3"
  },
  "language_info": {
   "codemirror_mode": {
    "name": "ipython",
    "version": 3
   },
   "file_extension": ".py",
   "mimetype": "text/x-python",
   "name": "python",
   "nbconvert_exporter": "python",
   "pygments_lexer": "ipython3",
   "version": "3.6.8"
  }
 },
 "nbformat": 4,
 "nbformat_minor": 2
}
