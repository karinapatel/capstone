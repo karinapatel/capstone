{
 "cells": [
  {
   "cell_type": "code",
   "execution_count": 1,
   "metadata": {},
   "outputs": [],
   "source": [
    "import pandas as pd\n",
    "import ast\n",
    "import numpy as np"
   ]
  },
  {
   "cell_type": "code",
   "execution_count": 64,
   "metadata": {},
   "outputs": [],
   "source": [
    "def state_merge(path_to_data,path_to_new):\n",
    "    df = pd.read_csv(path_to_data,index_col='Unnamed: 0')\n",
    "    df['census'] = df['census'].apply(lambda x: \"0\"+str(x) if len(str(x))==10 else str(x)) \n",
    "    df['county'] = df['census'].apply(lambda x: x[:5])\n",
    "    df['state'] = df['county'].apply(lambda x: x[:2])\n",
    "    state_df = df.groupby('state').mean()\n",
    "    state_df=state_df[['comp','LILATracts_1And10']]\n",
    "    state_df = state_df.join(state_data)\n",
    "    #state_df.to_csv(path_to_new)\n",
    "    return state_df"
   ]
  },
  {
   "cell_type": "code",
   "execution_count": 71,
   "metadata": {},
   "outputs": [],
   "source": [
    "def county_merge(path_to_data,path_to_new):\n",
    "    df = pd.read_csv(path_to_data,index_col='Unnamed: 0')\n",
    "    df['census'] = df['census'].apply(lambda x: \"0\"+str(x) if len(str(x))==10 else str(x)) \n",
    "    df['county'] = df['census'].apply(lambda x: x[:5])\n",
    "    df['state'] = df['county'].apply(lambda x: x[:2])\n",
    "    county_df = df.groupby('county').mean()\n",
    "    county_df=county_df[['comp','LILATracts_1And10']]\n",
    "    county_df = county_df.join(state_data)\n",
    "    county_df.to_csv(path_to_new)"
   ]
  },
  {
   "cell_type": "code",
   "execution_count": 4,
   "metadata": {},
   "outputs": [],
   "source": [
    "#read in target data\n",
    "target = pd.read_csv('../data/target.csv', index_col=0)\n",
    "target['CensusTract'] = target['CensusTract'].apply(lambda x: \"0\"+str(x) if len(str(x))==10 else str(x)) \n",
    "target.set_index(\"CensusTract\", inplace =True)"
   ]
  },
  {
   "cell_type": "code",
   "execution_count": 5,
   "metadata": {},
   "outputs": [
    {
     "data": {
      "text/html": [
       "<div>\n",
       "<style scoped>\n",
       "    .dataframe tbody tr th:only-of-type {\n",
       "        vertical-align: middle;\n",
       "    }\n",
       "\n",
       "    .dataframe tbody tr th {\n",
       "        vertical-align: top;\n",
       "    }\n",
       "\n",
       "    .dataframe thead th {\n",
       "        text-align: right;\n",
       "    }\n",
       "</style>\n",
       "<table border=\"1\" class=\"dataframe\">\n",
       "  <thead>\n",
       "    <tr style=\"text-align: right;\">\n",
       "      <th></th>\n",
       "      <th>LILATracts_1And10</th>\n",
       "    </tr>\n",
       "    <tr>\n",
       "      <th>CensusTract</th>\n",
       "      <th></th>\n",
       "    </tr>\n",
       "  </thead>\n",
       "  <tbody>\n",
       "    <tr>\n",
       "      <th>01001020100</th>\n",
       "      <td>0</td>\n",
       "    </tr>\n",
       "    <tr>\n",
       "      <th>01001020200</th>\n",
       "      <td>0</td>\n",
       "    </tr>\n",
       "    <tr>\n",
       "      <th>01001020300</th>\n",
       "      <td>0</td>\n",
       "    </tr>\n",
       "    <tr>\n",
       "      <th>01001020400</th>\n",
       "      <td>0</td>\n",
       "    </tr>\n",
       "    <tr>\n",
       "      <th>01001020500</th>\n",
       "      <td>0</td>\n",
       "    </tr>\n",
       "  </tbody>\n",
       "</table>\n",
       "</div>"
      ],
      "text/plain": [
       "             LILATracts_1And10\n",
       "CensusTract                   \n",
       "01001020100                  0\n",
       "01001020200                  0\n",
       "01001020300                  0\n",
       "01001020400                  0\n",
       "01001020500                  0"
      ]
     },
     "execution_count": 5,
     "metadata": {},
     "output_type": "execute_result"
    }
   ],
   "source": [
    "target.head()"
   ]
  },
  {
   "cell_type": "markdown",
   "metadata": {},
   "source": [
    "### HEALTHY FOODS"
   ]
  },
  {
   "cell_type": "code",
   "execution_count": 24,
   "metadata": {},
   "outputs": [],
   "source": [
    "healthy = pd.read_csv('../data/twitter_mongo/healthy_final.csv',index_col='Unnamed: 0')\n",
    "healthy['census'] = healthy['census'].apply(lambda x: \"0\"+str(x) if len(str(x))==10 else str(x)) \n",
    "healthy['county'] = healthy['census'].apply(lambda x: x[:5])\n",
    "healthy['state'] = healthy['county'].apply(lambda x: x[:2])\n",
    "#healthy.groupby('LILATracts_1And10').mean()['comp']"
   ]
  },
  {
   "cell_type": "code",
   "execution_count": 66,
   "metadata": {},
   "outputs": [
    {
     "data": {
      "text/html": [
       "<div>\n",
       "<style scoped>\n",
       "    .dataframe tbody tr th:only-of-type {\n",
       "        vertical-align: middle;\n",
       "    }\n",
       "\n",
       "    .dataframe tbody tr th {\n",
       "        vertical-align: top;\n",
       "    }\n",
       "\n",
       "    .dataframe thead th {\n",
       "        text-align: right;\n",
       "    }\n",
       "</style>\n",
       "<table border=\"1\" class=\"dataframe\">\n",
       "  <thead>\n",
       "    <tr style=\"text-align: right;\">\n",
       "      <th></th>\n",
       "      <th>keyword</th>\n",
       "      <th>text</th>\n",
       "      <th>lat</th>\n",
       "      <th>long</th>\n",
       "      <th>census</th>\n",
       "      <th>comp</th>\n",
       "      <th>category</th>\n",
       "      <th>LILATracts_1And10</th>\n",
       "      <th>county</th>\n",
       "      <th>state</th>\n",
       "    </tr>\n",
       "  </thead>\n",
       "  <tbody>\n",
       "  </tbody>\n",
       "</table>\n",
       "</div>"
      ],
      "text/plain": [
       "Empty DataFrame\n",
       "Columns: [keyword, text, lat, long, census, comp, category, LILATracts_1And10, county, state]\n",
       "Index: []"
      ]
     },
     "execution_count": 66,
     "metadata": {},
     "output_type": "execute_result"
    }
   ],
   "source": [
    "healthy[np.array([len(str(i))!=5 for i in healthy.county])]"
   ]
  },
  {
   "cell_type": "code",
   "execution_count": 72,
   "metadata": {},
   "outputs": [
    {
     "data": {
      "text/html": [
       "<div>\n",
       "<style scoped>\n",
       "    .dataframe tbody tr th:only-of-type {\n",
       "        vertical-align: middle;\n",
       "    }\n",
       "\n",
       "    .dataframe tbody tr th {\n",
       "        vertical-align: top;\n",
       "    }\n",
       "\n",
       "    .dataframe thead th {\n",
       "        text-align: right;\n",
       "    }\n",
       "</style>\n",
       "<table border=\"1\" class=\"dataframe\">\n",
       "  <thead>\n",
       "    <tr style=\"text-align: right;\">\n",
       "      <th></th>\n",
       "      <th>keyword</th>\n",
       "      <th>text</th>\n",
       "      <th>lat</th>\n",
       "      <th>long</th>\n",
       "      <th>census</th>\n",
       "      <th>comp</th>\n",
       "      <th>category</th>\n",
       "      <th>LILATracts_1And10</th>\n",
       "      <th>county</th>\n",
       "      <th>state</th>\n",
       "    </tr>\n",
       "  </thead>\n",
       "  <tbody>\n",
       "    <tr>\n",
       "      <th>0</th>\n",
       "      <td>almond</td>\n",
       "      <td>Almond cake , mango and raspberry compote , le...</td>\n",
       "      <td>25.754059</td>\n",
       "      <td>-80.260989</td>\n",
       "      <td>12086006206</td>\n",
       "      <td>0.0000</td>\n",
       "      <td>healthy</td>\n",
       "      <td>0</td>\n",
       "      <td>12086</td>\n",
       "      <td>12</td>\n",
       "    </tr>\n",
       "    <tr>\n",
       "      <th>1</th>\n",
       "      <td>avocado</td>\n",
       "      <td>Breakfast all day : On the Mix Slam with avoca...</td>\n",
       "      <td>25.752978</td>\n",
       "      <td>-80.261223</td>\n",
       "      <td>12086006206</td>\n",
       "      <td>-0.4389</td>\n",
       "      <td>healthy</td>\n",
       "      <td>0</td>\n",
       "      <td>12086</td>\n",
       "      <td>12</td>\n",
       "    </tr>\n",
       "    <tr>\n",
       "      <th>2</th>\n",
       "      <td>mango</td>\n",
       "      <td>Almond cake , mango and raspberry compote , le...</td>\n",
       "      <td>25.754059</td>\n",
       "      <td>-80.260989</td>\n",
       "      <td>12086006206</td>\n",
       "      <td>0.0000</td>\n",
       "      <td>healthy</td>\n",
       "      <td>0</td>\n",
       "      <td>12086</td>\n",
       "      <td>12</td>\n",
       "    </tr>\n",
       "    <tr>\n",
       "      <th>3</th>\n",
       "      <td>raspberry</td>\n",
       "      <td>Almond cake , mango and raspberry compote , le...</td>\n",
       "      <td>25.754059</td>\n",
       "      <td>-80.260989</td>\n",
       "      <td>12086006206</td>\n",
       "      <td>0.0000</td>\n",
       "      <td>healthy</td>\n",
       "      <td>0</td>\n",
       "      <td>12086</td>\n",
       "      <td>12</td>\n",
       "    </tr>\n",
       "    <tr>\n",
       "      <th>4</th>\n",
       "      <td>raspberry</td>\n",
       "      <td>Dulcey , raspberry and coconut entremet at @ba...</td>\n",
       "      <td>25.754059</td>\n",
       "      <td>-80.260989</td>\n",
       "      <td>12086006206</td>\n",
       "      <td>0.0000</td>\n",
       "      <td>healthy</td>\n",
       "      <td>0</td>\n",
       "      <td>12086</td>\n",
       "      <td>12</td>\n",
       "    </tr>\n",
       "  </tbody>\n",
       "</table>\n",
       "</div>"
      ],
      "text/plain": [
       "     keyword                                               text        lat  \\\n",
       "0     almond  Almond cake , mango and raspberry compote , le...  25.754059   \n",
       "1    avocado  Breakfast all day : On the Mix Slam with avoca...  25.752978   \n",
       "2      mango  Almond cake , mango and raspberry compote , le...  25.754059   \n",
       "3  raspberry  Almond cake , mango and raspberry compote , le...  25.754059   \n",
       "4  raspberry  Dulcey , raspberry and coconut entremet at @ba...  25.754059   \n",
       "\n",
       "        long       census    comp category  LILATracts_1And10 county state  \n",
       "0 -80.260989  12086006206  0.0000  healthy                  0  12086    12  \n",
       "1 -80.261223  12086006206 -0.4389  healthy                  0  12086    12  \n",
       "2 -80.260989  12086006206  0.0000  healthy                  0  12086    12  \n",
       "3 -80.260989  12086006206  0.0000  healthy                  0  12086    12  \n",
       "4 -80.260989  12086006206  0.0000  healthy                  0  12086    12  "
      ]
     },
     "execution_count": 72,
     "metadata": {},
     "output_type": "execute_result"
    }
   ],
   "source": [
    "healthy.join()"
   ]
  },
  {
   "cell_type": "code",
   "execution_count": 68,
   "metadata": {},
   "outputs": [],
   "source": [
    "county_sent = healthy.groupby('county').mean()"
   ]
  },
  {
   "cell_type": "code",
   "execution_count": 69,
   "metadata": {},
   "outputs": [],
   "source": [
    "county_sent=county_sent[['comp','LILATracts_1And10']]"
   ]
  },
  {
   "cell_type": "code",
   "execution_count": 70,
   "metadata": {},
   "outputs": [
    {
     "data": {
      "text/html": [
       "<div>\n",
       "<style scoped>\n",
       "    .dataframe tbody tr th:only-of-type {\n",
       "        vertical-align: middle;\n",
       "    }\n",
       "\n",
       "    .dataframe tbody tr th {\n",
       "        vertical-align: top;\n",
       "    }\n",
       "\n",
       "    .dataframe thead th {\n",
       "        text-align: right;\n",
       "    }\n",
       "</style>\n",
       "<table border=\"1\" class=\"dataframe\">\n",
       "  <thead>\n",
       "    <tr style=\"text-align: right;\">\n",
       "      <th></th>\n",
       "      <th>comp</th>\n",
       "      <th>LILATracts_1And10</th>\n",
       "    </tr>\n",
       "    <tr>\n",
       "      <th>county</th>\n",
       "      <th></th>\n",
       "      <th></th>\n",
       "    </tr>\n",
       "  </thead>\n",
       "  <tbody>\n",
       "    <tr>\n",
       "      <th>01003</th>\n",
       "      <td>0.265528</td>\n",
       "      <td>0.034483</td>\n",
       "    </tr>\n",
       "    <tr>\n",
       "      <th>01031</th>\n",
       "      <td>0.000000</td>\n",
       "      <td>0.000000</td>\n",
       "    </tr>\n",
       "    <tr>\n",
       "      <th>01065</th>\n",
       "      <td>0.000000</td>\n",
       "      <td>0.000000</td>\n",
       "    </tr>\n",
       "    <tr>\n",
       "      <th>01069</th>\n",
       "      <td>-0.127267</td>\n",
       "      <td>0.666667</td>\n",
       "    </tr>\n",
       "    <tr>\n",
       "      <th>01073</th>\n",
       "      <td>0.217862</td>\n",
       "      <td>0.500000</td>\n",
       "    </tr>\n",
       "  </tbody>\n",
       "</table>\n",
       "</div>"
      ],
      "text/plain": [
       "            comp  LILATracts_1And10\n",
       "county                             \n",
       "01003   0.265528           0.034483\n",
       "01031   0.000000           0.000000\n",
       "01065   0.000000           0.000000\n",
       "01069  -0.127267           0.666667\n",
       "01073   0.217862           0.500000"
      ]
     },
     "execution_count": 70,
     "metadata": {},
     "output_type": "execute_result"
    }
   ],
   "source": [
    "county_sent.head()"
   ]
  },
  {
   "cell_type": "code",
   "execution_count": 32,
   "metadata": {},
   "outputs": [],
   "source": [
    "state_data = pd.read_csv('../data/state_data.csv',index_col=0)"
   ]
  },
  {
   "cell_type": "code",
   "execution_count": 47,
   "metadata": {},
   "outputs": [],
   "source": [
    "state_data['FIPS'] = state_data['FIPS'].apply(lambda x: \"0\"+str(x) if len(str(x))==1 else str(x)) \n",
    "state_data.set_index('FIPS',inplace=True)\n"
   ]
  },
  {
   "cell_type": "code",
   "execution_count": 49,
   "metadata": {},
   "outputs": [],
   "source": [
    "merged_state = state_sent.join(state_data)"
   ]
  },
  {
   "cell_type": "code",
   "execution_count": 51,
   "metadata": {},
   "outputs": [],
   "source": [
    "merged_state.to_csv('../data/state_sent.csv')"
   ]
  },
  {
   "cell_type": "code",
   "execution_count": 74,
   "metadata": {},
   "outputs": [],
   "source": [
    "merged_state['healthy_sent']=merged_state['comp']"
   ]
  },
  {
   "cell_type": "code",
   "execution_count": 111,
   "metadata": {},
   "outputs": [],
   "source": [
    "unhealthy = pd.read_csv('../data/twitter_mongo/ff_stores_final.csv',index_col='Unnamed: 0')\n",
    "unhealthy['census'] = unhealthy['census'].apply(lambda x: \"0\"+str(x) if len(str(x))==10 else str(x)) \n",
    "unhealthy['county'] = unhealthy['census'].apply(lambda x: x[:5])\n",
    "unhealthy['state'] = unhealthy['county'].apply(lambda x: x[:2])\n",
    "state_unhealthy = unhealthy.groupby('state').mean()\n",
    "state_unhealthy=state_unhealthy['comp']\n",
    "#state_unhealthy = state_unhealthy.join(state_data)\n",
    "#state_unhealthy.to_csv('../data/state_ff.csv')"
   ]
  },
  {
   "cell_type": "code",
   "execution_count": 112,
   "metadata": {},
   "outputs": [],
   "source": [
    "merged_state3 = merged_state2.join(state_unhealthy)"
   ]
  },
  {
   "cell_type": "code",
   "execution_count": 113,
   "metadata": {},
   "outputs": [],
   "source": [
    "merged_state3.fillna(merged_state3['comp'].mean(),inplace=True)"
   ]
  },
  {
   "cell_type": "code",
   "execution_count": 122,
   "metadata": {},
   "outputs": [
    {
     "data": {
      "text/html": [
       "<div>\n",
       "<style scoped>\n",
       "    .dataframe tbody tr th:only-of-type {\n",
       "        vertical-align: middle;\n",
       "    }\n",
       "\n",
       "    .dataframe tbody tr th {\n",
       "        vertical-align: top;\n",
       "    }\n",
       "\n",
       "    .dataframe thead th {\n",
       "        text-align: right;\n",
       "    }\n",
       "</style>\n",
       "<table border=\"1\" class=\"dataframe\">\n",
       "  <thead>\n",
       "    <tr style=\"text-align: right;\">\n",
       "      <th></th>\n",
       "      <th>LILATracts_1And10</th>\n",
       "      <th>abbreviation</th>\n",
       "      <th>name</th>\n",
       "      <th>healthy_sent</th>\n",
       "      <th>grocery_sent</th>\n",
       "      <th>unhealthy_sent</th>\n",
       "      <th>ff_sent</th>\n",
       "    </tr>\n",
       "    <tr>\n",
       "      <th>state</th>\n",
       "      <th></th>\n",
       "      <th></th>\n",
       "      <th></th>\n",
       "      <th></th>\n",
       "      <th></th>\n",
       "      <th></th>\n",
       "      <th></th>\n",
       "    </tr>\n",
       "  </thead>\n",
       "  <tbody>\n",
       "    <tr>\n",
       "      <th>01</th>\n",
       "      <td>0.217742</td>\n",
       "      <td>AL</td>\n",
       "      <td>ALABAMA</td>\n",
       "      <td>0.200741</td>\n",
       "      <td>0.159634</td>\n",
       "      <td>0.287100</td>\n",
       "      <td>0.327672</td>\n",
       "    </tr>\n",
       "    <tr>\n",
       "      <th>02</th>\n",
       "      <td>0.166667</td>\n",
       "      <td>AK</td>\n",
       "      <td>ALASKA</td>\n",
       "      <td>0.368133</td>\n",
       "      <td>0.159634</td>\n",
       "      <td>0.056150</td>\n",
       "      <td>0.336106</td>\n",
       "    </tr>\n",
       "    <tr>\n",
       "      <th>04</th>\n",
       "      <td>0.186747</td>\n",
       "      <td>AZ</td>\n",
       "      <td>ARIZONA</td>\n",
       "      <td>0.328105</td>\n",
       "      <td>0.299548</td>\n",
       "      <td>0.243346</td>\n",
       "      <td>0.288653</td>\n",
       "    </tr>\n",
       "    <tr>\n",
       "      <th>05</th>\n",
       "      <td>0.142857</td>\n",
       "      <td>AR</td>\n",
       "      <td>ARKANSAS</td>\n",
       "      <td>0.299902</td>\n",
       "      <td>0.159634</td>\n",
       "      <td>0.410703</td>\n",
       "      <td>0.327659</td>\n",
       "    </tr>\n",
       "    <tr>\n",
       "      <th>06</th>\n",
       "      <td>0.028638</td>\n",
       "      <td>CA</td>\n",
       "      <td>CALIFORNIA</td>\n",
       "      <td>0.262870</td>\n",
       "      <td>0.155814</td>\n",
       "      <td>0.287623</td>\n",
       "      <td>0.288852</td>\n",
       "    </tr>\n",
       "  </tbody>\n",
       "</table>\n",
       "</div>"
      ],
      "text/plain": [
       "       LILATracts_1And10 abbreviation        name  healthy_sent  grocery_sent  \\\n",
       "state                                                                           \n",
       "01              0.217742           AL     ALABAMA      0.200741      0.159634   \n",
       "02              0.166667           AK      ALASKA      0.368133      0.159634   \n",
       "04              0.186747           AZ     ARIZONA      0.328105      0.299548   \n",
       "05              0.142857           AR    ARKANSAS      0.299902      0.159634   \n",
       "06              0.028638           CA  CALIFORNIA      0.262870      0.155814   \n",
       "\n",
       "       unhealthy_sent   ff_sent  \n",
       "state                            \n",
       "01           0.287100  0.327672  \n",
       "02           0.056150  0.336106  \n",
       "04           0.243346  0.288653  \n",
       "05           0.410703  0.327659  \n",
       "06           0.287623  0.288852  "
      ]
     },
     "execution_count": 122,
     "metadata": {},
     "output_type": "execute_result"
    }
   ],
   "source": [
    "merged_state3.head()"
   ]
  },
  {
   "cell_type": "code",
   "execution_count": 121,
   "metadata": {},
   "outputs": [],
   "source": [
    "merged_state3.rename(columns={'comp':'ff_sent'}, inplace=True)"
   ]
  },
  {
   "cell_type": "code",
   "execution_count": 145,
   "metadata": {},
   "outputs": [],
   "source": [
    "arr=np.array(['unhealthy','healthy'])\n",
    "final = arr[(np.array(merged_state3['grocery_sent']+merged_state3['healthy_sent'])>(merged_state3['ff_sent']+merged_state3['unhealthy_sent']).values)*1]"
   ]
  },
  {
   "cell_type": "code",
   "execution_count": 123,
   "metadata": {},
   "outputs": [],
   "source": [
    "max_val = merged_state3[['healthy_sent','grocery_sent','ff_sent','unhealthy_sent']].idxmax(axis=1)"
   ]
  },
  {
   "cell_type": "code",
   "execution_count": 125,
   "metadata": {},
   "outputs": [],
   "source": [
    "merged_state3['max_sent']=max_val"
   ]
  },
  {
   "cell_type": "code",
   "execution_count": 146,
   "metadata": {},
   "outputs": [],
   "source": [
    "merged_state3['final_sent']=final"
   ]
  },
  {
   "cell_type": "code",
   "execution_count": 147,
   "metadata": {},
   "outputs": [],
   "source": [
    "merged_state3.to_csv('../data/grouped_state_sent.csv')"
   ]
  },
  {
   "cell_type": "markdown",
   "metadata": {},
   "source": [
    "### UNHEALTHY FOODS"
   ]
  },
  {
   "cell_type": "code",
   "execution_count": 9,
   "metadata": {
    "scrolled": true
   },
   "outputs": [
    {
     "data": {
      "text/plain": [
       "LILATracts_1And10\n",
       "0    0.298508\n",
       "1    0.310094\n",
       "Name: comp, dtype: float64"
      ]
     },
     "execution_count": 9,
     "metadata": {},
     "output_type": "execute_result"
    }
   ],
   "source": [
    "unhealthy = pd.read_csv('../data/twitter_mongo/unhealthy_final.csv',index_col='Unnamed: 0')\n",
    "\n",
    "unhealthy.groupby('LILATracts_1And10').mean()['comp']"
   ]
  },
  {
   "cell_type": "markdown",
   "metadata": {},
   "source": [
    "### GROCERY STORES"
   ]
  },
  {
   "cell_type": "code",
   "execution_count": 10,
   "metadata": {
    "scrolled": true
   },
   "outputs": [
    {
     "data": {
      "text/plain": [
       "LILATracts_1And10\n",
       "0    0.219386\n",
       "1    0.432712\n",
       "Name: comp, dtype: float64"
      ]
     },
     "execution_count": 10,
     "metadata": {},
     "output_type": "execute_result"
    }
   ],
   "source": [
    "grocery = pd.read_csv('../data/twitter_mongo/grocery_stores_final.csv',index_col='Unnamed: 0')\n",
    "\n",
    "grocery.groupby('LILATracts_1And10').mean()['comp']"
   ]
  },
  {
   "cell_type": "code",
   "execution_count": 52,
   "metadata": {},
   "outputs": [],
   "source": [
    "unhealthy = pd.read_csv('../data/twitter_mongo/unhealthy_final.csv',index_col='Unnamed: 0')"
   ]
  },
  {
   "cell_type": "code",
   "execution_count": 53,
   "metadata": {},
   "outputs": [
    {
     "data": {
      "text/plain": [
       "0       39041\n",
       "1       38035\n",
       "2       38035\n",
       "3        6059\n",
       "4        6059\n",
       "5        6037\n",
       "6        6037\n",
       "7        6037\n",
       "8        6037\n",
       "9       48029\n",
       "10      48029\n",
       "11      20137\n",
       "12      20137\n",
       "13      20137\n",
       "14      20137\n",
       "15      20137\n",
       "16      20137\n",
       "17      20137\n",
       "18      20137\n",
       "19      20137\n",
       "20      20137\n",
       "21      20137\n",
       "22      20137\n",
       "23      20137\n",
       "24      20137\n",
       "25      20137\n",
       "26      20137\n",
       "27      20137\n",
       "28      20137\n",
       "29      20137\n",
       "        ...  \n",
       "9586    37135\n",
       "9587     6075\n",
       "9588    17031\n",
       "9589     6037\n",
       "9590    45051\n",
       "9591    21235\n",
       "9592    47165\n",
       "9593    13121\n",
       "9594    12097\n",
       "9595    36047\n",
       "9596     5119\n",
       "9597    53053\n",
       "9598     6037\n",
       "9599    24510\n",
       "9600    27053\n",
       "9601    19169\n",
       "9602    13089\n",
       "9603    22071\n",
       "9604    34005\n",
       "9605    26125\n",
       "9606    27137\n",
       "9607    21107\n",
       "9608    26081\n",
       "9609    48201\n",
       "9610    42101\n",
       "9611    42101\n",
       "9612    24003\n",
       "9613    26163\n",
       "9614    17031\n",
       "9615    17031\n",
       "Name: county, Length: 9616, dtype: int64"
      ]
     },
     "execution_count": 53,
     "metadata": {},
     "output_type": "execute_result"
    }
   ],
   "source": [
    "unhealthy.county"
   ]
  },
  {
   "cell_type": "code",
   "execution_count": 54,
   "metadata": {},
   "outputs": [],
   "source": [
    "unhealthy['census'] = unhealthy['census'].apply(lambda x: \"0\"+str(x) if len(str(x))==10 else str(x)) \n",
    "unhealthy['county'] = unhealthy['census'].apply(lambda x: x[:5])\n",
    "unhealthy['state'] = unhealthy['county'].apply(lambda x: x[:2])\n"
   ]
  },
  {
   "cell_type": "markdown",
   "metadata": {},
   "source": [
    "### FAST FOODS"
   ]
  },
  {
   "cell_type": "code",
   "execution_count": 11,
   "metadata": {},
   "outputs": [
    {
     "data": {
      "text/plain": [
       "LILATracts_1And10\n",
       "0    0.300494\n",
       "1    0.344389\n",
       "Name: comp, dtype: float64"
      ]
     },
     "execution_count": 11,
     "metadata": {},
     "output_type": "execute_result"
    }
   ],
   "source": [
    "fastfood = pd.read_csv('../data/twitter_mongo/ff_stores_final.csv',index_col='Unnamed: 0')\n",
    "\n",
    "fastfood.groupby('LILATracts_1And10').mean()['comp']"
   ]
  }
 ],
 "metadata": {
  "kernelspec": {
   "display_name": "Python 3",
   "language": "python",
   "name": "python3"
  },
  "language_info": {
   "codemirror_mode": {
    "name": "ipython",
    "version": 3
   },
   "file_extension": ".py",
   "mimetype": "text/x-python",
   "name": "python",
   "nbconvert_exporter": "python",
   "pygments_lexer": "ipython3",
   "version": "3.6.8"
  }
 },
 "nbformat": 4,
 "nbformat_minor": 2
}
