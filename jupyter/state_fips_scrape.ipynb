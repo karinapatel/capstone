{
 "cells": [
  {
   "cell_type": "code",
   "execution_count": 28,
   "metadata": {},
   "outputs": [],
   "source": [
    "import requests\n",
    "from bs4 import BeautifulSoup\n",
    "from urllib.request import urlopen\n",
    "from http.client import HTTPSConnection #note the S\n",
    "import pandas as pd\n",
    "import numpy as np"
   ]
  },
  {
   "cell_type": "code",
   "execution_count": 2,
   "metadata": {},
   "outputs": [],
   "source": [
    "URL=\"https://www.mcc.co.mercer.pa.us/dps/state_fips_code_listing.htm\"\n",
    "content = requests.get(URL).content\n",
    "soup = BeautifulSoup(content, \"html.parser\")"
   ]
  },
  {
   "cell_type": "code",
   "execution_count": 43,
   "metadata": {},
   "outputs": [],
   "source": [
    "values=[]\n",
    "row=[]\n",
    "for ind,val in enumerate(soup.table.find_all('td')[6:],1):\n",
    "    if val.text != '\\xa0':\n",
    "        row.append(val.text)\n"
   ]
  },
  {
   "cell_type": "code",
   "execution_count": 55,
   "metadata": {},
   "outputs": [
    {
     "data": {
      "text/plain": [
       "165"
      ]
     },
     "execution_count": 55,
     "metadata": {},
     "output_type": "execute_result"
    }
   ],
   "source": [
    "len(row)"
   ]
  },
  {
   "cell_type": "code",
   "execution_count": 61,
   "metadata": {},
   "outputs": [
    {
     "data": {
      "text/plain": [
       "array([['AK', 'MS', 'AL', 'MT', 'AR', 'NC', 'AS', 'ND', 'AZ', 'NE', 'CA',\n",
       "        'NH', 'CO', 'NJ', 'CT', 'NM', 'DC', 'NV', 'DE', 'NY', 'FL', 'OH',\n",
       "        'GA', 'OK', 'GU', 'OR', 'HI', 'PA', 'IA', 'PR', 'ID', 'RI', 'IL',\n",
       "        'SC', 'IN', 'SD', 'KS', 'TN', 'KY', 'TX', 'LA', 'UT', 'MA', 'VA',\n",
       "        'MD', 'VI', 'ME', 'VT', 'MI', 'WA', 'MN', 'WI', 'MO', 'WV', 'WY'],\n",
       "       ['02', '28', '01', '30', '05', '37', '60', '38', '04', '31', '06',\n",
       "        '33', '08', '34', '09', '35', '11', '32', '10', '36', '12', '39',\n",
       "        '13', '40', '66', '41', '15', '42', '19', '72', '16', '44', '17',\n",
       "        '45', '18', '46', '20', '47', '21', '48', '22', '49', '25', '51',\n",
       "        '24', '78', '23', '50', '26', '53', '27', '55', '29', '54', '56'],\n",
       "       ['ALASKA', 'MISSISSIPPI', 'ALABAMA', 'MONTANA', 'ARKANSAS',\n",
       "        'NORTH CAROLINA', 'AMERICAN SAMOA', 'NORTH DAKOTA', 'ARIZONA',\n",
       "        'NEBRASKA', 'CALIFORNIA', 'NEW HAMPSHIRE', 'COLORADO',\n",
       "        'NEW JERSEY', 'CONNECTICUT', 'NEW MEXICO',\n",
       "        'DISTRICT OF COLUMBIA', 'NEVADA', 'DELAWARE', 'NEW YORK',\n",
       "        'FLORIDA', 'OHIO', 'GEORGIA', 'OKLAHOMA', 'GUAM', 'OREGON',\n",
       "        'HAWAII', 'PENNSYLVANIA', 'IOWA', 'PUERTO RICO', 'IDAHO',\n",
       "        'RHODE ISLAND', 'ILLINOIS', 'SOUTH CAROLINA', 'INDIANA',\n",
       "        'SOUTH DAKOTA', 'KANSAS', 'TENNESSEE', 'KENTUCKY', 'TEXAS',\n",
       "        'LOUISIANA', 'UTAH', 'MASSACHUSETTS', 'VIRGINIA', 'MARYLAND',\n",
       "        'VIRGIN ISLANDS', 'MAINE', 'VERMONT', 'MICHIGAN', 'WASHINGTON',\n",
       "        'MINNESOTA', 'WISCONSIN', 'MISSOURI', 'WEST VIRGINIA', 'WYOMING']],\n",
       "      dtype='<U20')"
      ]
     },
     "execution_count": 61,
     "metadata": {},
     "output_type": "execute_result"
    }
   ],
   "source": [
    "abbr=[]\n",
    "fips=[]\n",
    "name=[]\n",
    "for ind in range(0,165,3):\n",
    "    abbr.append(row[ind])\n",
    "    fips.append(row[ind+1])\n",
    "    name.append(row[ind+2])\n",
    "np.array([abbr,fips,name])"
   ]
  },
  {
   "cell_type": "code",
   "execution_count": 64,
   "metadata": {},
   "outputs": [],
   "source": [
    "state_data = pd.DataFrame(np.array([abbr,fips,name]).T,columns=['abbreviation','FIPS','name'])"
   ]
  },
  {
   "cell_type": "code",
   "execution_count": 65,
   "metadata": {},
   "outputs": [],
   "source": [
    "state_data.to_csv('../data/state_data.csv')"
   ]
  }
 ],
 "metadata": {
  "kernelspec": {
   "display_name": "Python 3",
   "language": "python",
   "name": "python3"
  },
  "language_info": {
   "codemirror_mode": {
    "name": "ipython",
    "version": 3
   },
   "file_extension": ".py",
   "mimetype": "text/x-python",
   "name": "python",
   "nbconvert_exporter": "python",
   "pygments_lexer": "ipython3",
   "version": "3.6.8"
  }
 },
 "nbformat": 4,
 "nbformat_minor": 2
}
