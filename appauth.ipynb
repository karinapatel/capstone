{
 "cells": [
  {
   "cell_type": "code",
   "execution_count": 14,
   "metadata": {},
   "outputs": [],
   "source": [
    "import yaml\n",
    "import requests\n",
    "import base64\n",
    "import json\n",
    "from pymongo import MongoClient\n",
    "import time\n",
    "from datetime import datetime,timedelta\n",
    "import nltk\n",
    "from nltk.sentiment.vader import SentimentIntensityAnalyzer\n",
    "import pandas as pd"
   ]
  },
  {
   "cell_type": "code",
   "execution_count": 3,
   "metadata": {},
   "outputs": [],
   "source": [
    "sid = SentimentIntensityAnalyzer()"
   ]
  },
  {
   "cell_type": "code",
   "execution_count": 4,
   "metadata": {},
   "outputs": [],
   "source": [
    "def load_api_key(filename='twitter_api_key.yaml'):\n",
    "    \"\"\"Load Yelp API client ID and client secret and return them as a dictionary.\"\"\"\n",
    "    with open(filename) as f:\n",
    "        return yaml.load(f)\n",
    "    \n",
    "key = load_api_key()"
   ]
  },
  {
   "cell_type": "code",
   "execution_count": 5,
   "metadata": {},
   "outputs": [],
   "source": [
    "client_key = key['consumer_key']\n",
    "client_secret = key['consumer_secret']\n",
    "\n",
    "key_secret = '{}:{}'.format(client_key, client_secret).encode('ascii')\n",
    "b64_encoded_key = base64.b64encode(key_secret)\n",
    "b64_encoded_key = b64_encoded_key.decode('ascii')"
   ]
  },
  {
   "cell_type": "code",
   "execution_count": 6,
   "metadata": {},
   "outputs": [],
   "source": [
    "base_url = 'https://api.twitter.com/'\n",
    "auth_url = '{}oauth2/token'.format(base_url)\n",
    "\n",
    "auth_headers = {\n",
    "    'Authorization': 'Basic {}'.format(b64_encoded_key),\n",
    "    'Content-Type': 'application/x-www-form-urlencoded;charset=UTF-8'\n",
    "}\n",
    "\n",
    "auth_data = {\n",
    "    'grant_type': 'client_credentials'\n",
    "}\n",
    "\n",
    "auth_resp = requests.post(auth_url, headers=auth_headers, data=auth_data)"
   ]
  },
  {
   "cell_type": "code",
   "execution_count": 7,
   "metadata": {},
   "outputs": [
    {
     "data": {
      "text/plain": [
       "200"
      ]
     },
     "execution_count": 7,
     "metadata": {},
     "output_type": "execute_result"
    }
   ],
   "source": [
    "auth_resp.status_code"
   ]
  },
  {
   "cell_type": "code",
   "execution_count": 8,
   "metadata": {},
   "outputs": [
    {
     "data": {
      "text/plain": [
       "dict_keys(['token_type', 'access_token'])"
      ]
     },
     "execution_count": 8,
     "metadata": {},
     "output_type": "execute_result"
    }
   ],
   "source": [
    "auth_resp.json().keys()"
   ]
  },
  {
   "cell_type": "code",
   "execution_count": 9,
   "metadata": {},
   "outputs": [],
   "source": [
    "access_token = auth_resp.json()['access_token']"
   ]
  },
  {
   "cell_type": "code",
   "execution_count": 10,
   "metadata": {},
   "outputs": [],
   "source": [
    "search_headers = {\n",
    "    'Authorization': 'Bearer {}'.format(access_token)    \n",
    "}"
   ]
  },
  {
   "cell_type": "code",
   "execution_count": 11,
   "metadata": {},
   "outputs": [],
   "source": [
    "search_params = {\n",
    "    'q': 'kroger',\n",
    "    'lang':'en',\n",
    "    'count': 2,\n",
    "    'tweet_mode':'extended',\n",
    "    'geocode':\"37.781157,-122.398720,500mi\"\n",
    "}\n",
    "\n",
    "search_url = '{}1.1/search/tweets.json'.format(base_url)\n",
    "\n",
    "search_resp = requests.get(search_url, headers=search_headers, params=search_params)"
   ]
  },
  {
   "cell_type": "code",
   "execution_count": 13,
   "metadata": {},
   "outputs": [
    {
     "data": {
      "text/plain": [
       "[{'created_at': 'Wed Mar 27 21:00:16 +0000 2019',\n",
       "  'id': 1111010066528911360,\n",
       "  'id_str': '1111010066528911360',\n",
       "  'full_text': 'Walgreens, Kroger Lose Drug Pricing Suit Against J&amp;J https://t.co/Spfrbky9zx',\n",
       "  'truncated': False,\n",
       "  'display_text_range': [0, 80],\n",
       "  'entities': {'hashtags': [],\n",
       "   'symbols': [],\n",
       "   'user_mentions': [],\n",
       "   'urls': [{'url': 'https://t.co/Spfrbky9zx',\n",
       "     'expanded_url': 'https://lnkd.in/ee5JXEv',\n",
       "     'display_url': 'lnkd.in/ee5JXEv',\n",
       "     'indices': [57, 80]}]},\n",
       "  'metadata': {'iso_language_code': 'en', 'result_type': 'recent'},\n",
       "  'source': '<a href=\"http://www.linkedin.com/\" rel=\"nofollow\">LinkedIn</a>',\n",
       "  'in_reply_to_status_id': None,\n",
       "  'in_reply_to_status_id_str': None,\n",
       "  'in_reply_to_user_id': None,\n",
       "  'in_reply_to_user_id_str': None,\n",
       "  'in_reply_to_screen_name': None,\n",
       "  'user': {'id': 148680026,\n",
       "   'id_str': '148680026',\n",
       "   'name': 'Edouard Lassalle',\n",
       "   'screen_name': 'Elassalle',\n",
       "   'location': 'San Francisco, CA',\n",
       "   'description': 'Business consultant for the pharma industry. Passionate about politics. My tweets are my own.',\n",
       "   'url': None,\n",
       "   'entities': {'description': {'urls': []}},\n",
       "   'protected': False,\n",
       "   'followers_count': 346,\n",
       "   'friends_count': 325,\n",
       "   'listed_count': 26,\n",
       "   'created_at': 'Thu May 27 09:48:21 +0000 2010',\n",
       "   'favourites_count': 29,\n",
       "   'utc_offset': None,\n",
       "   'time_zone': None,\n",
       "   'geo_enabled': True,\n",
       "   'verified': False,\n",
       "   'statuses_count': 8043,\n",
       "   'lang': 'en',\n",
       "   'contributors_enabled': False,\n",
       "   'is_translator': False,\n",
       "   'is_translation_enabled': False,\n",
       "   'profile_background_color': 'FAF9F0',\n",
       "   'profile_background_image_url': 'http://abs.twimg.com/images/themes/theme1/bg.png',\n",
       "   'profile_background_image_url_https': 'https://abs.twimg.com/images/themes/theme1/bg.png',\n",
       "   'profile_background_tile': False,\n",
       "   'profile_image_url': 'http://pbs.twimg.com/profile_images/804497932602982401/CgsNCVOt_normal.jpg',\n",
       "   'profile_image_url_https': 'https://pbs.twimg.com/profile_images/804497932602982401/CgsNCVOt_normal.jpg',\n",
       "   'profile_banner_url': 'https://pbs.twimg.com/profile_banners/148680026/1480642269',\n",
       "   'profile_link_color': 'F0A818',\n",
       "   'profile_sidebar_border_color': 'FFFFFF',\n",
       "   'profile_sidebar_fill_color': 'BAF5A6',\n",
       "   'profile_text_color': '124D06',\n",
       "   'profile_use_background_image': True,\n",
       "   'has_extended_profile': False,\n",
       "   'default_profile': False,\n",
       "   'default_profile_image': False,\n",
       "   'following': None,\n",
       "   'follow_request_sent': None,\n",
       "   'notifications': None,\n",
       "   'translator_type': 'none'},\n",
       "  'geo': None,\n",
       "  'coordinates': None,\n",
       "  'place': None,\n",
       "  'contributors': None,\n",
       "  'is_quote_status': False,\n",
       "  'retweet_count': 0,\n",
       "  'favorite_count': 0,\n",
       "  'favorited': False,\n",
       "  'retweeted': False,\n",
       "  'possibly_sensitive': False,\n",
       "  'lang': 'en'},\n",
       " {'created_at': 'Wed Mar 27 20:06:56 +0000 2019',\n",
       "  'id': 1110996647767609345,\n",
       "  'id_str': '1110996647767609345',\n",
       "  'full_text': \"Racist Mass Public Shooting at Louisville (KY) Kroger stopped by concealed handgun permit holder [FREE California #CCW class in #OC - PLUS virtually unlimited Free Training at Front Sight (world's largest shooting school) - connect on FB @ LivingTrust] https://t.co/7OtQOX6OYc\",\n",
       "  'truncated': False,\n",
       "  'display_text_range': [0, 276],\n",
       "  'entities': {'hashtags': [{'text': 'CCW', 'indices': [114, 118]},\n",
       "    {'text': 'OC', 'indices': [128, 131]}],\n",
       "   'symbols': [],\n",
       "   'user_mentions': [],\n",
       "   'urls': [{'url': 'https://t.co/7OtQOX6OYc',\n",
       "     'expanded_url': 'https://lawnews.tv/racist-mass-public-shooting-at-louisville-ky-kroger-stopped-by-white-concealed-handgun-permit-holder/?utm_source=ReviveOldPost&utm_medium=social&utm_campaign=ReviveOldPost',\n",
       "     'display_url': 'lawnews.tv/racist-mass-pu…',\n",
       "     'indices': [253, 276]}]},\n",
       "  'metadata': {'iso_language_code': 'en', 'result_type': 'recent'},\n",
       "  'source': '<a href=\"https://lawnews.tv\" rel=\"nofollow\">David Duringer</a>',\n",
       "  'in_reply_to_status_id': None,\n",
       "  'in_reply_to_status_id_str': None,\n",
       "  'in_reply_to_user_id': None,\n",
       "  'in_reply_to_user_id_str': None,\n",
       "  'in_reply_to_screen_name': None,\n",
       "  'user': {'id': 32258396,\n",
       "   'id_str': '32258396',\n",
       "   'name': 'Protective Law Corp.',\n",
       "   'screen_name': 'guntrust',\n",
       "   'location': 'Orange County, CA',\n",
       "   'description': \"FREE #CCW Class in #LagunaHills #OC #OrangeCounty (it's also an #EstatePlanning seminar) #2A #NRA #Guns #Attorney @DaveDuringer #tcot https://t.co/It9a1BZrsb\",\n",
       "   'url': 'http://t.co/8yesKFHqSN',\n",
       "   'entities': {'url': {'urls': [{'url': 'http://t.co/8yesKFHqSN',\n",
       "       'expanded_url': 'http://LawNews.TV',\n",
       "       'display_url': 'LawNews.TV',\n",
       "       'indices': [0, 22]}]},\n",
       "    'description': {'urls': [{'url': 'https://t.co/It9a1BZrsb',\n",
       "       'expanded_url': 'http://youtube.com/LawNews',\n",
       "       'display_url': 'youtube.com/LawNews',\n",
       "       'indices': [134, 157]}]}},\n",
       "   'protected': False,\n",
       "   'followers_count': 100245,\n",
       "   'friends_count': 11504,\n",
       "   'listed_count': 853,\n",
       "   'created_at': 'Fri Apr 17 02:17:52 +0000 2009',\n",
       "   'favourites_count': 3677,\n",
       "   'utc_offset': None,\n",
       "   'time_zone': None,\n",
       "   'geo_enabled': False,\n",
       "   'verified': False,\n",
       "   'statuses_count': 88241,\n",
       "   'lang': 'en',\n",
       "   'contributors_enabled': False,\n",
       "   'is_translator': False,\n",
       "   'is_translation_enabled': False,\n",
       "   'profile_background_color': '4C4E49',\n",
       "   'profile_background_image_url': 'http://abs.twimg.com/images/themes/theme18/bg.gif',\n",
       "   'profile_background_image_url_https': 'https://abs.twimg.com/images/themes/theme18/bg.gif',\n",
       "   'profile_background_tile': True,\n",
       "   'profile_image_url': 'http://pbs.twimg.com/profile_images/462691039816331264/GlmRdI1Y_normal.png',\n",
       "   'profile_image_url_https': 'https://pbs.twimg.com/profile_images/462691039816331264/GlmRdI1Y_normal.png',\n",
       "   'profile_banner_url': 'https://pbs.twimg.com/profile_banners/32258396/1399331094',\n",
       "   'profile_link_color': 'FFA600',\n",
       "   'profile_sidebar_border_color': 'FFFFFF',\n",
       "   'profile_sidebar_fill_color': '495958',\n",
       "   'profile_text_color': '808E81',\n",
       "   'profile_use_background_image': True,\n",
       "   'has_extended_profile': False,\n",
       "   'default_profile': False,\n",
       "   'default_profile_image': False,\n",
       "   'following': None,\n",
       "   'follow_request_sent': None,\n",
       "   'notifications': None,\n",
       "   'translator_type': 'none'},\n",
       "  'geo': None,\n",
       "  'coordinates': None,\n",
       "  'place': None,\n",
       "  'contributors': None,\n",
       "  'is_quote_status': False,\n",
       "  'retweet_count': 0,\n",
       "  'favorite_count': 0,\n",
       "  'favorited': False,\n",
       "  'retweeted': False,\n",
       "  'possibly_sensitive': False,\n",
       "  'lang': 'en'}]"
      ]
     },
     "execution_count": 13,
     "metadata": {},
     "output_type": "execute_result"
    }
   ],
   "source": [
    "res = json.loads( search_resp.content )\n",
    "res['statuses']"
   ]
  },
  {
   "cell_type": "code",
   "execution_count": 11,
   "metadata": {},
   "outputs": [],
   "source": [
    "url = 'https://api.twitter.com/1.1/application/rate_limit_status.json'\n",
    "\n",
    "search_resp = requests.get(url, headers=search_headers)"
   ]
  },
  {
   "cell_type": "code",
   "execution_count": 12,
   "metadata": {},
   "outputs": [
    {
     "data": {
      "text/plain": [
       "{'/search/tweets': {'limit': 450, 'remaining': 450, 'reset': 1553747857}}"
      ]
     },
     "execution_count": 12,
     "metadata": {},
     "output_type": "execute_result"
    }
   ],
   "source": [
    "json.loads(search_resp.content)['resources']['search']"
   ]
  },
  {
   "cell_type": "code",
   "execution_count": 17,
   "metadata": {},
   "outputs": [],
   "source": [
    "healthy = pd.read_csv('data/healthy.csv', header = None)"
   ]
  },
  {
   "cell_type": "code",
   "execution_count": 21,
   "metadata": {},
   "outputs": [],
   "source": [
    "healthy_foods = list(healthy[0])"
   ]
  },
  {
   "cell_type": "code",
   "execution_count": 25,
   "metadata": {},
   "outputs": [],
   "source": [
    "client = MongoClient()\n",
    "db = client['capstone']\n",
    "coll=db['healthy']"
   ]
  },
  {
   "cell_type": "code",
   "execution_count": null,
   "metadata": {},
   "outputs": [
    {
     "name": "stdout",
     "output_type": "stream",
     "text": [
      "starting:  almond\n",
      "current request count:  50\n",
      "starting:  apple\n",
      "current request count:  100\n",
      "current request count:  150\n",
      "current request count:  200\n",
      "current request count:  250\n",
      "current request count:  300\n",
      "current request count:  350\n",
      "current request count:  400\n",
      "sleep time\n",
      "current request count:  50\n",
      "current request count:  100\n",
      "current request count:  150\n",
      "current request count:  200\n",
      "current request count:  250\n",
      "current request count:  300\n",
      "current request count:  350\n",
      "current request count:  400\n",
      "sleep time\n",
      "current request count:  50\n",
      "current request count:  100\n",
      "current request count:  150\n",
      "current request count:  200\n",
      "current request count:  250\n",
      "current request count:  300\n",
      "current request count:  350\n",
      "current request count:  400\n",
      "sleep time\n"
     ]
    }
   ],
   "source": [
    "#words = ['safeway','albertsons','ralphs','kroger','trader joe\\'s','whole foods','jewel-osco', 'pavilions', 'food 4 less','randalls','tom thumb','star market','vons','united supermarkets','acme markets', 'carrs']\n",
    "words = healthy_foods\n",
    "\n",
    "req_count = 0\n",
    "for query in words:\n",
    "    print(\"starting: \",query)\n",
    "    current = datetime.now()\n",
    "    Prior = datetime.now() - timedelta(days=2)\n",
    "    c = 0\n",
    "    lst = []\n",
    "    s = []\n",
    "    q = query + \" -filter:retweets\"\n",
    "    while current>Prior:\n",
    "        if c == 0:\n",
    "            search_params = {\n",
    "                'q': q,\n",
    "                'lang':'en',\n",
    "                'count': 100,\n",
    "                'tweet_mode':'extended'\n",
    "                #,'geocode':\"41.878485,-87.627893,100mi\"\n",
    "            }\n",
    "\n",
    "            search_url = '{}1.1/search/tweets.json'.format(base_url)\n",
    "\n",
    "            search_resp = requests.get(search_url, headers=search_headers, params=search_params)\n",
    "            \n",
    "            Query = json.loads( search_resp.content )\n",
    "            \n",
    "            #Query = t.search.tweets(q=q,lang='en', count=100,tweet_mode='extended',geocode=\"41.878485,-87.627893,100mi\")['statuses']\n",
    "            #Query = t.search.tweets(q=q,result_type='recent',count=100,tweet_mode='extended')\n",
    "            next_cursor = Query['search_metadata']['next_results']\n",
    "            c+=1\n",
    "        else:\n",
    "            search_params = {\n",
    "                'q': q,\n",
    "                'lang':'en',\n",
    "                'count': 100,\n",
    "                'tweet_mode':'extended',\n",
    "                'max_id': max_id\n",
    "                #,'geocode':\"41.878485,-87.627893,100mi\",\n",
    "            }\n",
    "\n",
    "            search_url = '{}1.1/search/tweets.json'.format(base_url)\n",
    "\n",
    "            search_resp = requests.get(search_url, headers=search_headers, params=search_params)\n",
    "            \n",
    "            Query = json.loads( search_resp.content )\n",
    "                        \n",
    "            #Query = t.search.tweets(q=q,result_type='recent',count=100,max_id=max_id,tweet_mode='extended')\n",
    "            next_cursor = Query['search_metadata']['next_results']\n",
    "            c+=1\n",
    "            \n",
    "        for i,tweet in enumerate(Query['statuses']):\n",
    "            if tweet['id'] not in s and query in tweet['full_text'].lower():\n",
    "                date = tweet['created_at']\n",
    "                current = datetime.strptime(date, '%a %b %d %H:%M:%S +0000 %Y')\n",
    "                lst.append(tweet['full_text'])\n",
    "                s.append(tweet['id'])\n",
    "                ss = sid.polarity_scores(tweet['full_text'])\n",
    "                coll.insert_one({'full_data': tweet,'text': tweet['full_text'],'keyword':query, 'sentiment':ss})\n",
    "        req_count+=1\n",
    "        if req_count % 50 == 0:\n",
    "            print(\"current request count: \", req_count)\n",
    "        max_id = tweet['id']\n",
    "        if req_count>448:\n",
    "            print(\"sleep time\")\n",
    "            time.sleep(60*15)\n",
    "            req_count = 0\n",
    "print(\"finished pull\")"
   ]
  },
  {
   "cell_type": "code",
   "execution_count": null,
   "metadata": {},
   "outputs": [],
   "source": []
  }
 ],
 "metadata": {
  "kernelspec": {
   "display_name": "Python 3",
   "language": "python",
   "name": "python3"
  },
  "language_info": {
   "codemirror_mode": {
    "name": "ipython",
    "version": 3
   },
   "file_extension": ".py",
   "mimetype": "text/x-python",
   "name": "python",
   "nbconvert_exporter": "python",
   "pygments_lexer": "ipython3",
   "version": "3.6.8"
  }
 },
 "nbformat": 4,
 "nbformat_minor": 2
}
